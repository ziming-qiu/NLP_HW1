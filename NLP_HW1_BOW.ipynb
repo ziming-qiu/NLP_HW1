{
 "cells": [
  {
   "cell_type": "code",
   "execution_count": 1,
   "metadata": {},
   "outputs": [],
   "source": [
    "import re\n",
    "import os\n",
    "import numpy as np\n",
    "import pandas as pd\n",
    "from tqdm import tqdm"
   ]
  },
  {
   "cell_type": "code",
   "execution_count": 2,
   "metadata": {},
   "outputs": [],
   "source": [
    "max_vocab_size = 70000\n",
    "MAX_SENTENCE_LENGTH = 400\n",
    "emb_dim = 100\n",
    "n_gram_model = 1\n",
    "optimizer_flag = 1 #0 for SGD, 1 for Adam"
   ]
  },
  {
   "cell_type": "code",
   "execution_count": 3,
   "metadata": {},
   "outputs": [
    {
     "name": "stdout",
     "output_type": "stream",
     "text": [
      "./aclImdb/train/neg\n",
      "./aclImdb/train/pos\n",
      "./aclImdb/test/neg\n",
      "./aclImdb/test/pos\n",
      "Train dataset size is 20000\n",
      "Val dataset size is 5000\n",
      "Test dataset size is 25000\n"
     ]
    }
   ],
   "source": [
    "def load_train_test_imdb_data(data_dir):\n",
    "    \"\"\"Loads the IMDB train/test datasets from a folder path.\n",
    "    Input:\n",
    "    data_dir: path to the \"aclImdb\" folder.\n",
    "    \n",
    "    Returns:\n",
    "    train/test datasets as pandas dataframes.\n",
    "    \"\"\"\n",
    "    data = {}\n",
    "    for split in [\"train\", \"test\"]:\n",
    "        data[split] = []\n",
    "        for sentiment in [\"neg\", \"pos\"]:\n",
    "            score = 1 if sentiment == \"pos\" else 0\n",
    "\n",
    "            path = os.path.join(data_dir, split, sentiment)\n",
    "            print(path)\n",
    "            file_names = os.listdir(path)\n",
    "            for f_name in file_names:\n",
    "                with open(os.path.join(path, f_name), \"r\") as f:\n",
    "                    review = f.read()\n",
    "                    data[split].append([review, score])\n",
    "    np.random.seed(0)\n",
    "    np.random.shuffle(data[\"train\"])  \n",
    "    np.random.shuffle(data[\"test\"])\n",
    "    train_data = []\n",
    "    train_targets = []\n",
    "    test_data = []\n",
    "    test_targets = []\n",
    "    for i in range(len(data[\"train\"])):\n",
    "        train_data.append(data[\"train\"][i][0])\n",
    "        train_targets.append(data[\"train\"][i][1])\n",
    "    \n",
    "    for i in range(len(data[\"test\"])):\n",
    "        test_data.append(data[\"test\"][i][0])\n",
    "        test_targets.append(data[\"test\"][i][1])\n",
    "    return train_data, train_targets, test_data, test_targets\n",
    "\n",
    "all_train_data, all_train_targets, test_data, test_targets = load_train_test_imdb_data(data_dir=\"./aclImdb\")\n",
    "train_split = 20000\n",
    "train_data = all_train_data[:train_split]\n",
    "train_targets = all_train_targets[:train_split]\n",
    "\n",
    "val_data = all_train_data[train_split:]\n",
    "val_targets = all_train_targets[train_split:]\n",
    "\n",
    "print (\"Train dataset size is {}\".format(len(train_data)))\n",
    "print (\"Val dataset size is {}\".format(len(val_data)))\n",
    "print (\"Test dataset size is {}\".format(len(test_data)))"
   ]
  },
  {
   "cell_type": "code",
   "execution_count": 4,
   "metadata": {},
   "outputs": [
    {
     "name": "stdout",
     "output_type": "stream",
     "text": [
      "['apple', 'be', 'look', 'at', 'buy', 'u.k.', 'startup', 'for', '1', 'billion']\n"
     ]
    }
   ],
   "source": [
    "# Let's write the tokenization function \n",
    "import spacy\n",
    "import string\n",
    "\n",
    "# Load English tokenizer, tagger, parser, NER and word vectors\n",
    "tokenizer = spacy.load('en_core_web_sm')\n",
    "punctuations = string.punctuation\n",
    "\n",
    "# lowercase and remove punctuation\n",
    "#def tokenize(sent):\n",
    "#  tokens = tokenizer(sent)\n",
    "#  return [token.text.lower() for token in tokens if (token.text not in punctuations)]\n",
    "\n",
    "def tokenize(sent):\n",
    "   tokens = tokenizer(sent)\n",
    "   return [token.lemma_.lower() for token in tokens if (token.lemma_ not in punctuations)]\n",
    "\n",
    "# Example\n",
    "tokens = tokenize(u'Apple is looking at buying U.K. startup for $1 billion')\n",
    "print (tokens)"
   ]
  },
  {
   "cell_type": "code",
   "execution_count": 5,
   "metadata": {},
   "outputs": [],
   "source": [
    "# This is the code cell that tokenizes train/val/test datasets\n",
    "# However it takes about 15-20 minutes to run it\n",
    "# For convinience we have provided the preprocessed datasets\n",
    "# Please see the next code cell\n",
    "import pickle as pkl\n",
    "\n",
    "def tokenize_dataset(dataset, ngram=1):\n",
    "    token_dataset = []\n",
    "    # we are keeping track of all tokens in dataset\n",
    "    # in order to create vocabulary later\n",
    "    all_tokens = []\n",
    "    if ngram == 1:\n",
    "        for sample in tqdm(dataset):\n",
    "            tokens = tokenize(sample)\n",
    "            token_dataset.append(tokens)\n",
    "            all_tokens += tokens\n",
    "    elif ngram == 2:\n",
    "        for sample in tqdm(dataset):\n",
    "            tokens = tokenize(sample)\n",
    "            bigram_tokens = []\n",
    "            for i in range(len(tokens)-1):\n",
    "                bigram_tokens.append(tokens[i] + ' '+ tokens[i+1])\n",
    "            token_dataset.append(bigram_tokens)\n",
    "            all_tokens += bigram_tokens\n",
    "    elif ngram == 3:\n",
    "        for sample in tqdm(dataset):\n",
    "            tokens = tokenize(sample)\n",
    "            trigram_tokens = []\n",
    "            for i in range(len(tokens)-2):\n",
    "                trigram_tokens.append(tokens[i] + ' '+ tokens[i+1] + ' ' + tokens[i+2])\n",
    "            token_dataset.append(trigram_tokens)\n",
    "            all_tokens += trigram_tokens\n",
    "    elif ngram == 4:\n",
    "        for sample in tqdm(dataset):\n",
    "            tokens = tokenize(sample)\n",
    "            fourgram_tokens = []\n",
    "            for i in range(len(tokens)-3):\n",
    "                fourgram_tokens.append(tokens[i] + ' '+ tokens[i+1] + ' ' + tokens[i+2] + ' ' + tokens[i+3])\n",
    "            token_dataset.append(fourgram_tokens)\n",
    "            all_tokens += fourgram_tokens\n",
    "    return token_dataset, all_tokens\n",
    "\n",
    "def n_gram_transform(tokens_data, ngram=1):\n",
    "    token_dataset = []\n",
    "    # we are keeping track of all tokens in dataset\n",
    "    # in order to create vocabulary later\n",
    "    all_tokens = []\n",
    "    print(\"{}-gram model\".format(ngram))\n",
    "    if ngram == 1:\n",
    "        for i in tqdm(range(len(tokens_data))):\n",
    "            tokens = tokens_data[i]\n",
    "            token_dataset.append(tokens)\n",
    "            all_tokens += tokens\n",
    "    elif ngram == 2:\n",
    "        for i in tqdm(range(len(tokens_data))):\n",
    "            tokens = tokens_data[i]\n",
    "            bigram_tokens = []\n",
    "            for i in range(len(tokens)-1):\n",
    "                bigram_tokens.append(tokens[i] + ' '+ tokens[i+1])\n",
    "            token_dataset.append(bigram_tokens)\n",
    "            all_tokens += bigram_tokens\n",
    "    elif ngram == 3:\n",
    "        for i in tqdm(range(len(tokens_data))):\n",
    "            tokens = tokens_data[i]\n",
    "            trigram_tokens = []\n",
    "            for i in range(len(tokens)-2):\n",
    "                trigram_tokens.append(tokens[i] + ' '+ tokens[i+1] + ' ' + tokens[i+2])\n",
    "            token_dataset.append(trigram_tokens)\n",
    "            all_tokens += trigram_tokens\n",
    "    elif ngram == 4:\n",
    "        for i in tqdm(range(len(tokens_data))):\n",
    "            tokens = tokens_data[i]\n",
    "            fourgram_tokens = []\n",
    "            for i in range(len(tokens)-3):\n",
    "                fourgram_tokens.append(tokens[i] + ' '+ tokens[i+1] + ' ' + tokens[i+2] + ' ' + tokens[i+3])\n",
    "            token_dataset.append(fourgram_tokens)\n",
    "            all_tokens += fourgram_tokens\n",
    "    return token_dataset, all_tokens"
   ]
  },
  {
   "cell_type": "code",
   "execution_count": null,
   "metadata": {},
   "outputs": [],
   "source": [
    "# val set tokens\n",
    "print (\"Tokenizing val data\")\n",
    "val_data_tokens, _ = tokenize_dataset(val_data, 1)\n",
    "pkl.dump(val_data_tokens, open(\"val_data_tokens_new_lemma.p\", \"wb\"))"
   ]
  },
  {
   "cell_type": "code",
   "execution_count": null,
   "metadata": {},
   "outputs": [],
   "source": [
    "# test set tokens\n",
    "print (\"Tokenizing test data\")\n",
    "test_data_tokens, _ = tokenize_dataset(test_data, 1)\n",
    "pkl.dump(test_data_tokens, open(\"test_data_tokens_new_lemma.p\", \"wb\"))"
   ]
  },
  {
   "cell_type": "code",
   "execution_count": null,
   "metadata": {},
   "outputs": [],
   "source": [
    "# train set tokens\n",
    "print (\"Tokenizing train data\")\n",
    "train_data_tokens, all_train_tokens = tokenize_dataset(train_data, 1)\n",
    "pkl.dump(train_data_tokens, open(\"train_data_tokens_new_lemma.p\", \"wb\"))\n",
    "pkl.dump(all_train_tokens, open(\"all_train_tokens_new_lemma.p\", \"wb\"))"
   ]
  },
  {
   "cell_type": "code",
   "execution_count": null,
   "metadata": {},
   "outputs": [],
   "source": [
    "len(set(all_train_tokens))"
   ]
  },
  {
   "cell_type": "code",
   "execution_count": 6,
   "metadata": {},
   "outputs": [
    {
     "name": "stdout",
     "output_type": "stream",
     "text": [
      "Train dataset size is 20000\n",
      "Val dataset size is 5000\n",
      "Test dataset size is 25000\n",
      "Total number of tokens in train dataset is 4811775\n"
     ]
    }
   ],
   "source": [
    "# First, download datasets from here\n",
    "# Use your NYU account\n",
    "#https://drive.google.com/open?id=1eR2LFI5MGliHlaL1S2nsX4ouIO1k_ip2\n",
    "#https://drive.google.com/open?id=133QCWbiz_Xc7Qm4r6t-fJP1K669xjNlM\n",
    "#https://drive.google.com/open?id=1SuUIUpJ1iznU707ktkpnEGSwt_XIqOYp\n",
    "#https://drive.google.com/open?id=1UQsrZ2LVfcxdxxa47344fMs_qvya72KR\n",
    "\n",
    "\n",
    "# Then, load preprocessed train, val and test datasets\n",
    "train_data_tokens = pkl.load(open(\"train_data_tokens_new_lemma.p\", \"rb\"))\n",
    "all_train_tokens = pkl.load(open(\"all_train_tokens_new_lemma.p\", \"rb\"))\n",
    "\n",
    "val_data_tokens = pkl.load(open(\"val_data_tokens_new_lemma.p\", \"rb\"))\n",
    "test_data_tokens = pkl.load(open(\"test_data_tokens_new_lemma.p\", \"rb\"))\n",
    "\n",
    "# double checking\n",
    "print (\"Train dataset size is {}\".format(len(train_data_tokens)))\n",
    "print (\"Val dataset size is {}\".format(len(val_data_tokens)))\n",
    "print (\"Test dataset size is {}\".format(len(test_data_tokens)))\n",
    "\n",
    "print (\"Total number of tokens in train dataset is {}\".format(len(all_train_tokens)))"
   ]
  },
  {
   "cell_type": "code",
   "execution_count": null,
   "metadata": {},
   "outputs": [],
   "source": [
    "# val set tokens\n",
    "print (\"Tokenizing val data\")\n",
    "val_data_tokens, _ = n_gram_transform(val_data_tokens, n_gram_model)\n",
    "#pkl.dump(val_data_tokens, open(\"val_data_tokens_new_2.p\", \"wb\"))\n",
    "\n",
    "# test set tokens\n",
    "print (\"Tokenizing test data\")\n",
    "test_data_tokens, _ = n_gram_transform(test_data_tokens, n_gram_model)\n",
    "#pkl.dump(test_data_tokens, open(\"test_data_tokens_new_2.p\", \"wb\"))\n",
    "\n",
    "# train set tokens\n",
    "print (\"Tokenizing train data\")\n",
    "train_data_tokens, all_train_tokens = n_gram_transform(train_data_tokens, n_gram_model)\n",
    "#pkl.dump(train_data_tokens, open(\"train_data_tokens_new_2.p\", \"wb\"))\n",
    "#pkl.dump(all_train_tokens, open(\"all_train_tokens_new_2.p\", \"wb\"))"
   ]
  },
  {
   "cell_type": "code",
   "execution_count": null,
   "metadata": {},
   "outputs": [],
   "source": [
    "print(len(set(all_train_tokens)))\n",
    "print(len(all_train_tokens))"
   ]
  },
  {
   "cell_type": "markdown",
   "metadata": {},
   "source": [
    "Now, we are going to create the vocabulary of most common 10,000 tokens in the training set."
   ]
  },
  {
   "cell_type": "code",
   "execution_count": 7,
   "metadata": {},
   "outputs": [],
   "source": [
    "from collections import Counter\n",
    "# save index 0 for unk and 1 for pad\n",
    "PAD_IDX = 0\n",
    "UNK_IDX = 1\n",
    "\n",
    "def build_vocab(all_tokens):\n",
    "    # Returns:\n",
    "    # id2token: list of tokens, where id2token[i] returns token that corresponds to token i\n",
    "    # token2id: dictionary where keys represent tokens and corresponding values represent indices\n",
    "    token_counter = Counter(all_tokens)\n",
    "    vocab, count = zip(*token_counter.most_common(max_vocab_size))\n",
    "    id2token = list(vocab)\n",
    "    token2id = dict(zip(vocab, range(2,2+len(vocab)))) \n",
    "    id2token = ['<pad>', '<unk>'] + id2token\n",
    "    token2id['<pad>'] = PAD_IDX \n",
    "    token2id['<unk>'] = UNK_IDX\n",
    "    return token2id, id2token\n",
    "\n",
    "token2id, id2token = build_vocab(all_train_tokens)"
   ]
  },
  {
   "cell_type": "code",
   "execution_count": 8,
   "metadata": {},
   "outputs": [
    {
     "name": "stdout",
     "output_type": "stream",
     "text": [
      "Token id 12032 ; token shrewd\n",
      "Token shrewd; token id 12032\n"
     ]
    }
   ],
   "source": [
    "# Lets check the dictionary by loading random token from it\n",
    "random_token_id = np.random.randint(0, len(id2token)-1)\n",
    "random_token = id2token[random_token_id]\n",
    "\n",
    "print (\"Token id {} ; token {}\".format(random_token_id, id2token[random_token_id]))\n",
    "print (\"Token {}; token id {}\".format(random_token, token2id[random_token]))"
   ]
  },
  {
   "cell_type": "code",
   "execution_count": 9,
   "metadata": {},
   "outputs": [
    {
     "name": "stdout",
     "output_type": "stream",
     "text": [
      "Train dataset size is 20000\n",
      "Val dataset size is 5000\n",
      "Test dataset size is 25000\n"
     ]
    }
   ],
   "source": [
    "# convert token to id in the dataset\n",
    "def token2index_dataset(tokens_data):\n",
    "    indices_data = []\n",
    "    for tokens in tokens_data:\n",
    "        index_list = [token2id[token] if token in token2id else UNK_IDX for token in tokens]\n",
    "        indices_data.append(index_list)\n",
    "    return indices_data\n",
    "\n",
    "train_data_indices = token2index_dataset(train_data_tokens)\n",
    "val_data_indices = token2index_dataset(val_data_tokens)\n",
    "test_data_indices = token2index_dataset(test_data_tokens)\n",
    "\n",
    "# double checking\n",
    "print (\"Train dataset size is {}\".format(len(train_data_indices)))\n",
    "print (\"Val dataset size is {}\".format(len(val_data_indices)))\n",
    "print (\"Test dataset size is {}\".format(len(test_data_indices)))"
   ]
  },
  {
   "cell_type": "markdown",
   "metadata": {},
   "source": [
    "Now we are going to create PyTorch DataLoader "
   ]
  },
  {
   "cell_type": "code",
   "execution_count": 10,
   "metadata": {},
   "outputs": [],
   "source": [
    "import numpy as np\n",
    "import torch\n",
    "from torch.utils.data import Dataset\n",
    "\n",
    "class NewsGroupDataset(Dataset):\n",
    "    \"\"\"\n",
    "    Class that represents a train/validation/test dataset that's readable for PyTorch\n",
    "    Note that this class inherits torch.utils.data.Dataset\n",
    "    \"\"\"\n",
    "    \n",
    "    def __init__(self, data_list, target_list):\n",
    "        \"\"\"\n",
    "        @param data_list: list of newsgroup tokens \n",
    "        @param target_list: list of newsgroup targets \n",
    "\n",
    "        \"\"\"\n",
    "        self.data_list = data_list\n",
    "        self.target_list = target_list\n",
    "        assert (len(self.data_list) == len(self.target_list))\n",
    "\n",
    "    def __len__(self):\n",
    "        return len(self.data_list)\n",
    "        \n",
    "    def __getitem__(self, key):\n",
    "        \"\"\"\n",
    "        Triggered when you call dataset[i]\n",
    "        \"\"\"\n",
    "        \n",
    "        token_idx = self.data_list[key][:MAX_SENTENCE_LENGTH]\n",
    "        label = self.target_list[key]\n",
    "        return [token_idx, len(token_idx), label]\n",
    "\n",
    "def newsgroup_collate_func(batch):\n",
    "    \"\"\"\n",
    "    Customized function for DataLoader that dynamically pads the batch so that all \n",
    "    data have the same length\n",
    "    \"\"\"\n",
    "    data_list = []\n",
    "    label_list = []\n",
    "    length_list = []\n",
    "    #print(\"collate batch: \", batch[0][0])\n",
    "    #batch[0][0] = batch[0][0][:MAX_SENTENCE_LENGTH]\n",
    "    for datum in batch:\n",
    "        label_list.append(datum[2])\n",
    "        length_list.append(datum[1])\n",
    "    # padding\n",
    "    for datum in batch:\n",
    "        padded_vec = np.pad(np.array(datum[0]), \n",
    "                                pad_width=((0,MAX_SENTENCE_LENGTH-datum[1])), \n",
    "                                mode=\"constant\", constant_values=0)\n",
    "        data_list.append(padded_vec)\n",
    "    return [torch.from_numpy(np.array(data_list)), torch.LongTensor(length_list), torch.LongTensor(label_list)]\n",
    "\n",
    "# create pytorch dataloader\n",
    "#train_loader = NewsGroupDataset(train_data_indices, train_targets)\n",
    "#val_loader = NewsGroupDataset(val_data_indices, val_targets)\n",
    "#test_loader = NewsGroupDataset(test_data_indices, test_targets)\n",
    "\n",
    "BATCH_SIZE = 32\n",
    "train_dataset = NewsGroupDataset(train_data_indices, train_targets)\n",
    "train_loader = torch.utils.data.DataLoader(dataset=train_dataset, \n",
    "                                           batch_size=BATCH_SIZE,\n",
    "                                           collate_fn=newsgroup_collate_func,\n",
    "                                           shuffle=True)\n",
    "\n",
    "val_dataset = NewsGroupDataset(val_data_indices, val_targets)\n",
    "val_loader = torch.utils.data.DataLoader(dataset=val_dataset, \n",
    "                                           batch_size=BATCH_SIZE,\n",
    "                                           collate_fn=newsgroup_collate_func,\n",
    "                                           shuffle=True)\n",
    "\n",
    "test_dataset = NewsGroupDataset(test_data_indices, test_targets)\n",
    "test_loader = torch.utils.data.DataLoader(dataset=test_dataset, \n",
    "                                           batch_size=BATCH_SIZE,\n",
    "                                           collate_fn=newsgroup_collate_func,\n",
    "                                           shuffle=False)\n",
    "\n"
   ]
  },
  {
   "cell_type": "code",
   "execution_count": 11,
   "metadata": {},
   "outputs": [
    {
     "name": "stdout",
     "output_type": "stream",
     "text": [
      "tensor([[   2,   30,  677,  ...,    0,    0,    0],\n",
      "        [5608,    4,   13,  ...,    0,    0,    0],\n",
      "        [  10,   15,    4,  ...,    0,    0,    0],\n",
      "        ...,\n",
      "        [  10,    4,   24,  ...,    0,    0,    0],\n",
      "        [  10,   15,    4,  ...,    0,    0,    0],\n",
      "        [  59,   10, 4082,  ...,    0,    0,    0]])\n",
      "tensor([0, 0, 0, 0, 1, 1, 1, 1, 1, 0, 0, 0, 1, 1, 1, 0, 1, 1, 0, 1, 0, 0, 1, 1,\n",
      "        1, 1, 0, 1, 1, 1, 0, 1])\n"
     ]
    }
   ],
   "source": [
    "for i, (data, lengths, labels) in enumerate(train_loader):\n",
    "    print (data)\n",
    "    print (labels)\n",
    "    break"
   ]
  },
  {
   "cell_type": "markdown",
   "metadata": {},
   "source": [
    "Here we will define Bag-of-Words model in PyTorch"
   ]
  },
  {
   "cell_type": "code",
   "execution_count": 12,
   "metadata": {},
   "outputs": [],
   "source": [
    "# First import torch related libraries\n",
    "import torch\n",
    "import torch.nn as nn\n",
    "import torch.nn.functional as F\n",
    "\n",
    "class BagOfWords(nn.Module):\n",
    "    \"\"\"\n",
    "    BagOfWords classification model\n",
    "    \"\"\"\n",
    "    def __init__(self, vocab_size, emb_dim):\n",
    "        \"\"\"\n",
    "        @param vocab_size: size of the vocabulary. \n",
    "        @param emb_dim: size of the word embedding\n",
    "        \"\"\"\n",
    "        super(BagOfWords, self).__init__()\n",
    "        # pay attention to padding_idx \n",
    "        self.embed = nn.Embedding(vocab_size, emb_dim, padding_idx=0)\n",
    "        self.linear = nn.Linear(emb_dim,2)\n",
    "    \n",
    "    def forward(self, data, length):\n",
    "        \"\"\"\n",
    "        \n",
    "        @param data: matrix of size (batch_size, max_sentence_length). Each row in data represents a \n",
    "            review that is represented using n-gram index. Note that they are padded to have same length.\n",
    "        @param length: an int tensor of size (batch_size), which represents the non-trivial (excludes padding)\n",
    "            length of each sentences in the data.\n",
    "        \"\"\"\n",
    "        out = self.embed(data)\n",
    "        out = torch.sum(out, dim=1)\n",
    "        out /= length.view(length.size()[0],1).expand_as(out).float()\n",
    "     \n",
    "        # return logits\n",
    "        out = self.linear(out.float())\n",
    "        return out\n",
    "    \n",
    "model = BagOfWords(len(id2token), emb_dim)"
   ]
  },
  {
   "cell_type": "code",
   "execution_count": 13,
   "metadata": {},
   "outputs": [
    {
     "name": "stdout",
     "output_type": "stream",
     "text": [
      "choose Adam as optimizer\n",
      "Epoch: [1/10], Step: [101/625], Validation Acc: 81.06, validation_num: 5000\n",
      "Epoch: [1/10], Step: [201/625], Validation Acc: 86.04, validation_num: 5000\n",
      "Epoch: [1/10], Step: [301/625], Validation Acc: 88.0, validation_num: 5000\n",
      "Epoch: [1/10], Step: [401/625], Validation Acc: 87.86, validation_num: 5000\n",
      "Epoch: [1/10], Step: [501/625], Validation Acc: 88.6, validation_num: 5000\n",
      "Epoch: [1/10], Step: [601/625], Validation Acc: 88.2, validation_num: 5000\n",
      "Epoch: [2/10], Step: [101/625], Validation Acc: 89.1, validation_num: 5000\n",
      "Epoch: [2/10], Step: [201/625], Validation Acc: 88.66, validation_num: 5000\n",
      "Epoch: [2/10], Step: [301/625], Validation Acc: 88.34, validation_num: 5000\n",
      "Epoch: [2/10], Step: [401/625], Validation Acc: 88.74, validation_num: 5000\n",
      "Epoch: [2/10], Step: [501/625], Validation Acc: 88.22, validation_num: 5000\n",
      "Epoch: [2/10], Step: [601/625], Validation Acc: 88.6, validation_num: 5000\n",
      "Epoch: [3/10], Step: [101/625], Validation Acc: 88.44, validation_num: 5000\n",
      "Epoch: [3/10], Step: [201/625], Validation Acc: 88.72, validation_num: 5000\n",
      "Epoch: [3/10], Step: [301/625], Validation Acc: 88.66, validation_num: 5000\n",
      "Epoch: [3/10], Step: [401/625], Validation Acc: 88.1, validation_num: 5000\n",
      "Epoch: [3/10], Step: [501/625], Validation Acc: 88.12, validation_num: 5000\n",
      "Epoch: [3/10], Step: [601/625], Validation Acc: 88.36, validation_num: 5000\n",
      "Epoch: [4/10], Step: [101/625], Validation Acc: 88.02, validation_num: 5000\n",
      "Epoch: [4/10], Step: [201/625], Validation Acc: 88.04, validation_num: 5000\n",
      "Epoch: [4/10], Step: [301/625], Validation Acc: 88.1, validation_num: 5000\n",
      "Epoch: [4/10], Step: [401/625], Validation Acc: 88.22, validation_num: 5000\n",
      "Epoch: [4/10], Step: [501/625], Validation Acc: 88.1, validation_num: 5000\n",
      "Epoch: [4/10], Step: [601/625], Validation Acc: 88.38, validation_num: 5000\n",
      "Epoch: [5/10], Step: [101/625], Validation Acc: 88.26, validation_num: 5000\n",
      "Epoch: [5/10], Step: [201/625], Validation Acc: 88.14, validation_num: 5000\n",
      "Epoch: [5/10], Step: [301/625], Validation Acc: 88.3, validation_num: 5000\n",
      "Epoch: [5/10], Step: [401/625], Validation Acc: 88.32, validation_num: 5000\n",
      "Epoch: [5/10], Step: [501/625], Validation Acc: 88.36, validation_num: 5000\n",
      "Epoch: [5/10], Step: [601/625], Validation Acc: 88.36, validation_num: 5000\n",
      "Epoch: [6/10], Step: [101/625], Validation Acc: 88.28, validation_num: 5000\n",
      "Epoch: [6/10], Step: [201/625], Validation Acc: 88.28, validation_num: 5000\n",
      "Epoch: [6/10], Step: [301/625], Validation Acc: 88.3, validation_num: 5000\n",
      "Epoch: [6/10], Step: [401/625], Validation Acc: 88.28, validation_num: 5000\n",
      "Epoch: [6/10], Step: [501/625], Validation Acc: 88.02, validation_num: 5000\n",
      "Epoch: [6/10], Step: [601/625], Validation Acc: 88.34, validation_num: 5000\n",
      "Epoch: [7/10], Step: [101/625], Validation Acc: 88.2, validation_num: 5000\n",
      "Epoch: [7/10], Step: [201/625], Validation Acc: 88.22, validation_num: 5000\n",
      "Epoch: [7/10], Step: [301/625], Validation Acc: 88.22, validation_num: 5000\n",
      "Epoch: [7/10], Step: [401/625], Validation Acc: 88.22, validation_num: 5000\n",
      "Epoch: [7/10], Step: [501/625], Validation Acc: 88.2, validation_num: 5000\n",
      "Epoch: [7/10], Step: [601/625], Validation Acc: 88.2, validation_num: 5000\n",
      "Epoch: [8/10], Step: [101/625], Validation Acc: 88.2, validation_num: 5000\n",
      "Epoch: [8/10], Step: [201/625], Validation Acc: 88.26, validation_num: 5000\n",
      "Epoch: [8/10], Step: [301/625], Validation Acc: 88.24, validation_num: 5000\n",
      "Epoch: [8/10], Step: [401/625], Validation Acc: 88.2, validation_num: 5000\n",
      "Epoch: [8/10], Step: [501/625], Validation Acc: 88.2, validation_num: 5000\n",
      "Epoch: [8/10], Step: [601/625], Validation Acc: 88.14, validation_num: 5000\n",
      "Epoch: [9/10], Step: [101/625], Validation Acc: 88.18, validation_num: 5000\n",
      "Epoch: [9/10], Step: [201/625], Validation Acc: 88.18, validation_num: 5000\n",
      "Epoch: [9/10], Step: [301/625], Validation Acc: 88.24, validation_num: 5000\n",
      "Epoch: [9/10], Step: [401/625], Validation Acc: 88.2, validation_num: 5000\n",
      "Epoch: [9/10], Step: [501/625], Validation Acc: 88.16, validation_num: 5000\n",
      "Epoch: [9/10], Step: [601/625], Validation Acc: 88.18, validation_num: 5000\n",
      "Epoch: [10/10], Step: [101/625], Validation Acc: 88.18, validation_num: 5000\n",
      "Epoch: [10/10], Step: [201/625], Validation Acc: 88.18, validation_num: 5000\n",
      "Epoch: [10/10], Step: [301/625], Validation Acc: 88.16, validation_num: 5000\n",
      "Epoch: [10/10], Step: [401/625], Validation Acc: 88.16, validation_num: 5000\n",
      "Epoch: [10/10], Step: [501/625], Validation Acc: 88.16, validation_num: 5000\n",
      "Epoch: [10/10], Step: [601/625], Validation Acc: 88.16, validation_num: 5000\n"
     ]
    }
   ],
   "source": [
    "learning_rate = 0.01\n",
    "num_epochs = 10 # number epoch to train\n",
    "\n",
    "# Criterion and Optimizer\n",
    "criterion = torch.nn.CrossEntropyLoss()  \n",
    "#optimizer = torch.optim.Adam(model.parameters(), lr=learning_rate)\n",
    "\n",
    "if optimizer_flag == 0:\n",
    "    optimizer = torch.optim.SGD(model.parameters(), lr=learning_rate, momentum=0.9)\n",
    "    print('choose SGD as optimizer')\n",
    "elif optimizer_flag == 1:\n",
    "    optimizer = torch.optim.Adam(model.parameters(), lr=learning_rate)\n",
    "    print('choose Adam as optimizer')\n",
    "\n",
    "scheduler = torch.optim.lr_scheduler.StepLR(optimizer, step_size=3, gamma=0.1)\n",
    "loss_list =[]\n",
    "\n",
    "# Function for testing the model\n",
    "def test_model(loader, model):\n",
    "    \"\"\"\n",
    "    Help function that tests the model's performance on a dataset\n",
    "    @param: loader - data loader for the dataset to test against\n",
    "    \"\"\"\n",
    "    correct = 0\n",
    "    total = 0\n",
    "    model.eval()\n",
    "    for data, lengths, labels in loader:\n",
    "        data_batch, length_batch, label_batch = data, lengths, labels\n",
    "        outputs = F.softmax(model(data_batch, length_batch), dim=1)\n",
    "        predicted = outputs.max(1, keepdim=True)[1]\n",
    "        \n",
    "        total += labels.size(0)\n",
    "        correct += predicted.eq(labels.view_as(predicted)).sum().item()\n",
    "        \n",
    "    return (100 * correct / total, total)\n",
    "\n",
    "for epoch in range(num_epochs):\n",
    "    scheduler.step()\n",
    "    for i, (data, lengths, labels) in enumerate(train_loader):\n",
    "        model.train()\n",
    "        data_batch, length_batch, label_batch = data, lengths, labels\n",
    "        optimizer.zero_grad()\n",
    "        outputs = model(data_batch, length_batch)\n",
    "        loss = criterion(outputs, label_batch)\n",
    "        loss_list.append(loss.item())\n",
    "        loss.backward()\n",
    "        optimizer.step()\n",
    "        # validate every 100 iterations\n",
    "        if i > 0 and i % 100 == 0:\n",
    "            # validate\n",
    "            val_acc, val_num = test_model(val_loader, model)\n",
    "            print('Epoch: [{}/{}], Step: [{}/{}], Validation Acc: {}, validation_num: {}'.format( \n",
    "                       epoch+1, num_epochs, i+1, len(train_loader), val_acc, val_num))\n",
    "\n",
    "    "
   ]
  },
  {
   "cell_type": "code",
   "execution_count": 34,
   "metadata": {},
   "outputs": [
    {
     "ename": "TypeError",
     "evalue": "imshow() missing 1 required positional argument: 'X'",
     "output_type": "error",
     "traceback": [
      "\u001b[0;31m---------------------------------------------------------------------------\u001b[0m",
      "\u001b[0;31mTypeError\u001b[0m                                 Traceback (most recent call last)",
      "\u001b[0;32m<ipython-input-34-fa8430d1e3ea>\u001b[0m in \u001b[0;36m<module>\u001b[0;34m()\u001b[0m\n\u001b[1;32m      3\u001b[0m \u001b[0mplt\u001b[0m\u001b[0;34m.\u001b[0m\u001b[0mylabel\u001b[0m\u001b[0;34m(\u001b[0m\u001b[0;34m'training loss'\u001b[0m\u001b[0;34m)\u001b[0m\u001b[0;34m\u001b[0m\u001b[0m\n\u001b[1;32m      4\u001b[0m \u001b[0mplt\u001b[0m\u001b[0;34m.\u001b[0m\u001b[0mlegend\u001b[0m\u001b[0;34m(\u001b[0m\u001b[0;34m'the trainging curve'\u001b[0m\u001b[0;34m)\u001b[0m\u001b[0;34m\u001b[0m\u001b[0m\n\u001b[0;32m----> 5\u001b[0;31m \u001b[0mplt\u001b[0m\u001b[0;34m.\u001b[0m\u001b[0mimshow\u001b[0m\u001b[0;34m(\u001b[0m\u001b[0;34m)\u001b[0m\u001b[0;34m\u001b[0m\u001b[0m\n\u001b[0m",
      "\u001b[0;31mTypeError\u001b[0m: imshow() missing 1 required positional argument: 'X'"
     ]
    },
    {
     "data": {
      "image/png": "[encoded data removed]",
      "text/plain": [
       "<matplotlib.figure.Figure at 0x17039a630>"
      ]
     },
     "metadata": {},
     "output_type": "display_data"
    }
   ],
   "source": [
    "import matplotlib.pyplot as plt\n",
    "plt.plot(loss_list)\n",
    "plt.ylabel('training loss')\n",
    "plt.legend('the trainging curve')\n",
    "plt.imshow()"
   ]
  },
  {
   "cell_type": "code",
   "execution_count": 14,
   "metadata": {},
   "outputs": [
    {
     "name": "stdout",
     "output_type": "stream",
     "text": [
      "After training for 10 epochs\n",
      "Val Acc 88.16\n",
      "Test Acc 84.416\n",
      "Train Acc 99.945\n"
     ]
    }
   ],
   "source": [
    "print (\"After training for {} epochs\".format(num_epochs))\n",
    "print (\"Val Acc {}\".format(test_model(val_loader, model)[0]))\n",
    "print (\"Test Acc {}\".format(test_model(test_loader, model)[0]))\n",
    "print (\"Train Acc {}\".format(test_model(train_loader, model)[0]))"
   ]
  },
  {
   "cell_type": "code",
   "execution_count": 24,
   "metadata": {},
   "outputs": [],
   "source": [
    "good_num = 3\n",
    "good_sample = []\n",
    "bad_num = 3\n",
    "bad_sample = []\n",
    "bad_label = []\n",
    "pre_label = []\n",
    "for data, lengths, labels in val_loader:\n",
    "        data_batch, length_batch, label_batch = data, lengths, labels\n",
    "        outputs = F.softmax(model(data_batch, length_batch), dim=1)\n",
    "        predicted = outputs.max(1, keepdim=True)[1]\n",
    "        for i in range(len(predicted)):\n",
    "            if predicted[i,0] == label_batch[i]:\n",
    "                good_sample.append(data_batch[i])\n",
    "                good_num+=1\n",
    "            else:\n",
    "                bad_sample.append(data_batch[i])\n",
    "                bad_label.append(label_batch[i])\n",
    "                pre_label.append(predicted[i,0])\n",
    "                bad_num+=1\n",
    "        if good_num > 3 and bad_num > 3:\n",
    "            break\n"
   ]
  },
  {
   "cell_type": "code",
   "execution_count": 25,
   "metadata": {},
   "outputs": [
    {
     "name": "stdout",
     "output_type": "stream",
     "text": [
      "['for', 'romantic', 'comedy', '-pron-', 'often', 'judge', 'the', 'quality', 'of', 'the', 'film', 'base', 'upon', 'the', '<unk>', 'of', '-pron-', 'eye', 'by', 'the', 'end', 'of', 'the', 'experience', 'unfortunately', 'for', 'the', 'wedding', 'date', '-pron-', 'can', 'only', 'rate', 'the', 'film', 'with', '4', 'out', 'of', '10', 'possible', 'tears.<br', '/><br', '/>my', 'apology', 'to', 'fan', 'of', 'debra', 'messing', 'and', 'dermot', 'mulroney', 'but', '-pron-', 'do', 'not', 'see', 'much', 'chemistry', 'between', '-pron-', 'two', 'character', 'the', 'premise', 'of', 'the', 'film', 'be', 'a', 'reverse', 'pretty', 'woman', 'with', 'dermot', 'play', 'the', 'role', 'of', 'nick', 'a', 'high', 'price', 'male', 'escort', 'hire', 'by', 'debra', \"'s\", 'character', 'kat', 'to', 'accompany', '-pron-', 'to', 'england', 'for', '-pron-', 'sister', \"'s\", 'wedding', 'a', 'romantic', 'relationship', 'presumably', 'develop', 'between', 'patron', 'and', 'client', 'but', 'the', 'dialogue', 'seem', 'force', 'and', 'artificial', 'and', 'there', 'be', 'not', 'enough', 'romantic', 'spark', 'fly', 'in', 'the', 'relationship', 'of', 'nick', 'and', '<unk>', '/><br', '/>in', 'a', 'supporting', 'role', 'amy', 'adams', 'be', 'a', 'standout', 'as', 'kat', \"'s\", 'sister', 'whenever', 'amy', 'come', 'on', 'screen', '-pron-', 'serve', 'as', 'a', 'spark', 'plug', 'and', 'catalyst', 'for', 'the', 'film', \"'s\", 'energy', 'perhaps', 'if', 'amy', 'adams', 'have', 'be', 'cast', 'in', 'the', 'role', 'of', 'kat', 'the', 'film', 'may', 'have', 'have', 'more', 'dynamism', 'but', 'as', '-pron-', 'turn', 'out', 'instead', 'of', 'reach', 'for', 'kleenex', '-pron-', 'be', 'look', 'for', 'the', '<unk>', 'in', 'attempt', 'to', 'at', 'least', 'pretend', 'that', 'this', 'film', 'have', 'some', 'genuine', 'sentiment', 'and', 'romance', '<pad>', '<pad>', '<pad>', '<pad>', '<pad>', '<pad>', '<pad>', '<pad>', '<pad>', '<pad>', '<pad>', '<pad>', '<pad>', '<pad>', '<pad>', '<pad>', '<pad>', '<pad>', '<pad>', '<pad>', '<pad>', '<pad>', '<pad>', '<pad>', '<pad>', '<pad>', '<pad>', '<pad>', '<pad>', '<pad>', '<pad>', '<pad>', '<pad>', '<pad>', '<pad>', '<pad>', '<pad>', '<pad>', '<pad>', '<pad>', '<pad>', '<pad>', '<pad>', '<pad>', '<pad>', '<pad>', '<pad>', '<pad>', '<pad>', '<pad>', '<pad>', '<pad>', '<pad>', '<pad>', '<pad>', '<pad>', '<pad>', '<pad>', '<pad>', '<pad>', '<pad>', '<pad>', '<pad>', '<pad>', '<pad>', '<pad>', '<pad>', '<pad>', '<pad>', '<pad>', '<pad>', '<pad>', '<pad>', '<pad>', '<pad>', '<pad>', '<pad>', '<pad>', '<pad>', '<pad>', '<pad>', '<pad>', '<pad>', '<pad>', '<pad>', '<pad>', '<pad>', '<pad>', '<pad>', '<pad>', '<pad>', '<pad>', '<pad>', '<pad>', '<pad>', '<pad>', '<pad>', '<pad>', '<pad>', '<pad>', '<pad>', '<pad>', '<pad>', '<pad>', '<pad>', '<pad>', '<pad>', '<pad>', '<pad>', '<pad>', '<pad>', '<pad>', '<pad>', '<pad>', '<pad>', '<pad>', '<pad>', '<pad>', '<pad>', '<pad>', '<pad>', '<pad>', '<pad>', '<pad>', '<pad>', '<pad>', '<pad>', '<pad>', '<pad>', '<pad>', '<pad>', '<pad>', '<pad>', '<pad>', '<pad>', '<pad>', '<pad>', '<pad>', '<pad>', '<pad>', '<pad>', '<pad>', '<pad>', '<pad>', '<pad>', '<pad>', '<pad>', '<pad>', '<pad>', '<pad>', '<pad>', '<pad>', '<pad>', '<pad>', '<pad>', '<pad>', '<pad>', '<pad>', '<pad>', '<pad>', '<pad>', '<pad>', '<pad>', '<pad>', '<pad>', '<pad>', '<pad>', '<pad>', '<pad>', '<pad>', '<pad>', '<pad>', '<pad>', '<pad>', '<pad>', '<pad>', '<pad>', '<pad>', '<pad>', '<pad>', '<pad>', '<pad>', '<pad>', '<pad>', '<pad>']\n",
      "['just', 'finish', 'watch', 'can', 'not', 'say', '-pron-', 'be', 'impressed.<br', '/><br', '/>it', 'start', 'of', 'quite', 'good', 'the', 'visual', 'and', 'the', 'atmosphere', 'give', 'a', 'creepy', 'feeling', 'as', 'this', 'type', 'of', 'movie', 'should', 'but', '-pron-', 'all', 'end', 'when', 'the', 'first', 'lordi', 'monster', 'appear', 'not', 'only', 'do', '-pron-', 'recognize', '-pron-', 'from', 'the', 'band', 'lordi', 'but', '-pron-', 'be', 'seriously', '<unk>', 'in', 'the', 'movie', 'doomsday', 'monster', 'with', 'leather', 'jacket', 'and', 'piercing', 'be', 'so', \"80's.<br\", '/><br', '/>as', 'for', 'the', 'storyline', '-pron-', 'start', 'of', 'as', 'similar', 'horror', 'movie', 'people', 'trap', 'inside', 'a', 'hell', 'hole', 'but', 'there', 'be', 'no', 'clear', 'story', 'on', 'why', 'and', 'what', 'be', 'happen', 'the', 'viewer', 'be', 'throw', 'some', 'line', 'on', 'possible', 'reason', 'but', 'the', 'line', 'never', 'meet', 'and', 'end', 'up', 'to', 'anything', 'but', 'a', 'mess.<br', '/><br', '/>with', 'all', 'the', 'money', 'spend', 'on', 'this', 'film', 'with', 'an', 'intriguing', 'start', 'and', 'some', 'good', 'effect', '-pron-', 'have', 'think', 'someone', 'would', 'have', 'take', 'good', 'care', 'of', 'the', 'product', '-pron-', 'wonder', 'if', 'lordi', 'make', 'this', 'movie', 'just', 'to', 'prove', 'that', '-pron-', 'show', 'costume', 'could', 'be', 'scary', 'except', '-pron-', '<unk>', '/><br', '/>so', 'the', 'movie', 'get', 'cr', 'for', 'the', 'visual', 'i', 'guess', 'the', 'money', 'have', 'to', 'go', 'somewhere', 'but', 'the', 'rest', 'be', 'an', 'embarrassing', 'attempt', 'from', 'a', 'rock', 'band', 'to', 'make', '-pron-', 'on', 'stage', 'monster', 'alias', 'scarier', '<pad>', '<pad>', '<pad>', '<pad>', '<pad>', '<pad>', '<pad>', '<pad>', '<pad>', '<pad>', '<pad>', '<pad>', '<pad>', '<pad>', '<pad>', '<pad>', '<pad>', '<pad>', '<pad>', '<pad>', '<pad>', '<pad>', '<pad>', '<pad>', '<pad>', '<pad>', '<pad>', '<pad>', '<pad>', '<pad>', '<pad>', '<pad>', '<pad>', '<pad>', '<pad>', '<pad>', '<pad>', '<pad>', '<pad>', '<pad>', '<pad>', '<pad>', '<pad>', '<pad>', '<pad>', '<pad>', '<pad>', '<pad>', '<pad>', '<pad>', '<pad>', '<pad>', '<pad>', '<pad>', '<pad>', '<pad>', '<pad>', '<pad>', '<pad>', '<pad>', '<pad>', '<pad>', '<pad>', '<pad>', '<pad>', '<pad>', '<pad>', '<pad>', '<pad>', '<pad>', '<pad>', '<pad>', '<pad>', '<pad>', '<pad>', '<pad>', '<pad>', '<pad>', '<pad>', '<pad>', '<pad>', '<pad>', '<pad>', '<pad>', '<pad>', '<pad>', '<pad>', '<pad>', '<pad>', '<pad>', '<pad>', '<pad>', '<pad>', '<pad>', '<pad>', '<pad>', '<pad>', '<pad>', '<pad>', '<pad>', '<pad>', '<pad>', '<pad>', '<pad>', '<pad>', '<pad>', '<pad>', '<pad>', '<pad>', '<pad>', '<pad>', '<pad>', '<pad>', '<pad>', '<pad>', '<pad>', '<pad>', '<pad>', '<pad>', '<pad>', '<pad>', '<pad>', '<pad>', '<pad>', '<pad>', '<pad>', '<pad>', '<pad>', '<pad>', '<pad>', '<pad>', '<pad>', '<pad>', '<pad>', '<pad>', '<pad>', '<pad>', '<pad>', '<pad>', '<pad>', '<pad>', '<pad>', '<pad>', '<pad>', '<pad>', '<pad>', '<pad>', '<pad>', '<pad>', '<pad>', '<pad>', '<pad>', '<pad>', '<pad>', '<pad>', '<pad>', '<pad>', '<pad>', '<pad>', '<pad>', '<pad>', '<pad>', '<pad>', '<pad>', '<pad>', '<pad>', '<pad>', '<pad>', '<pad>', '<pad>', '<pad>', '<pad>', '<pad>', '<pad>', '<pad>', '<pad>', '<pad>', '<pad>', '<pad>', '<pad>', '<pad>', '<pad>', '<pad>', '<pad>', '<pad>', '<pad>', '<pad>', '<pad>', '<pad>', '<pad>', '<pad>', '<pad>', '<pad>', '<pad>', '<pad>']\n",
      "['for', 'fan', 'of', 'troma', 'or', 'the', 'cyberpunk', 'genre', 'mix', 'with', 'a', 'little', 'blood', 'shed', 'then', 'this', 'film', 'for', '-pron-', 'there', 'be', 'a', 'good', 'amount', 'of', 'blood', 'shed', 'within', 'the', 'confine', 'of', 'this', 'film', 'also', 'the', 'effect', 'can', 'be', 'impressionable', 'and', 'awesome', 'the', 'plot', 'be', 'ridiculous', 'and', 'refreshing', 'not', 'be', 'chain', 'down', 'to', 'what', '-pron-', 'as', 'audience', 'be', 'expectant', 'of', 'from', 'film', 'these', 'days.<br', '/><br', '/>also', 'notable', 'be', 'the', 'little', 'alien', 'who', '-pron-', 'find', 'cute', 'all', 'in', 'all', '-pron-', 'be', 'a', 'good', 'film', 'for', 'fan', 'of', 'the', 'genre', 'also', 'recommend', 'be', 'film', 'such', 'as', 'tetsuo', 'the', 'iron', 'man', 'and', 'versus', 'for', 'that', 'weird', 'japanese', 'film', 'approach', 'fill', 'with', 'wonderful', 'obscurity', 'and', 'bloodshed', 'of', 'course', 'see', 'this', 'film', '-pron-', 'should', 'already', 'have', 'knowledge', 'of', 'the', 'two', '<pad>', '<pad>', '<pad>', '<pad>', '<pad>', '<pad>', '<pad>', '<pad>', '<pad>', '<pad>', '<pad>', '<pad>', '<pad>', '<pad>', '<pad>', '<pad>', '<pad>', '<pad>', '<pad>', '<pad>', '<pad>', '<pad>', '<pad>', '<pad>', '<pad>', '<pad>', '<pad>', '<pad>', '<pad>', '<pad>', '<pad>', '<pad>', '<pad>', '<pad>', '<pad>', '<pad>', '<pad>', '<pad>', '<pad>', '<pad>', '<pad>', '<pad>', '<pad>', '<pad>', '<pad>', '<pad>', '<pad>', '<pad>', '<pad>', '<pad>', '<pad>', '<pad>', '<pad>', '<pad>', '<pad>', '<pad>', '<pad>', '<pad>', '<pad>', '<pad>', '<pad>', '<pad>', '<pad>', '<pad>', '<pad>', '<pad>', '<pad>', '<pad>', '<pad>', '<pad>', '<pad>', '<pad>', '<pad>', '<pad>', '<pad>', '<pad>', '<pad>', '<pad>', '<pad>', '<pad>', '<pad>', '<pad>', '<pad>', '<pad>', '<pad>', '<pad>', '<pad>', '<pad>', '<pad>', '<pad>', '<pad>', '<pad>', '<pad>', '<pad>', '<pad>', '<pad>', '<pad>', '<pad>', '<pad>', '<pad>', '<pad>', '<pad>', '<pad>', '<pad>', '<pad>', '<pad>', '<pad>', '<pad>', '<pad>', '<pad>', '<pad>', '<pad>', '<pad>', '<pad>', '<pad>', '<pad>', '<pad>', '<pad>', '<pad>', '<pad>', '<pad>', '<pad>', '<pad>', '<pad>', '<pad>', '<pad>', '<pad>', '<pad>', '<pad>', '<pad>', '<pad>', '<pad>', '<pad>', '<pad>', '<pad>', '<pad>', '<pad>', '<pad>', '<pad>', '<pad>', '<pad>', '<pad>', '<pad>', '<pad>', '<pad>', '<pad>', '<pad>', '<pad>', '<pad>', '<pad>', '<pad>', '<pad>', '<pad>', '<pad>', '<pad>', '<pad>', '<pad>', '<pad>', '<pad>', '<pad>', '<pad>', '<pad>', '<pad>', '<pad>', '<pad>', '<pad>', '<pad>', '<pad>', '<pad>', '<pad>', '<pad>', '<pad>', '<pad>', '<pad>', '<pad>', '<pad>', '<pad>', '<pad>', '<pad>', '<pad>', '<pad>', '<pad>', '<pad>', '<pad>', '<pad>', '<pad>', '<pad>', '<pad>', '<pad>', '<pad>', '<pad>', '<pad>', '<pad>', '<pad>', '<pad>', '<pad>', '<pad>', '<pad>', '<pad>', '<pad>', '<pad>', '<pad>', '<pad>', '<pad>', '<pad>', '<pad>', '<pad>', '<pad>', '<pad>', '<pad>', '<pad>', '<pad>', '<pad>', '<pad>', '<pad>', '<pad>', '<pad>', '<pad>', '<pad>', '<pad>', '<pad>', '<pad>', '<pad>', '<pad>', '<pad>', '<pad>', '<pad>', '<pad>', '<pad>', '<pad>', '<pad>', '<pad>', '<pad>', '<pad>', '<pad>', '<pad>', '<pad>', '<pad>', '<pad>', '<pad>', '<pad>', '<pad>', '<pad>', '<pad>', '<pad>', '<pad>', '<pad>', '<pad>', '<pad>', '<pad>', '<pad>', '<pad>', '<pad>', '<pad>', '<pad>', '<pad>', '<pad>', '<pad>', '<pad>', '<pad>', '<pad>', '<pad>', '<pad>', '<pad>', '<pad>', '<pad>', '<pad>', '<pad>', '<pad>', '<pad>', '<pad>', '<pad>', '<pad>', '<pad>', '<pad>', '<pad>']\n",
      "['-pron-', 'be', 'not', 'really', 'fond', 'of', 'the', 'first', 'cube', 'movie', '-pron-', 'be', 'a', 'good', 'idea', 'but', 'the', 'annoying', 'acting', 'and', 'character', 'always', 'keep', '-pron-', 'from', 'like', '-pron-', 'too', 'much', 'do', 'not', 'really', 'feel', 'the', 'need', 'to', 'see', '-pron-', 'sequel', 'but', 'when', '-pron-', 'hear', '-pron-', 'be', 'make', 'a', 'third', 'movie', 'that', 'would', 'act', 'as', 'more', 'of', 'a', 'prequel', 'to', 'the', 'original', '-pron-', 'be', 'intrigue', 'think', 'that', 'maybe', '-pron-', 'would', 'fix', 'some', 'of', 'the', 'original', \"'s\", 'problem', 'and', 'provide', '-pron-', 'with', 'a', 'memorable', 'cast', 'of', 'character', 'well', '-pron-', 'think', 'wrong.<br', '/><br', '<unk>', 'zero', 'start', 'well', 'enough', 'by', 'introduce', '-pron-', 'with', 'the', 'two', 'character', 'in', 'charge', 'of', 'watch', 'and', 'maintain', 'the', 'never', 'end', 'maze', 'of', 'trap', 'that', 'plague', 'the', 'people', 'in', 'the', 'cube', 'the', 'filmmaker', 'succeed', 'in', 'provide', 'a', 'sense', 'of', 'mystery', 'with', 'the', 'establishment', 'of', 'the', 'two', 'man', \"'s\", 'daily', 'routine', 'several', 'question', 'be', 'create', 'from', '-pron-', 'concern', 'the', 'reason', 'why', 'people', 'be', 'send', 'there', 'and', 'also', 'the', 'true', 'nature', 'of', 'the', 'one', 'who', 'run', 'the', 'entire', 'operation', 'all', 'of', 'which', 'be', 'leave', 'entirely', 'to', 'the', 'viewer', 'the', 'acting', 'be', 'a', 'bit', 'weak', 'but', 'all', 'in', 'all', 'the', 'movie', \"'s\", 'first', 'half', 'move', 'relatively', 'well.<br', '/><br', '/>with', 'the', 'story', 'move', 'on', 'one', 'of', 'the', 'two', 'watcher', 'begin', 'to', 'develop', 'serious', 'doubt', 'about', 'what', '-pron-', 'be', 'do', 'and', 'later', 'decide', 'to', 'go', 'and', 'help', 'a', 'group', 'of', 'the', 'people', 'trap', 'here', 'be', 'where', 'everything', 'rapidly', 'start', 'to', 'dissolve', 'into', 'dull', 'cheese.<br', '/><br', '<unk>', 'by', 'the', 'people', 'who', 'run', 'the', 'cube', 'program', '-pron-', 'be', 'introduce', 'to', 'the', 'character', '<unk>', 'along', 'with', '-pron-', 'two', 'underling', 'play', 'a', 'major', 'reason', 'as', 'to', 'why', 'this', 'movie', 'be', 'failure', 'to', 'start', 'of', '<unk>', 'look', 'and', 'talk', 'more', 'like', 'a', 'third', 'rate', 'villain', 'take', 'directly', 'from', 'a', 'james', 'bond', 'movie', 'complete', 'with', 'the', 'ever', 'popular', 'glass', 'eye', 'that', 'alone', 'ruin', 'any', 'atmosphere', 'create', 'by', 'the', 'first', 'half', \"'s\", 'relatively', 'nice', 'pace', 'what', 's', 'more', 'be', 'that', '-pron-', 'begin', 'to', 'feel', 'more', 'like', 'a', 'comedy', 'rather', 'than', 'a', 'serious', 'movie', 'with', 'some', 'incredibly', 'corny', 'line', 'perhaps', 'the', 'screenwriter', 'get', 'bore', 'and', 'do', 'not', 'care', 'the', 'act', '-pron-', 'degrade', 'to', 'a', 'further', 'low', 'when', 'the', 'former', 'watcher', 'meet', 'the', 'group', 'in', 'the', 'cube', 'the', 'entire', 'interaction', 'be', 'painful', 'to', 'watch', 'as', 'be', 'everything', 'else', 'follow', 'it.<br', '/><br', '/>again', 'fail', 'to', 'impress', 'on', 'anything', 'but', 'weak', 'character', 'dialog', 'and', 'acting', 'cube', 'zero', 'be', 'a', 'waste', 'of', 'time', 'for', 'those', 'search', 'for', 'a']\n",
      "['this', 'be', 'one', 'of', 'the', 'silly', 'movie', '-pron-', 'have', 'ever', 'have', 'the', 'misfortune', 'to', 'watch', '-pron-', 'should', 'have', 'expect', '-pron-', 'after', 'see', 'the', 'first', 'two', 'but', '-pron-', 'keep', 'get', 'sucker', 'into', 'these', 'type', 'of', 'movie', 'with', 'the', 'idea', 'of', 'maybe', '-pron-', 'do', '-pron-', 'right', 'this', 'time', 'nope', 'not', 'even', 'close.<br', '/><br', '/>where', 'do', '-pron-', 'begin', 'how', 'about', 'with', 'the', 'special', 'effect', '...', 'to', 'give', '-pron-', 'an', 'idea', 'of', 'what', 'pass', 'for', 'sfx', 'in', 'this', 'movie', 'at', 'one', 'point', 'a', 'soldier', 'be', 'shoot', 'at', 'a', 'raptor', 'as', '-pron-', 'run', 'down', 'a', 'hallway', 'even', 'with', 'less', 'than', 'a', 'second', 'of', 'screen', 'time', 'the', 'viewer', 'can', 'easily', 'see', 'that', '-pron-', 'be', 'just', 'a', 'man', 'with', 'a', 'tail', 'apparently', 'tap', 'to', '-pron-', 'run', 'around', 'bad', 'bad', 'bad', 'bad.<br', '/><br', '/>how', 'about', 'the', 'acting', 'if', 'that', 'be', 'what', '-pron-', 'can', 'call', '-pron-', 'there', 'be', 'one', 'character', 'who', '-pron-', 'suppose', 'be', 'suppose', 'to', 'be', 'from', 'the', 'south', 'however', 'after', 'live', 'in', 'the', 'south', 'for', 'six', 'year', 'now', '-pron-', 'have', 'never', 'hear', 'this', 'way', 'of', 'talk', 'perhaps', '-pron-', 'have', 'some', 'sort', 'of', 'weird', 'disability', 'the', 'inability', 'to', 'talk', 'normally', '-pron-', 'find', '-pron-', 'fascinating', 'that', 'the', 'character', 'do', 'nothing', 'that', 'require', '-pron-', 'to', 'have', 'that', 'accent', 'therefore', 'there', 'be', 'no', 'reason', 'for', 'the', 'actor', 'to', 'try', 'to', 'do', 'one.<br', '/><br', '/>how', 'about', 'the', 'plot', '-pron-', 'be', 'pretty', 'basic', 'raptor', 'escape', 'people', 'with', 'gun', 'must', 'hunt', '-pron-', 'down', '-pron-', 'be', 'start', 'to', 'wonder', 'why', 'the', 'dinosaur', 'in', 'these', 'movie', 'always', 'seem', 'to', 'run', 'into', 'the', 'near', 'system', 'of', 'tunnel', '...', 'would', 'not', '-pron-', 'stay', 'outside', 'to', 'hunt', 'prey', 'oh', 'well', 'at', 'least', '-pron-', 'have', 'the', 'good', 'sense', 'to', 'appear', 'very', 'very', 'little', 'in', 'the', 'movie', 'which', 'supposedly', 'revolve', 'around', 'them.<br', '/><br', '/>other', 'thing', 'let', '-pron-', 'say', '-pron-', 'be', 'in', 'a', 'building', 'and', '-pron-', 'know', 'that', 'there', 'be', 'man', 'eat', 'raptor', 'run', 'around', 'in', '-pron-', 'would', '-pron-', 'decide', 'to', 'take', 'time', 'out', 'to', 'have', 'an', 'argument', 'about', 'who', 'be', 'good', 'army', 'or', 'marine', 'and', 'then', 'decide', 'to', 'have', 'an', 'arm', 'wrestling', 'contest', 'to', 'settle', '-pron-', 'how', 'about', 'the', 'idiotic', 'idea', 'that', '-pron-', 'have', 'to', 'track', 'down', 'the', 'raptor', 'split', 'up', 'into', 'group', 'of', 'two', 'do', 'not', '-pron-', 'ever', 'watch', 'any', 'horror', 'movie', 'or', 'at', 'least', 'an', 'episode', 'of', 'scooby', 'doo', 'in', 'short', 'this', 'be', 'one', 'of', 'the', 'dumb', 'movie', 'out', 'there', 'miss', '-pron-', 'unless', '-pron-', 'want', 'to', 'groan', '-pron-', 'way', 'through', 'a', 'movie', '<pad>', '<pad>', '<pad>', '<pad>', '<pad>', '<pad>', '<pad>']\n",
      "['-pron-', 'be', 'difficult', 'to', 'precisely', 'put', 'into', 'word', 'the', 'sheer', 'awfulness', 'of', 'this', 'film', 'an', 'entirely', 'new', 'vocabulary', 'will', 'have', 'to', 'be', 'invent', 'to', 'describe', 'the', 'complete', 'absence', 'of', 'anything', 'even', 'remotely', 'recognizable', 'as', 'humor', 'or', 'even', 'entertainment', 'in', 'rabbit', 'test', 'so', 'as', 'a', 'small', 'contribution', 'to', 'this', 'future', 'effort', '-pron-', 'would', 'like', 'to', 'suggest', 'this', 'word', 'br', '/><br', '<unk>', '<unk>', 'a', 'combination', 'of', 'hubristic', 'and', 'terrific', 'use', 'to', 'describe', 'overly', 'ambitious', 'debacle', 'like', 'the', 'film', 'rabbit', '<unk>', 'br', '/><br', '/>joan', 'river', 'and', 'hollywood', 'squares', 'producer', 'jay', '<unk>', 'have', 'severely', 'over', 'reach', '-pron-', 'meager', 'ability', 'to', 'amuse', 'in', 'this', '<unk>', 'festival', 'of', 'wretchedness', 'try', 'to', 'put', 'together', 'an', 'airplane', 'style', 'comedy', 'with', 'a', 'moldy', 'collection', 'of', 'gag', 'note', 'to', 'joan', 'german', 'doctor', 'have', 'not', 'be', 'funny', 'since', 'vaudeville', 'disinter', 'from', '-pron-', 'graf', 'in', 'the', '<unk>', 'that', 'be', 'be', 'bad', 'enough', 'but', 'compound', 'this', 'cinematic', 'crime', 'be', 'river', \"'s\", 'directorial', 'style', 'which', 'can', 'best', 'be', 'describe', 'as', 'ugly', 'and', 'a', 'cast', 'of', 'once', 'and', 'future', 'have', 'been', 'so', 'eager', 'to', 'please', '-pron-', 'overplay', 'even', 'the', 'weak', 'of', 'throwaway', 'gags.<br', '/><br', '<unk>', 'in', 'this', 'sargasso', 'sea', 'of', 'sap', 'be', 'a', 'hapless', 'billy', 'crystal', 'in', '-pron-', 'film', 'debut', 'role', 'as', 'the', 'film', \"'s\", 'hapless', 'protagonist', 'lionel', 'watch', 'crystal', 'in', 'this', 'pic', 'be', 'much', 'like', 'watch', 'a', 'blind', 'person', 'take', 'a', 'stroll', 'in', 'a', 'minefield', 'eventually', 'the', 'cringe', 'reflex', 'become', 'a', 'semi', 'permanent', 'condition', 'as', 'cheap', 'joke', 'after', 'cheap', 'joke', 'blow', 'up', 'in', '-pron-', 'face.<br', '/><br', '/>i', 'can', 'only', 'speculate', 'about', 'the', 'sort', 'of', 'audience', 'who', 'may', 'actually', 'like', 'rabbit', 'test', 'cabbage', '<unk>', 'and', 'mildly', 'retarded', 'lizard', 'be', 'all', 'likely', 'candidate', 'but', 'for', 'self', 'aware', 'think', 'human', '-pron-', 'would', 'enthusiastically', 'recommend', 'pour', 'bleach', 'in', '-pron-', 'eye', 'before', '-pron-', 'would', 'recommend', 'rabbit', 'test', '<pad>', '<pad>', '<pad>', '<pad>', '<pad>', '<pad>', '<pad>', '<pad>', '<pad>', '<pad>', '<pad>', '<pad>', '<pad>', '<pad>', '<pad>', '<pad>', '<pad>', '<pad>', '<pad>', '<pad>', '<pad>', '<pad>', '<pad>', '<pad>', '<pad>', '<pad>', '<pad>', '<pad>', '<pad>', '<pad>', '<pad>', '<pad>', '<pad>', '<pad>', '<pad>', '<pad>', '<pad>', '<pad>', '<pad>', '<pad>', '<pad>', '<pad>', '<pad>', '<pad>', '<pad>', '<pad>', '<pad>', '<pad>', '<pad>', '<pad>', '<pad>', '<pad>', '<pad>', '<pad>', '<pad>', '<pad>', '<pad>', '<pad>', '<pad>', '<pad>', '<pad>', '<pad>', '<pad>', '<pad>', '<pad>', '<pad>', '<pad>', '<pad>', '<pad>', '<pad>', '<pad>', '<pad>', '<pad>', '<pad>', '<pad>', '<pad>', '<pad>', '<pad>', '<pad>', '<pad>', '<pad>', '<pad>', '<pad>', '<pad>', '<pad>', '<pad>', '<pad>', '<pad>', '<pad>', '<pad>', '<pad>', '<pad>', '<pad>', '<pad>', '<pad>', '<pad>', '<pad>', '<pad>', '<pad>', '<pad>', '<pad>', '<pad>', '<pad>', '<pad>', '<pad>', '<pad>', '<pad>', '<pad>', '<pad>', '<pad>', '<pad>', '<pad>']\n",
      "['maybe', '-pron-', 'be', 'just', 'because', '-pron-', 'have', 'an', 'intense', 'fear', 'of', 'hospital', 'and', 'medical', 'stuff', 'but', 'this', 'one', 'get', 'under', '-pron-', 'skin', 'pardon', 'the', 'pun', 'this', 'piece', 'be', 'brave', 'not', 'afraid', 'to', 'go', 'over', 'the', 'top', 'and', 'as', 'satisfy', 'as', '-pron-', 'come', 'in', 'term', 'of', 'revenge', 'movie', 'not', 'only', 'do', '-pron-', 'find', '-pron-', 'feel', 'lot', 'of', 'hatred', 'for', 'the', '<unk>', 'and', 'lot', 'of', 'sympathy', 'towards', 'the', '<unk>', '-pron-', 'feel', '-pron-', 'cringe', 'and', 'feel', 'pang', 'of', 'disgust', 'at', 'certain', 'juncture', 'which', 'be', 'really', 'a', 'rare', 'and', 'delightful', 'thing', 'for', 'a', 'somewhat', 'jaded', 'horror', 'viewer', 'like', '-pron-', 'some', 'part', 'be', 'very', '<unk>', 'of', 'hellraiser', 'but', 'come', 'off', 'as', 'tribute', 'rather', 'than', 'imitation', '-pron-', 'be', 'a', 'heavy', 'handed', 'piece', 'that', 'do', 'not', 'offer', 'the', 'viewer', 'much', 'to', 'consider', 'but', '-pron-', 'enjoy', 'be', 'assault', 'by', 'a', 'film', 'once', 'and', 'awhile', 'this', 'piece', 'bring', '-pron-', 'and', 'do', 'not', '<unk>', '-pron-', 'like', 'this', 'one', 'a', 'lot', 'do', 'not', 'watch', 'whilst', 'eat', 'pudding', '<pad>', '<pad>', '<pad>', '<pad>', '<pad>', '<pad>', '<pad>', '<pad>', '<pad>', '<pad>', '<pad>', '<pad>', '<pad>', '<pad>', '<pad>', '<pad>', '<pad>', '<pad>', '<pad>', '<pad>', '<pad>', '<pad>', '<pad>', '<pad>', '<pad>', '<pad>', '<pad>', '<pad>', '<pad>', '<pad>', '<pad>', '<pad>', '<pad>', '<pad>', '<pad>', '<pad>', '<pad>', '<pad>', '<pad>', '<pad>', '<pad>', '<pad>', '<pad>', '<pad>', '<pad>', '<pad>', '<pad>', '<pad>', '<pad>', '<pad>', '<pad>', '<pad>', '<pad>', '<pad>', '<pad>', '<pad>', '<pad>', '<pad>', '<pad>', '<pad>', '<pad>', '<pad>', '<pad>', '<pad>', '<pad>', '<pad>', '<pad>', '<pad>', '<pad>', '<pad>', '<pad>', '<pad>', '<pad>', '<pad>', '<pad>', '<pad>', '<pad>', '<pad>', '<pad>', '<pad>', '<pad>', '<pad>', '<pad>', '<pad>', '<pad>', '<pad>', '<pad>', '<pad>', '<pad>', '<pad>', '<pad>', '<pad>', '<pad>', '<pad>', '<pad>', '<pad>', '<pad>', '<pad>', '<pad>', '<pad>', '<pad>', '<pad>', '<pad>', '<pad>', '<pad>', '<pad>', '<pad>', '<pad>', '<pad>', '<pad>', '<pad>', '<pad>', '<pad>', '<pad>', '<pad>', '<pad>', '<pad>', '<pad>', '<pad>', '<pad>', '<pad>', '<pad>', '<pad>', '<pad>', '<pad>', '<pad>', '<pad>', '<pad>', '<pad>', '<pad>', '<pad>', '<pad>', '<pad>', '<pad>', '<pad>', '<pad>', '<pad>', '<pad>', '<pad>', '<pad>', '<pad>', '<pad>', '<pad>', '<pad>', '<pad>', '<pad>', '<pad>', '<pad>', '<pad>', '<pad>', '<pad>', '<pad>', '<pad>', '<pad>', '<pad>', '<pad>', '<pad>', '<pad>', '<pad>', '<pad>', '<pad>', '<pad>', '<pad>', '<pad>', '<pad>', '<pad>', '<pad>', '<pad>', '<pad>', '<pad>', '<pad>', '<pad>', '<pad>', '<pad>', '<pad>', '<pad>', '<pad>', '<pad>', '<pad>', '<pad>', '<pad>', '<pad>', '<pad>', '<pad>', '<pad>', '<pad>', '<pad>', '<pad>', '<pad>', '<pad>', '<pad>', '<pad>', '<pad>', '<pad>', '<pad>', '<pad>', '<pad>', '<pad>', '<pad>', '<pad>', '<pad>', '<pad>', '<pad>', '<pad>', '<pad>', '<pad>', '<pad>', '<pad>', '<pad>', '<pad>', '<pad>', '<pad>', '<pad>', '<pad>', '<pad>', '<pad>', '<pad>', '<pad>', '<pad>', '<pad>', '<pad>', '<pad>', '<pad>', '<pad>', '<pad>', '<pad>', '<pad>', '<pad>', '<pad>', '<pad>', '<pad>', '<pad>', '<pad>', '<pad>', '<pad>', '<pad>', '<pad>', '<pad>', '<pad>', '<pad>', '<pad>', '<pad>', '<pad>', '<pad>']\n",
      "['first', 'of', 'all', '-pron-', 'have', 'get', 'to', 'give', '-pron-', 'to', 'the', 'people', 'that', 'get', 'this', 'thing', 'together', '9/11', 'be', 'such', 'a', 'sensitive', 'issue', 'that', 'make', 'a', 'movie', 'that', 'dare', 'to', 'be', 'controversial', 'about', '-pron-', 'take', 'a', 'great', 'deal', 'of', 'gut', '-pron-', 'be', 'a', 'shame', 'although', 'not', 'surprising', 'that', 'the', 'movie', 'be', 'ban', 'in', 'the', 'us.<br', '/><br', '/>that', 'be', 'say', '-pron-', 'think', 'that', 'the', 'movie', 'be', 'superb', 'with', 'a', 'couple', 'of', 'weak', 'moment', 'the', 'movie', 'start', 'up', 'with', 'the', 'iranian', 'segment', 'which', 'turn', 'out', 'to', 'be', 'somewhat', 'reminiscent', 'of', '<unk>', '<unk>', \"'s\", 'work', 'the', 'absolutely', 'beautiful', 'heaven', \"'s\", 'child', 'and', 'the', 'color', 'of', 'paradise', 'much', 'like', 'those', '2', 'film', 'the', 'clip', 'show', 'what', 'happen', 'through', 'the', 'innocent', 'eye', 'of', 'a', 'class', 'of', '<unk>', 'refugee', 'in', 'iran', 'absolutely', 'beautiful', 'clip', 'same', 'go', 'for', 'sean', 'penn', \"'s\", 'clip', 'which', 'be', 'superb', 'as', 'well', 'but', 'just', 'as', 'some', 'of', 'the', 'clip', 'be', 'beutiful', 'other', 'be', 'absolutely', 'brutal', 'alejandro', '<unk>', 'iñárritu', 'do', 'the', 'mexican', 'clip', 'and', 'just', 'like', '-pron-', 'gut', 'wrench', 'amores', '<unk>', '-pron-', 'do', '-pron-', 'as', 'brutal', 'as', '-pron-', 'can', 'most', 'of', 'the', 'clip', 'be', 'a', 'black', 'screen', 'with', 'several', 'sound', 'play', 'in', 'the', 'background', 'those', 'sound', 'be', 'of', 'the', 'reporter', 'and', '-pron-', 'shock', 'as', 'the', 'second', 'plane', 'crash', 'those', 'who', 'call', 'home', 'from', 'the', 'burn', 'tower', 'and', 'leave', 'message', 'for', '-pron-', 'family', 'those', 'who', 'be', 'angry', '....', 'and', '-pron-', 'combine', 'this', 'with', 'flash', 'of', 'people', 'jump', 'from', 'the', 'tower', 'a', 'very', 'hard', 'clip', 'to', 'watch', 'and', 'one', 'that', '-pron-', 'will', 'not', 'forget.<br', '/><br', '/>some', 'clip', 'could', 'turn', 'out', 'to', 'be', 'very', 'hard', 'to', 'watch', 'for', 'americans', 'as', 'some', 'of', 'the', 'clip', 'could', 'be', 'interpret', 'as', '-pron-', 'be', 'not', 'the', 'only', 'one', 'that', 'be', 'suffer', 'in', 'particular', 'the', 'egyptian', 'and', 'british', 'clip', 'that', 'not', 'only', 'say', 'that', 'but', 'turn', 'the', 'table', 'and', 'say', 'how', 'much', 'suffer', 'the', 'us', 'have', 'cause', 'to', 'other', 'people.<br', '/><br', '/>i', 'will', 'also', 'make', 'a', 'special', 'mention', 'to', 'the', 'clip', 'from', 'bosnia', 'herzegovina', 'france', 'india', 'and', 'japan', 'although', 'this', 'last', 'one', 'may', 'seem', 'terribly', 'out', 'of', 'place', '-pron-', 'actually', '<unk>', '/><br', '/>however', 'not', 'all', 'the', 'clip', 'be', 'great', 'and', '-pron-', 'make', 'a', 'special', 'mention', 'on', 'the', 'clip', 'from', 'israel', 'which', 'in', '-pron-', 'opinion', 'be', 'extremely', 'weak', 'while', 'the', 'idea', 'be', 'good', 'a', 'reporter', 'be', 'at', 'the', 'scene', 'of', 'a', 'terrorist', 'attack', 'in', 'tel', 'aviv', 'but', '-pron-', 'story', 'get', 'bump', 'because', 'of', 'what', 'happen', 'in', 'new', 'york', 'be', 'something', 'that', 'a']\n",
      "['i', 'will', 'not', 'go', 'and', 'give', '-pron-', '-pron-', '10', 'buck', 'i', 'go', 'and', 'buy', 'the', 'fourth', 'season', 'of', 'the', 'original', 'and', 'the', 'good', 'at', 'least', '-pron-', 'kid', 'enjoy', '-pron-', 'and', 'can', 'watch', '-pron-', 'without', '-pron-', 'worry', 'about', 'what', '-pron-', 'be', 'see', '-pron-', 'have', 'a', 'teenager', 'and', '-pron-', 'think', 'the', 'preview', 'be', 'ridiculous', 'and', 'would', 'rather', 'watch', 'the', 'original', 'and', '-pron-', 'think', 'jessica', 'simpson', 'be', 'a', 'horrible', 'daisy', 'in', 'fact', '-pron-', 'think', '-pron-', 'look', 'more', 'like', 'a', 'slut', 'than', 'daisy', 'duke', 'those', 'short', '-pron-', 'may', 'as', 'well', 'not', 'be', 'wear', 'anything', 'at', 'all', 'and', 'since', 'when', 'be', 'american', 'pie', 'have', 'anything', 'to', 'do', 'with', 'the', 'dukes', 'shame', 'on', '-pron-', 'for', 'put', 'that', 'nasty', 'line', 'in', 'there', 'about', 'have', 'sex', 'with', 'a', 'car', 'that', 'in', '-pron-', 'should', 'have', 'get', 'the', 'movie', 'a', 'r', 'rating', 'the', 'only', 'good', 'thing', 'that', 'may', 'come', 'out', 'of', 'this', 'be', 'a', 'reunion', 'movie', 'with', 'the', 'original', 'let', 'all', 'hope', 'so', 'the', 'people', 'out', 'there', 'that', 'go', 'and', 'see', 'the', 'movie', 'will', 'see', 'how', '-pron-', 'should', 'have', 'look', '<pad>', '<pad>', '<pad>', '<pad>', '<pad>', '<pad>', '<pad>', '<pad>', '<pad>', '<pad>', '<pad>', '<pad>', '<pad>', '<pad>', '<pad>', '<pad>', '<pad>', '<pad>', '<pad>', '<pad>', '<pad>', '<pad>', '<pad>', '<pad>', '<pad>', '<pad>', '<pad>', '<pad>', '<pad>', '<pad>', '<pad>', '<pad>', '<pad>', '<pad>', '<pad>', '<pad>', '<pad>', '<pad>', '<pad>', '<pad>', '<pad>', '<pad>', '<pad>', '<pad>', '<pad>', '<pad>', '<pad>', '<pad>', '<pad>', '<pad>', '<pad>', '<pad>', '<pad>', '<pad>', '<pad>', '<pad>', '<pad>', '<pad>', '<pad>', '<pad>', '<pad>', '<pad>', '<pad>', '<pad>', '<pad>', '<pad>', '<pad>', '<pad>', '<pad>', '<pad>', '<pad>', '<pad>', '<pad>', '<pad>', '<pad>', '<pad>', '<pad>', '<pad>', '<pad>', '<pad>', '<pad>', '<pad>', '<pad>', '<pad>', '<pad>', '<pad>', '<pad>', '<pad>', '<pad>', '<pad>', '<pad>', '<pad>', '<pad>', '<pad>', '<pad>', '<pad>', '<pad>', '<pad>', '<pad>', '<pad>', '<pad>', '<pad>', '<pad>', '<pad>', '<pad>', '<pad>', '<pad>', '<pad>', '<pad>', '<pad>', '<pad>', '<pad>', '<pad>', '<pad>', '<pad>', '<pad>', '<pad>', '<pad>', '<pad>', '<pad>', '<pad>', '<pad>', '<pad>', '<pad>', '<pad>', '<pad>', '<pad>', '<pad>', '<pad>', '<pad>', '<pad>', '<pad>', '<pad>', '<pad>', '<pad>', '<pad>', '<pad>', '<pad>', '<pad>', '<pad>', '<pad>', '<pad>', '<pad>', '<pad>', '<pad>', '<pad>', '<pad>', '<pad>', '<pad>', '<pad>', '<pad>', '<pad>', '<pad>', '<pad>', '<pad>', '<pad>', '<pad>', '<pad>', '<pad>', '<pad>', '<pad>', '<pad>', '<pad>', '<pad>', '<pad>', '<pad>', '<pad>', '<pad>', '<pad>', '<pad>', '<pad>', '<pad>', '<pad>', '<pad>', '<pad>', '<pad>', '<pad>', '<pad>', '<pad>', '<pad>', '<pad>', '<pad>', '<pad>', '<pad>', '<pad>', '<pad>', '<pad>', '<pad>', '<pad>', '<pad>', '<pad>', '<pad>', '<pad>', '<pad>', '<pad>', '<pad>', '<pad>', '<pad>', '<pad>', '<pad>', '<pad>', '<pad>', '<pad>', '<pad>', '<pad>', '<pad>', '<pad>', '<pad>', '<pad>', '<pad>', '<pad>', '<pad>', '<pad>', '<pad>', '<pad>', '<pad>', '<pad>', '<pad>', '<pad>', '<pad>', '<pad>', '<pad>', '<pad>', '<pad>', '<pad>', '<pad>', '<pad>', '<pad>', '<pad>', '<pad>']\n",
      "['this', 'movie', 'be', 'simply', 'not', 'worth', 'the', 'time', 'or', 'money', 'spend', 'full', 'of', 'clichés', 'and', 'a', 'plot', 'that', 'make', 'absolutely', 'no', 'sense', '-pron-', 'can', 'not', 'believe', 'that', 'so', 'many', 'people', 'have', 'give', 'this', 'awful', 'movie', 'a', '10', '-pron-', 'guess', 'be', '-pron-', 'be', 'stooge', 'of', 'the', 'movie', 'maker', 'br', '/><br', '/>if', '-pron-', 'could', 'give', 'this', 'movie', 'a', 'zero', '-pron-', 'would', 'too', 'bad', 'imdb', 'do', 'not', 'allow', 'that', 'br', '/><br', '/>the', 'only', 'reason', '-pron-', 'watch', '-pron-', 'because', '-pron-', 'go', 'with', 'a', 'friend', 'who', 'really', 'want', 'to', 'see', '-pron-', 'what', 's', 'sad', 'be', 'that', '-pron-', 'never', 'have', 'great', 'expectation', 'from', 'this', 'movie', 'to', 'begin', 'with', 'and', 'yet', '-pron-', 'feel', 'short', 'change', 'take', '-pron-', 'word', 'do', 'not', 'waste', '-pron-', '8', 'on', 'this', 'piece', 'of', 'trash', 'the', 'only', 'entertainment', '-pron-', 'get', 'out', 'of', 'the', 'movie', 'be', 'make', 'fun', 'of', 'the', 'director', 'name', 'in', 'all', 'highly', 'not', 'recommended', '<pad>', '<pad>', '<pad>', '<pad>', '<pad>', '<pad>', '<pad>', '<pad>', '<pad>', '<pad>', '<pad>', '<pad>', '<pad>', '<pad>', '<pad>', '<pad>', '<pad>', '<pad>', '<pad>', '<pad>', '<pad>', '<pad>', '<pad>', '<pad>', '<pad>', '<pad>', '<pad>', '<pad>', '<pad>', '<pad>', '<pad>', '<pad>', '<pad>', '<pad>', '<pad>', '<pad>', '<pad>', '<pad>', '<pad>', '<pad>', '<pad>', '<pad>', '<pad>', '<pad>', '<pad>', '<pad>', '<pad>', '<pad>', '<pad>', '<pad>', '<pad>', '<pad>', '<pad>', '<pad>', '<pad>', '<pad>', '<pad>', '<pad>', '<pad>', '<pad>', '<pad>', '<pad>', '<pad>', '<pad>', '<pad>', '<pad>', '<pad>', '<pad>', '<pad>', '<pad>', '<pad>', '<pad>', '<pad>', '<pad>', '<pad>', '<pad>', '<pad>', '<pad>', '<pad>', '<pad>', '<pad>', '<pad>', '<pad>', '<pad>', '<pad>', '<pad>', '<pad>', '<pad>', '<pad>', '<pad>', '<pad>', '<pad>', '<pad>', '<pad>', '<pad>', '<pad>', '<pad>', '<pad>', '<pad>', '<pad>', '<pad>', '<pad>', '<pad>', '<pad>', '<pad>', '<pad>', '<pad>', '<pad>', '<pad>', '<pad>', '<pad>', '<pad>', '<pad>', '<pad>', '<pad>', '<pad>', '<pad>', '<pad>', '<pad>', '<pad>', '<pad>', '<pad>', '<pad>', '<pad>', '<pad>', '<pad>', '<pad>', '<pad>', '<pad>', '<pad>', '<pad>', '<pad>', '<pad>', '<pad>', '<pad>', '<pad>', '<pad>', '<pad>', '<pad>', '<pad>', '<pad>', '<pad>', '<pad>', '<pad>', '<pad>', '<pad>', '<pad>', '<pad>', '<pad>', '<pad>', '<pad>', '<pad>', '<pad>', '<pad>', '<pad>', '<pad>', '<pad>', '<pad>', '<pad>', '<pad>', '<pad>', '<pad>', '<pad>', '<pad>', '<pad>', '<pad>', '<pad>', '<pad>', '<pad>', '<pad>', '<pad>', '<pad>', '<pad>', '<pad>', '<pad>', '<pad>', '<pad>', '<pad>', '<pad>', '<pad>', '<pad>', '<pad>', '<pad>', '<pad>', '<pad>', '<pad>', '<pad>', '<pad>', '<pad>', '<pad>', '<pad>', '<pad>', '<pad>', '<pad>', '<pad>', '<pad>', '<pad>', '<pad>', '<pad>', '<pad>', '<pad>', '<pad>', '<pad>', '<pad>', '<pad>', '<pad>', '<pad>', '<pad>', '<pad>', '<pad>', '<pad>', '<pad>', '<pad>', '<pad>', '<pad>', '<pad>', '<pad>', '<pad>', '<pad>', '<pad>', '<pad>', '<pad>', '<pad>', '<pad>', '<pad>', '<pad>', '<pad>', '<pad>', '<pad>', '<pad>', '<pad>', '<pad>', '<pad>', '<pad>', '<pad>', '<pad>', '<pad>', '<pad>', '<pad>', '<pad>', '<pad>', '<pad>', '<pad>', '<pad>', '<pad>', '<pad>', '<pad>', '<pad>', '<pad>', '<pad>', '<pad>', '<pad>', '<pad>', '<pad>', '<pad>', '<pad>', '<pad>', '<pad>']\n",
      "['dig', '-pron-', 'would', 'say', 'to', 'anyone', 'even', 'if', '-pron-', 'do', 'not', 'like', 'metallica', 'to', 'see', 'some', 'kind', 'of', 'monster', '-pron-', 'be', 'a', 'spinal', 'tap', 'type', 'documentary', 'about', 'one', 'of', 'the', 'big', 'band', 'in', 'the', 'world', 'act', 'like', 'mental', 'kid', 'during', 'a', 'breakdown', 'of', 'sort', '-pron-', 'be', 'fun', 'and', 'fascinating', 'along', 'the', 'same', 'line', 'come', 'dig', 'a', 'film', 'about', 'the', 'dandy', 'warhol', \"'s\", 'and', 'the', 'brian', 'jonestown', 'massacre', 'two', '<unk>', 'band', 'who', 'start', 'off', 'a', 'kind', 'of', 'music', 'scene', 'in', 'there', 'home', 'town', 'only', 'for', 'one', 'of', 'the', 'band', 'to', 'become', 'huge', 'and', 'one', 'to', 'fall', 'by', 'the', 'wayside', 'into', 'the', 'musical', 'history', 'book', 'right', 'from', 'the', 'start', 'the', 'two', 'band', 'pull', 'in', 'opposite', 'direction', 'just', 'on', '-pron-', 'ability', 'to', 'make', 'decision', 'whether', 'good', 'or', 'bad', 'film', 'over', 'seven', 'year', 'and', 'at', 'time', 'painful', 'to', 'watch', '-pron-', 'see', 'the', 'dandy', \"'s\", 'meteoric', 'rise', 'to', 'fame', 'thank', 'to', 'that', '<unk>', 'ad', 'and', 'the', 'jonestown', 'seminal', 'fall', 'from', 'scene', 'instigator', 'to', 'bicker', 'wannabe', 'as', 'the', 'band', 'become', 'more', 'disjointed', 'the', 'friendship', 'be', 'stretch', 'tension', 'tight', 'and', 'at', 'several', 'point', 'snap', 'into', 'argument', 'and', 'even', 'on', 'stage', 'fight', 'all', 'of', 'this', 'be', 'half', 'funny', 'and', 'half', 'tragic', 'and', 'believe', '-pron-', 'or', 'not', 'be', 'perversely', 'watch', 'able', 'like', '-pron-', 'say', 'at', 'the', 'beginning', '-pron-', 'can', 'watch', 'the', 'metallica', 'film', 'even', 'if', '-pron-', 'have', 'no', 'interest', 'in', 'the', 'band', 'dig', 'on', 'the', 'other', 'hand', 'be', 'slightly', 'different', 'and', 'be', 'more', 'enjoyable', 'and', 'a', 'whole', 'lot', 'easy', 'to', 'watch', 'if', '-pron-', 'have', 'a', 'pass', 'interest', 'in', 'either', 'band', 'still', 'a', 'good', 'film', 'and', 'more', 'a', 'testament', 'to', 'not', 'be', 'in', 'a', 'band', 'than', 'encourage', 'that', 'as', 'a', 'career', 'path', 'dig', 'be', 'a', 'mad', 'ride', 'on', 'rock', 'and', 'roll', \"'s\", 'coat', 'tail', 'and', 'a', 'fine', 'example', 'of', 'the', 'pitfall', 'and', 'pleasure', 'of', 'be', 'or', 'want', 'to', 'be', 'famous', '<pad>', '<pad>', '<pad>', '<pad>', '<pad>', '<pad>', '<pad>', '<pad>', '<pad>', '<pad>', '<pad>', '<pad>', '<pad>', '<pad>', '<pad>', '<pad>', '<pad>', '<pad>', '<pad>', '<pad>', '<pad>', '<pad>', '<pad>', '<pad>', '<pad>', '<pad>', '<pad>', '<pad>', '<pad>', '<pad>', '<pad>', '<pad>', '<pad>', '<pad>', '<pad>', '<pad>', '<pad>', '<pad>', '<pad>', '<pad>', '<pad>', '<pad>', '<pad>', '<pad>', '<pad>', '<pad>', '<pad>', '<pad>', '<pad>', '<pad>', '<pad>', '<pad>', '<pad>', '<pad>', '<pad>', '<pad>', '<pad>', '<pad>', '<pad>', '<pad>', '<pad>', '<pad>', '<pad>', '<pad>', '<pad>', '<pad>', '<pad>', '<pad>', '<pad>', '<pad>', '<pad>', '<pad>', '<pad>', '<pad>', '<pad>', '<pad>', '<pad>', '<pad>', '<pad>', '<pad>', '<pad>', '<pad>', '<pad>', '<pad>', '<pad>', '<pad>', '<pad>', '<pad>', '<pad>', '<pad>', '<pad>', '<pad>', '<pad>', '<pad>', '<pad>', '<pad>', '<pad>', '<pad>', '<pad>', '<pad>']\n",
      "['this', 'be', 'a', 'great', 'film.<br', '/><br', '/>i', 'agree', 'to', 'watch', 'a', 'chick', 'flick', 'and', 'some', 'how', 'end', 'up', 'with', 'this', '-pron-', 'have', 'never', 'hear', 'of', '-pron-', 'or', 'anyone', 'in', '-pron-', '<unk>', 'mike', 'from', '<unk>', '/><br', '/>but', '-pron-', 'be', 'great', 'eva', 'lake', 'and', 'paul', 'give', 'amazing', 'performance', 'the', 'humour', 'be', 'consistently', 'dry', 'and', 'witty.<br', '/><br', '/>paul', 'rudd', 'pretty', 'much', 'play', 'the', 'mike', 'character', 'from', 'friends', 'which', 'work', 'great', 'the', 'other', 'character', 'be', 'stereotype', 'and', 'the', 'plot', 'be', 'formulaic', '-pron-', 'mean', '-pron-', 'be', 'not', 'talk', 'apocalypse', 'now', 'here', 'but', 'the', 'character', 'be', 'likable', 'the', 'story', 'be', 'engage', 'the', 'soundtrack', 'production', 'and', 'direction', 'all', 'work', 'well.<br', '/><br', '/>in', 'all', 'a', 'great', 'feel', 'good', 'film', 'that', 'really', 'deserve', 'a', 'lot', 'more', 'credit', 'than', '-pron-', 'gets.<br', '/><br', '/>everyone', 'have', '-pron-', 'own', 'taste', 'but', '-pron-', 'really', 'do', 'not', 'understand', 'the', 'one', 'star', 'review', 'for', 'this', '<pad>', '<pad>', '<pad>', '<pad>', '<pad>', '<pad>', '<pad>', '<pad>', '<pad>', '<pad>', '<pad>', '<pad>', '<pad>', '<pad>', '<pad>', '<pad>', '<pad>', '<pad>', '<pad>', '<pad>', '<pad>', '<pad>', '<pad>', '<pad>', '<pad>', '<pad>', '<pad>', '<pad>', '<pad>', '<pad>', '<pad>', '<pad>', '<pad>', '<pad>', '<pad>', '<pad>', '<pad>', '<pad>', '<pad>', '<pad>', '<pad>', '<pad>', '<pad>', '<pad>', '<pad>', '<pad>', '<pad>', '<pad>', '<pad>', '<pad>', '<pad>', '<pad>', '<pad>', '<pad>', '<pad>', '<pad>', '<pad>', '<pad>', '<pad>', '<pad>', '<pad>', '<pad>', '<pad>', '<pad>', '<pad>', '<pad>', '<pad>', '<pad>', '<pad>', '<pad>', '<pad>', '<pad>', '<pad>', '<pad>', '<pad>', '<pad>', '<pad>', '<pad>', '<pad>', '<pad>', '<pad>', '<pad>', '<pad>', '<pad>', '<pad>', '<pad>', '<pad>', '<pad>', '<pad>', '<pad>', '<pad>', '<pad>', '<pad>', '<pad>', '<pad>', '<pad>', '<pad>', '<pad>', '<pad>', '<pad>', '<pad>', '<pad>', '<pad>', '<pad>', '<pad>', '<pad>', '<pad>', '<pad>', '<pad>', '<pad>', '<pad>', '<pad>', '<pad>', '<pad>', '<pad>', '<pad>', '<pad>', '<pad>', '<pad>', '<pad>', '<pad>', '<pad>', '<pad>', '<pad>', '<pad>', '<pad>', '<pad>', '<pad>', '<pad>', '<pad>', '<pad>', '<pad>', '<pad>', '<pad>', '<pad>', '<pad>', '<pad>', '<pad>', '<pad>', '<pad>', '<pad>', '<pad>', '<pad>', '<pad>', '<pad>', '<pad>', '<pad>', '<pad>', '<pad>', '<pad>', '<pad>', '<pad>', '<pad>', '<pad>', '<pad>', '<pad>', '<pad>', '<pad>', '<pad>', '<pad>', '<pad>', '<pad>', '<pad>', '<pad>', '<pad>', '<pad>', '<pad>', '<pad>', '<pad>', '<pad>', '<pad>', '<pad>', '<pad>', '<pad>', '<pad>', '<pad>', '<pad>', '<pad>', '<pad>', '<pad>', '<pad>', '<pad>', '<pad>', '<pad>', '<pad>', '<pad>', '<pad>', '<pad>', '<pad>', '<pad>', '<pad>', '<pad>', '<pad>', '<pad>', '<pad>', '<pad>', '<pad>', '<pad>', '<pad>', '<pad>', '<pad>', '<pad>', '<pad>', '<pad>', '<pad>', '<pad>', '<pad>', '<pad>', '<pad>', '<pad>', '<pad>', '<pad>', '<pad>', '<pad>', '<pad>', '<pad>', '<pad>', '<pad>', '<pad>', '<pad>', '<pad>', '<pad>', '<pad>', '<pad>', '<pad>', '<pad>', '<pad>', '<pad>', '<pad>', '<pad>', '<pad>', '<pad>', '<pad>', '<pad>', '<pad>', '<pad>', '<pad>', '<pad>', '<pad>', '<pad>', '<pad>', '<pad>', '<pad>', '<pad>', '<pad>', '<pad>', '<pad>', '<pad>', '<pad>', '<pad>', '<pad>', '<pad>', '<pad>', '<pad>', '<pad>', '<pad>', '<pad>', '<pad>', '<pad>', '<pad>', '<pad>']\n",
      "['-pron-', 'work', 'at', 'a', 'blockbuster', 'store', 'and', 'every', 'week', '-pron-', 'have', 'movie', 'that', 'come', 'in', 'with', 'just', 'a', 'few', 'copy', 'these', 'be', 'the', 'kind', 'of', 'movie', 'that', 'the', 'sci', 'fi', 'channel', 'show', 'the', 'kind', 'of', 'movie', 'that', 'nobody', 'ever', 'want', 'and', 'only', 'that', 'idiot', 'rent', 'when', '-pron-', 'bring', '-pron-', 'back', '-pron-', 'ask', '-pron-', 'be', '-pron-', 'any', 'good', '-pron-', 'say', 'no', '-pron-', 'turn', '-pron-', 'off', 'after', '15', 'minute', 'movie', 'with', 'terrible', 'computer', 'generate', 'super', 'impose', 'monster', 'and', 'such', 'like', 'very', '<unk>', '/><br', '/>this', 'be', 'the', 'same', 'type', 'of', 'movie', 'that', 'grendel', 'be', 'and', 'absolute', 'waste', 'of', 'time', 'if', '-pron-', 'want', 'a', 'reasonably', 'and', 'only', 'reasonably', 'good', 'beowulf', 'base', 'movie', 'then', 'try', 'beowulf', 'grendel', 'star', 'gerard', 'butler', 'who', 'be', 'also', 'star', 'in', 'the', 'eagerly', 'anticipate', '300', 'as', 'king', '<unk>', 'of', '<unk>', '/><br', '/>plus', 'later', 'this', 'year', '-pron-', 'have', 'another', 'beowulf', 'movie', 'with', 'a', 'star', 'stud', 'cast', 'range', 'from', 'anthony', 'hopkins', 'and', 'brendan', 'gleeson', 'to', 'angelina', 'jolie', 'and', 'john', '<unk>', '/><br', '/>but', 'do', 'not', 'let', 'that', 'get', '-pron-', 'hope', 'up', 'like', '-pron-', 'all', 'do', 'with', '<unk>', 'or', '-pron-', 'be', 'all', 'in', 'for', 'another', 'big', 'disappointment.<br', '/><br', '/>and', 'regard', 'rental', 'here', 'be', '-pron-', 'rule', 'of', 'thumb', 'if', 'there', 'be', 'only', 'one', 'or', 'two', 'copy', 'do', 'not', 'rent', '-pron-', 'because', '-pron-', 'a', 'load', 'of', 'crap', 'this', 'be', 'true', '99.9', 'of', 'the', 'time', 'usually', 'not', 'true', 'if', 'the', 'title', 'be', 'foreign', 'or', 'a', 'documentary', '<pad>', '<pad>', '<pad>', '<pad>', '<pad>', '<pad>', '<pad>', '<pad>', '<pad>', '<pad>', '<pad>', '<pad>', '<pad>', '<pad>', '<pad>', '<pad>', '<pad>', '<pad>', '<pad>', '<pad>', '<pad>', '<pad>', '<pad>', '<pad>', '<pad>', '<pad>', '<pad>', '<pad>', '<pad>', '<pad>', '<pad>', '<pad>', '<pad>', '<pad>', '<pad>', '<pad>', '<pad>', '<pad>', '<pad>', '<pad>', '<pad>', '<pad>', '<pad>', '<pad>', '<pad>', '<pad>', '<pad>', '<pad>', '<pad>', '<pad>', '<pad>', '<pad>', '<pad>', '<pad>', '<pad>', '<pad>', '<pad>', '<pad>', '<pad>', '<pad>', '<pad>', '<pad>', '<pad>', '<pad>', '<pad>', '<pad>', '<pad>', '<pad>', '<pad>', '<pad>', '<pad>', '<pad>', '<pad>', '<pad>', '<pad>', '<pad>', '<pad>', '<pad>', '<pad>', '<pad>', '<pad>', '<pad>', '<pad>', '<pad>', '<pad>', '<pad>', '<pad>', '<pad>', '<pad>', '<pad>', '<pad>', '<pad>', '<pad>', '<pad>', '<pad>', '<pad>', '<pad>', '<pad>', '<pad>', '<pad>', '<pad>', '<pad>', '<pad>', '<pad>', '<pad>', '<pad>', '<pad>', '<pad>', '<pad>', '<pad>', '<pad>', '<pad>', '<pad>', '<pad>', '<pad>', '<pad>', '<pad>', '<pad>', '<pad>', '<pad>', '<pad>', '<pad>', '<pad>', '<pad>', '<pad>', '<pad>', '<pad>', '<pad>', '<pad>', '<pad>', '<pad>', '<pad>', '<pad>', '<pad>', '<pad>', '<pad>', '<pad>', '<pad>', '<pad>', '<pad>', '<pad>', '<pad>', '<pad>', '<pad>', '<pad>', '<pad>', '<pad>', '<pad>', '<pad>', '<pad>', '<pad>', '<pad>', '<pad>', '<pad>', '<pad>', '<pad>', '<pad>', '<pad>', '<pad>', '<pad>', '<pad>', '<pad>', '<pad>', '<pad>', '<pad>', '<pad>', '<pad>', '<pad>', '<pad>', '<pad>', '<pad>', '<pad>']\n",
      "['this', 'documentary', 'or', '-pron-', 'should', 'say', 'mockumentary', 'be', 'the', 'perfect', 'example', 'of', 'how', 'ridiculous', 'can', 'the', 'people', 'be', 'when', '-pron-', 'have', 'full', 'enthusiasm', 'on', 'something', 'like', 'that', 'honestly', '-pron-', 'hate', '<unk>', '-pron-', 'be', '<unk>', '-pron-', 'just', 'destroy', '-pron-', 'however', 'something', 'positive', 'in', 'this', 'be', 'the', 'visual', 'effect', 'dragon', 'be', 'beautiful', 'but', 'some', 'of', 'the', 'information', 'in', 'this', 'mockumentary', 'be', 'totally', 'fake', 'and', 'that', 'be', 'really', 'disappointing', 'because', '-pron-', 'be', 'come', 'from', 'scientist', 'so', 'that', 'be', 'the', 'reason', 'why', '-pron-', 'deserve', 'a', '1', 'of', '10', 'and', 'not', 'a', '0', 'an', 'example', 'of', 'false', 'information', 'would', 'be', 'the', 'hydrogen', 'idea', '-pron-', 'be', 'true', 'that', 'accord', 'to', '<unk>', 'the', 'hydrogen', 'be', 'produce', 'in', 'the', 'stomach', 'but', '-pron-', 'be', 'impossible', 'to', 'be', 'produce', 'in', 'that', 'proportion', 'so', 'in', 'that', 'case', '-pron-', 'need', 'a', 'good', 'explanation', 'of', 'what', 'really', 'happen', 'in', 'a', 'dragon', 'stomach', 'there', 'be', 'a', 'lot', 'of', 'substance', 'whit', 'hydrogen', 'in', 'the', 'nature', 'but', 'not', 'the', 'necessary', 'to', 'aloud', 'an', 'animal', 'like', 'that', 'to', 'fly', 'and', 'the', 'hydrogen', 'do', 'not', 'appear', 'from', 'nothing', 'so', '-pron-', 'be', 'impossible', 'anyway', 'there', 'be', 'actually', 'something', 'bad', 'the', 'idea', 'of', 'the', 'platinum', 'this', 'element', 'be', 'more', 'difficult', 'to', 'find', 'than', 'gold', 'and', '-pron-', 'can', 'not', 'explain', '-pron-', 'how', 'dragon', 'survive', 'depend', 'of', 'that', '-pron-', 'be', 'ridiculous', '-pron-', 'present', 'dragon', 'like', 'creature', 'with', 'low', 'chance', 'of', 'conquer', 'the', 'planet', 'earth', 'but', 'off', 'course', 'at', 'least', 'that', 'explain', 'why', '-pron-', 'get', 'extinct', 'probably', '<unk>', \"'s\", 'call', '-pron-', 'scientist', 'but', '-pron-', 'be', 'not', 'people', 'like', '-pron-', 'say', 'lie', 'like', 'in', 'this', 'mockumentary', 'and', 'what', 'be', 'bad', 'some', 'people', 'buy', '-pron-', 'but', '-pron-', 'do', 'not', 'think', 'that', 'a', 'person', 'who', 'care', 'about', 'science', 'would', 'believe', 'in', 'dragon', 'after', 'watch', 'this', 'those', 'fake', 'scientist', 'waste', '-pron-', 'time', '<pad>', '<pad>', '<pad>', '<pad>', '<pad>', '<pad>', '<pad>', '<pad>', '<pad>', '<pad>', '<pad>', '<pad>', '<pad>', '<pad>', '<pad>', '<pad>', '<pad>', '<pad>', '<pad>', '<pad>', '<pad>', '<pad>', '<pad>', '<pad>', '<pad>', '<pad>', '<pad>', '<pad>', '<pad>', '<pad>', '<pad>', '<pad>', '<pad>', '<pad>', '<pad>', '<pad>', '<pad>', '<pad>', '<pad>', '<pad>', '<pad>', '<pad>', '<pad>', '<pad>', '<pad>', '<pad>', '<pad>', '<pad>', '<pad>', '<pad>', '<pad>', '<pad>', '<pad>', '<pad>', '<pad>', '<pad>', '<pad>', '<pad>', '<pad>', '<pad>', '<pad>', '<pad>', '<pad>', '<pad>', '<pad>', '<pad>', '<pad>', '<pad>', '<pad>', '<pad>', '<pad>', '<pad>', '<pad>', '<pad>', '<pad>', '<pad>', '<pad>', '<pad>', '<pad>', '<pad>', '<pad>', '<pad>', '<pad>', '<pad>', '<pad>', '<pad>', '<pad>', '<pad>', '<pad>', '<pad>', '<pad>', '<pad>', '<pad>', '<pad>', '<pad>', '<pad>', '<pad>', '<pad>', '<pad>', '<pad>', '<pad>', '<pad>', '<pad>', '<pad>', '<pad>', '<pad>', '<pad>', '<pad>', '<pad>', '<pad>', '<pad>', '<pad>', '<pad>', '<pad>', '<pad>']\n",
      "['this', 'have', 'just', 'be', 'broadcast', 'on', 'bbc', 'and', '-pron-', 'be', 'absolutely', 'delighted', 'to', 'have', 'see', '-pron-', 'as', 'the', 'credit', 'roll', 'the', 'cast', 'alone', 'make', 'certain', 'that', '-pron-', 'would', 'give', '-pron-', 'a', 'go', 'after', 'just', 'five', 'minute', '-pron-', 'be', 'completely', 'immerse', 'in', 'this', 'beautiful', 'film.<br', '/><br', '/>yes', '-pron-', 'be', 'formulaic', 'and', 'predictable', 'but', 'that', 'somehow', 'add', 'to', '-pron-', \"'s\", 'charm', 'the', 'flashback', 'to', 'the', 'forty', 'be', 'wonderfully', 'place', 'and', 'capture', 'a', 'feeling', 'equal', 'in', 'few', 'productions.<br', '/><br', '/>a', 'real', 'feel', 'good', 'film', 'punctuate', 'throughout', 'with', 'outstanding', 'music', 'when', '-pron-', 'be', 'release', '-pron-', 'will', 'buy', '-pron-', '<pad>', '<pad>', '<pad>', '<pad>', '<pad>', '<pad>', '<pad>', '<pad>', '<pad>', '<pad>', '<pad>', '<pad>', '<pad>', '<pad>', '<pad>', '<pad>', '<pad>', '<pad>', '<pad>', '<pad>', '<pad>', '<pad>', '<pad>', '<pad>', '<pad>', '<pad>', '<pad>', '<pad>', '<pad>', '<pad>', '<pad>', '<pad>', '<pad>', '<pad>', '<pad>', '<pad>', '<pad>', '<pad>', '<pad>', '<pad>', '<pad>', '<pad>', '<pad>', '<pad>', '<pad>', '<pad>', '<pad>', '<pad>', '<pad>', '<pad>', '<pad>', '<pad>', '<pad>', '<pad>', '<pad>', '<pad>', '<pad>', '<pad>', '<pad>', '<pad>', '<pad>', '<pad>', '<pad>', '<pad>', '<pad>', '<pad>', '<pad>', '<pad>', '<pad>', '<pad>', '<pad>', '<pad>', '<pad>', '<pad>', '<pad>', '<pad>', '<pad>', '<pad>', '<pad>', '<pad>', '<pad>', '<pad>', '<pad>', '<pad>', '<pad>', '<pad>', '<pad>', '<pad>', '<pad>', '<pad>', '<pad>', '<pad>', '<pad>', '<pad>', '<pad>', '<pad>', '<pad>', '<pad>', '<pad>', '<pad>', '<pad>', '<pad>', '<pad>', '<pad>', '<pad>', '<pad>', '<pad>', '<pad>', '<pad>', '<pad>', '<pad>', '<pad>', '<pad>', '<pad>', '<pad>', '<pad>', '<pad>', '<pad>', '<pad>', '<pad>', '<pad>', '<pad>', '<pad>', '<pad>', '<pad>', '<pad>', '<pad>', '<pad>', '<pad>', '<pad>', '<pad>', '<pad>', '<pad>', '<pad>', '<pad>', '<pad>', '<pad>', '<pad>', '<pad>', '<pad>', '<pad>', '<pad>', '<pad>', '<pad>', '<pad>', '<pad>', '<pad>', '<pad>', '<pad>', '<pad>', '<pad>', '<pad>', '<pad>', '<pad>', '<pad>', '<pad>', '<pad>', '<pad>', '<pad>', '<pad>', '<pad>', '<pad>', '<pad>', '<pad>', '<pad>', '<pad>', '<pad>', '<pad>', '<pad>', '<pad>', '<pad>', '<pad>', '<pad>', '<pad>', '<pad>', '<pad>', '<pad>', '<pad>', '<pad>', '<pad>', '<pad>', '<pad>', '<pad>', '<pad>', '<pad>', '<pad>', '<pad>', '<pad>', '<pad>', '<pad>', '<pad>', '<pad>', '<pad>', '<pad>', '<pad>', '<pad>', '<pad>', '<pad>', '<pad>', '<pad>', '<pad>', '<pad>', '<pad>', '<pad>', '<pad>', '<pad>', '<pad>', '<pad>', '<pad>', '<pad>', '<pad>', '<pad>', '<pad>', '<pad>', '<pad>', '<pad>', '<pad>', '<pad>', '<pad>', '<pad>', '<pad>', '<pad>', '<pad>', '<pad>', '<pad>', '<pad>', '<pad>', '<pad>', '<pad>', '<pad>', '<pad>', '<pad>', '<pad>', '<pad>', '<pad>', '<pad>', '<pad>', '<pad>', '<pad>', '<pad>', '<pad>', '<pad>', '<pad>', '<pad>', '<pad>', '<pad>', '<pad>', '<pad>', '<pad>', '<pad>', '<pad>', '<pad>', '<pad>', '<pad>', '<pad>', '<pad>', '<pad>', '<pad>', '<pad>', '<pad>', '<pad>', '<pad>', '<pad>', '<pad>', '<pad>', '<pad>', '<pad>', '<pad>', '<pad>', '<pad>', '<pad>', '<pad>', '<pad>', '<pad>', '<pad>', '<pad>', '<pad>', '<pad>', '<pad>', '<pad>', '<pad>', '<pad>', '<pad>', '<pad>', '<pad>', '<pad>', '<pad>', '<pad>', '<pad>', '<pad>', '<pad>', '<pad>', '<pad>', '<pad>', '<pad>', '<pad>', '<pad>', '<pad>', '<pad>', '<pad>', '<pad>', '<pad>', '<pad>', '<pad>', '<pad>', '<pad>']\n",
      "['-pron-', 'would', 'hear', 'of', 'eddie', 'izzard', 'but', 'have', 'never', 'see', '-pron-', 'in', 'action', '-pron-', 'know', '-pron-', 'be', 'a', 'transvestite', 'and', 'when', '-pron-', 'see', '-pron-', 'be', 'on', 'hbo', 'one', 'night', 'last', 'summer', '-pron-', 'put', '-pron-', 'on', 'not', 'know', 'how', '-pron-', 'husband', 'would', 'react', 'well', '-pron-', 'blow', '-pron-', 'away', '-pron-', 'be', 'good', 'than', 'robin', 'williams', 'ever', 'be', '-pron-', 'have', 'total', 'control', 'of', 'the', 'audience', 'when', '-pron-', 'do', 'the', 'englebert', 'be', 'dead', 'no', '-pron-', 'be', 'not', 'routine', 'the', 'audience', 'do', 'not', 'know', 'what', 'to', 'think', 'by', 'the', 'end', 'god', 'as', 'james', 'mason', 'be', 'also', 'an', 'inspire', 'touch', 'and', '-pron-', 'version', 'of', 'the', 'python', 'spanish', 'inquisition', 'as', 'carry', 'out', 'by', 'the', 'church', 'of', 'england', 'cake', 'or', 'death', 'be', 'priceless', '-pron-', 'jaw', 'be', 'ache', 'from', 'laughter', 'by', 'the', 'end', 'of', 'the', 'show', '-pron-', 'scour', 'the', 'tv', 'listing', 'for', 'month', 'after', 'that', 'to', 'be', 'able', 'to', 'see', '-pron-', 'again', 'and', 'be', 'lucky', 'enough', 'to', 'tape', '-pron-', 'the', 'next', 'time', '-pron-', 'come', 'on', 'if', '-pron-', 'get', 'the', 'chance', 'to', 'see', 'this', 'show', 'cancel', 'everything', 'and', 'tape', '-pron-', '-pron-', 'will', 'not', 'be', 'disappoint', '<pad>', '<pad>', '<pad>', '<pad>', '<pad>', '<pad>', '<pad>', '<pad>', '<pad>', '<pad>', '<pad>', '<pad>', '<pad>', '<pad>', '<pad>', '<pad>', '<pad>', '<pad>', '<pad>', '<pad>', '<pad>', '<pad>', '<pad>', '<pad>', '<pad>', '<pad>', '<pad>', '<pad>', '<pad>', '<pad>', '<pad>', '<pad>', '<pad>', '<pad>', '<pad>', '<pad>', '<pad>', '<pad>', '<pad>', '<pad>', '<pad>', '<pad>', '<pad>', '<pad>', '<pad>', '<pad>', '<pad>', '<pad>', '<pad>', '<pad>', '<pad>', '<pad>', '<pad>', '<pad>', '<pad>', '<pad>', '<pad>', '<pad>', '<pad>', '<pad>', '<pad>', '<pad>', '<pad>', '<pad>', '<pad>', '<pad>', '<pad>', '<pad>', '<pad>', '<pad>', '<pad>', '<pad>', '<pad>', '<pad>', '<pad>', '<pad>', '<pad>', '<pad>', '<pad>', '<pad>', '<pad>', '<pad>', '<pad>', '<pad>', '<pad>', '<pad>', '<pad>', '<pad>', '<pad>', '<pad>', '<pad>', '<pad>', '<pad>', '<pad>', '<pad>', '<pad>', '<pad>', '<pad>', '<pad>', '<pad>', '<pad>', '<pad>', '<pad>', '<pad>', '<pad>', '<pad>', '<pad>', '<pad>', '<pad>', '<pad>', '<pad>', '<pad>', '<pad>', '<pad>', '<pad>', '<pad>', '<pad>', '<pad>', '<pad>', '<pad>', '<pad>', '<pad>', '<pad>', '<pad>', '<pad>', '<pad>', '<pad>', '<pad>', '<pad>', '<pad>', '<pad>', '<pad>', '<pad>', '<pad>', '<pad>', '<pad>', '<pad>', '<pad>', '<pad>', '<pad>', '<pad>', '<pad>', '<pad>', '<pad>', '<pad>', '<pad>', '<pad>', '<pad>', '<pad>', '<pad>', '<pad>', '<pad>', '<pad>', '<pad>', '<pad>', '<pad>', '<pad>', '<pad>', '<pad>', '<pad>', '<pad>', '<pad>', '<pad>', '<pad>', '<pad>', '<pad>', '<pad>', '<pad>', '<pad>', '<pad>', '<pad>', '<pad>', '<pad>', '<pad>', '<pad>', '<pad>', '<pad>', '<pad>', '<pad>', '<pad>', '<pad>', '<pad>', '<pad>', '<pad>', '<pad>', '<pad>', '<pad>', '<pad>', '<pad>', '<pad>', '<pad>', '<pad>', '<pad>', '<pad>', '<pad>', '<pad>', '<pad>', '<pad>', '<pad>', '<pad>', '<pad>', '<pad>', '<pad>', '<pad>', '<pad>', '<pad>', '<pad>', '<pad>', '<pad>', '<pad>', '<pad>', '<pad>', '<pad>', '<pad>', '<pad>', '<pad>', '<pad>', '<pad>', '<pad>', '<pad>', '<pad>', '<pad>', '<pad>', '<pad>', '<pad>']\n",
      "['with', 'very', 'little', 'screen', 'time', 'and', 'money', 'dan', 'katzir', 'manage', 'to', 'do', 'so', 'much', 'this', 'movie', 'in', '-pron-', 'heart', 'warming', 'simplicity', 'touch', 'the', 'beauty', 'of', 'love', 'from', 'a', 'fresh', 'angle', '<unk>', 'lust', '<pad>', '<pad>', '<pad>', '<pad>', '<pad>', '<pad>', '<pad>', '<pad>', '<pad>', '<pad>', '<pad>', '<pad>', '<pad>', '<pad>', '<pad>', '<pad>', '<pad>', '<pad>', '<pad>', '<pad>', '<pad>', '<pad>', '<pad>', '<pad>', '<pad>', '<pad>', '<pad>', '<pad>', '<pad>', '<pad>', '<pad>', '<pad>', '<pad>', '<pad>', '<pad>', '<pad>', '<pad>', '<pad>', '<pad>', '<pad>', '<pad>', '<pad>', '<pad>', '<pad>', '<pad>', '<pad>', '<pad>', '<pad>', '<pad>', '<pad>', '<pad>', '<pad>', '<pad>', '<pad>', '<pad>', '<pad>', '<pad>', '<pad>', '<pad>', '<pad>', '<pad>', '<pad>', '<pad>', '<pad>', '<pad>', '<pad>', '<pad>', '<pad>', '<pad>', '<pad>', '<pad>', '<pad>', '<pad>', '<pad>', '<pad>', '<pad>', '<pad>', '<pad>', '<pad>', '<pad>', '<pad>', '<pad>', '<pad>', '<pad>', '<pad>', '<pad>', '<pad>', '<pad>', '<pad>', '<pad>', '<pad>', '<pad>', '<pad>', '<pad>', '<pad>', '<pad>', '<pad>', '<pad>', '<pad>', '<pad>', '<pad>', '<pad>', '<pad>', '<pad>', '<pad>', '<pad>', '<pad>', '<pad>', '<pad>', '<pad>', '<pad>', '<pad>', '<pad>', '<pad>', '<pad>', '<pad>', '<pad>', '<pad>', '<pad>', '<pad>', '<pad>', '<pad>', '<pad>', '<pad>', '<pad>', '<pad>', '<pad>', '<pad>', '<pad>', '<pad>', '<pad>', '<pad>', '<pad>', '<pad>', '<pad>', '<pad>', '<pad>', '<pad>', '<pad>', '<pad>', '<pad>', '<pad>', '<pad>', '<pad>', '<pad>', '<pad>', '<pad>', '<pad>', '<pad>', '<pad>', '<pad>', '<pad>', '<pad>', '<pad>', '<pad>', '<pad>', '<pad>', '<pad>', '<pad>', '<pad>', '<pad>', '<pad>', '<pad>', '<pad>', '<pad>', '<pad>', '<pad>', '<pad>', '<pad>', '<pad>', '<pad>', '<pad>', '<pad>', '<pad>', '<pad>', '<pad>', '<pad>', '<pad>', '<pad>', '<pad>', '<pad>', '<pad>', '<pad>', '<pad>', '<pad>', '<pad>', '<pad>', '<pad>', '<pad>', '<pad>', '<pad>', '<pad>', '<pad>', '<pad>', '<pad>', '<pad>', '<pad>', '<pad>', '<pad>', '<pad>', '<pad>', '<pad>', '<pad>', '<pad>', '<pad>', '<pad>', '<pad>', '<pad>', '<pad>', '<pad>', '<pad>', '<pad>', '<pad>', '<pad>', '<pad>', '<pad>', '<pad>', '<pad>', '<pad>', '<pad>', '<pad>', '<pad>', '<pad>', '<pad>', '<pad>', '<pad>', '<pad>', '<pad>', '<pad>', '<pad>', '<pad>', '<pad>', '<pad>', '<pad>', '<pad>', '<pad>', '<pad>', '<pad>', '<pad>', '<pad>', '<pad>', '<pad>', '<pad>', '<pad>', '<pad>', '<pad>', '<pad>', '<pad>', '<pad>', '<pad>', '<pad>', '<pad>', '<pad>', '<pad>', '<pad>', '<pad>', '<pad>', '<pad>', '<pad>', '<pad>', '<pad>', '<pad>', '<pad>', '<pad>', '<pad>', '<pad>', '<pad>', '<pad>', '<pad>', '<pad>', '<pad>', '<pad>', '<pad>', '<pad>', '<pad>', '<pad>', '<pad>', '<pad>', '<pad>', '<pad>', '<pad>', '<pad>', '<pad>', '<pad>', '<pad>', '<pad>', '<pad>', '<pad>', '<pad>', '<pad>', '<pad>', '<pad>', '<pad>', '<pad>', '<pad>', '<pad>', '<pad>', '<pad>', '<pad>', '<pad>', '<pad>', '<pad>', '<pad>', '<pad>', '<pad>', '<pad>', '<pad>', '<pad>', '<pad>', '<pad>', '<pad>', '<pad>', '<pad>', '<pad>', '<pad>', '<pad>', '<pad>', '<pad>', '<pad>', '<pad>', '<pad>', '<pad>', '<pad>', '<pad>', '<pad>', '<pad>', '<pad>', '<pad>', '<pad>', '<pad>', '<pad>', '<pad>', '<pad>', '<pad>', '<pad>', '<pad>', '<pad>', '<pad>', '<pad>', '<pad>', '<pad>', '<pad>', '<pad>', '<pad>', '<pad>', '<pad>', '<pad>', '<pad>', '<pad>', '<pad>', '<pad>', '<pad>', '<pad>', '<pad>', '<pad>', '<pad>', '<pad>', '<pad>', '<pad>', '<pad>', '<pad>', '<pad>', '<pad>', '<pad>', '<pad>', '<pad>', '<pad>', '<pad>']\n",
      "['this', 'have', 'to', 'be', 'the', 'bad', 'piece', 'of', 'garbage', '-pron-', 'have', 'see', 'in', 'a', 'while.<br', '/><br', '<unk>', 'ledger', 'be', 'a', 'heartthrob', '-pron-', 'look', 'deform', '-pron-', 'wish', '-pron-', 'would', 'know', 'that', '-pron-', 'and', 'naomi', 'watts', 'be', 'an', 'item', 'in', 'real', 'life', 'because', '-pron-', 'spend', '2', 'of', 'the', 'long', 'hour', 'of', '-pron-', 'life', 'wonder', 'what', '-pron-', 'see', 'in', '-pron-', 'br', '/><br', '<unk>', 'bloom', 'be', 'a', 'heartthrob', 'with', 'the', 'scraggly', 'beard', 'and', 'deer', 'in', 'the', 'headlight', 'look', 'about', '-pron-', '-pron-', 'can', 'not', 'say', '-pron-', 'agree.<br', '/><br', '/>rachel', 'griffith', 'be', '-pron-', 'usual', 'fabulous', 'self', 'but', 'geoffrey', 'rush', 'look', 'as', 'if', '-pron-', 'could', 'not', 'wait', 'to', 'get', 'off', 'the', 'set', 'br', '/><br', \"/>i'm\", 'suppose', 'to', 'feel', 'sorry', 'for', '<unk>', 'and', 'murderer', 'this', 'be', 'a', 'far', 'cry', 'from', 'butch', 'cassidy', 'which', 'actually', 'be', 'an', 'entertaining', 'film', 'this', 'be', 'trite', 'cliche', 'ridden', 'and', 'boring', '-pron-', 'only', 'stay', 'because', '-pron-', 'be', 'convince', '-pron-', 'would', 'get', 'good', '-pron-', \"didn't.<br\", '/><br', '/>the', 'last', '10', '15', 'minute', 'or', 'so', 'be', 'unintentionally', 'hilarious', 'heath', 'and', '-pron-', 'gang', 'be', 'hole', 'up', 'in', 'a', 'frontier', 'hotel', 'and', 'woman', 'and', 'child', 'be', 'die', 'because', 'of', '-pron-', 'presence', 'that', 'be', 'not', 'funny', 'but', '-pron-', 'be', 'funny', 'when', '-pron-', 'walk', 'out', 'of', 'the', 'hotel', 'with', 'the', 'armor', 'on', 'because', 'all', '-pron-', 'could', 'think', 'of', 'be', 'the', 'black', 'knight', 'from', 'monty', 'python', 'and', 'the', 'holy', 'grail', '-pron-', 'keep', 'wait', 'for', '-pron-', 'to', 'say', '-pron-', 'will', 'bite', 'y', 'leg', 'off', '-pron-', 'be', 'howl', 'with', 'laughter', 'as', 'be', 'several', 'other', 'warped', 'member', 'of', 'the', 'audience', 'when', '-pron-', 'leave', 'pretty', 'much', 'everyone', 'be', 'talk', 'about', 'what', 'a', 'waste', 'of', 'time', 'this', 'film', 'was.<br', '/><br', '/>i', 'may', 'not', 'have', 'pay', 'cash', 'to', 'see', 'this', 'disaster', 'sneak', 'preview', 'but', '-pron-', 'certainly', 'be', 'not', 'free', '-pron-', 'cost', '-pron-', '2', 'hour', 'of', '-pron-', 'life', 'that', '-pron-', 'will', 'never', 'get', 'back', '<pad>', '<pad>', '<pad>', '<pad>', '<pad>', '<pad>', '<pad>', '<pad>', '<pad>', '<pad>', '<pad>', '<pad>', '<pad>', '<pad>', '<pad>', '<pad>', '<pad>', '<pad>', '<pad>', '<pad>', '<pad>', '<pad>', '<pad>', '<pad>', '<pad>', '<pad>', '<pad>', '<pad>', '<pad>', '<pad>', '<pad>', '<pad>', '<pad>', '<pad>', '<pad>', '<pad>', '<pad>', '<pad>', '<pad>', '<pad>', '<pad>', '<pad>', '<pad>', '<pad>', '<pad>', '<pad>', '<pad>', '<pad>', '<pad>', '<pad>', '<pad>', '<pad>', '<pad>', '<pad>', '<pad>', '<pad>', '<pad>', '<pad>', '<pad>', '<pad>', '<pad>', '<pad>', '<pad>', '<pad>', '<pad>', '<pad>', '<pad>', '<pad>', '<pad>', '<pad>', '<pad>', '<pad>', '<pad>', '<pad>', '<pad>', '<pad>', '<pad>', '<pad>', '<pad>', '<pad>', '<pad>', '<pad>', '<pad>', '<pad>', '<pad>', '<pad>', '<pad>', '<pad>', '<pad>', '<pad>', '<pad>', '<pad>', '<pad>', '<pad>', '<pad>', '<pad>', '<pad>', '<pad>', '<pad>', '<pad>', '<pad>', '<pad>', '<pad>', '<pad>', '<pad>']\n",
      "['if', 'anyone', 'be', 'wonder', 'why', 'no', 'one', 'make', 'movie', 'like', '-pron-', 'use', 'to', 'with', 'conversation', 'character', 'and', 'a', 'simple', 'theme', 'of', 'friendship', 'struggle', 'to', 'evolve', 'into', 'something', 'new', 'good', 'and', 'different', 'those', 'folk', 'need', 'to', 'take', 'in', 'this', 'film', 'and', 'see', 'top', 'notch', 'writing', 'directing', 'and', 'act', 'that', 'meld', 'into', 'a', 'wonderful', 'evening', 'of', 'observation', 'on', 'how', 'thing', 'use', 'to', 'be', 'in', 'italy', 'and', 'england', 'other', 'day', 'other', 'time', 'funnel', 'into', 'a', 'terrific', 'comedy', 'of', 'entertainment', 'make', 'in', '1992', 'with', 'alfred', 'molina', 'joan', 'plowright', 'polly', 'walker', 'josie', 'lawrence', 'jim', 'broadbent', 'miranda', 'richardson', 'and', 'michael', 'kitchens', 'in', 'the', 'major', 'role', 'under', 'the', 'brush', 'stroke', 'direction', 'of', 'mike', 'newell', 'these', 'actor', 'accomplish', 'vividly', 'memorable', 'performance', 'that', 'be', 'photograph', 'with', 'a', 'sublimely', 'subtle', 'painter', \"'s\", 'eye', 'reminiscent', 'of', 'the', 'theatrical', 'bedroom', 'farce', 'of', 'the', 'turn', 'of', 'the', 'century', 'this', 'film', 'may', 'be', 'call', 'a', 'friendship', 'farce', 'that', 'become', 'a', 'worthwhile', 'experience', 'in', 'the', 'growth', 'of', 'the', 'romantic', 'nature', 'within', 'each', 'character', 'and', 'the', 'viewer', 'too', 'an', 'artistic', 'telegram', 'on', 'the', 'importance', 'of', 'care', 'about', 'those', 'around', '-pron-', '<pad>', '<pad>', '<pad>', '<pad>', '<pad>', '<pad>', '<pad>', '<pad>', '<pad>', '<pad>', '<pad>', '<pad>', '<pad>', '<pad>', '<pad>', '<pad>', '<pad>', '<pad>', '<pad>', '<pad>', '<pad>', '<pad>', '<pad>', '<pad>', '<pad>', '<pad>', '<pad>', '<pad>', '<pad>', '<pad>', '<pad>', '<pad>', '<pad>', '<pad>', '<pad>', '<pad>', '<pad>', '<pad>', '<pad>', '<pad>', '<pad>', '<pad>', '<pad>', '<pad>', '<pad>', '<pad>', '<pad>', '<pad>', '<pad>', '<pad>', '<pad>', '<pad>', '<pad>', '<pad>', '<pad>', '<pad>', '<pad>', '<pad>', '<pad>', '<pad>', '<pad>', '<pad>', '<pad>', '<pad>', '<pad>', '<pad>', '<pad>', '<pad>', '<pad>', '<pad>', '<pad>', '<pad>', '<pad>', '<pad>', '<pad>', '<pad>', '<pad>', '<pad>', '<pad>', '<pad>', '<pad>', '<pad>', '<pad>', '<pad>', '<pad>', '<pad>', '<pad>', '<pad>', '<pad>', '<pad>', '<pad>', '<pad>', '<pad>', '<pad>', '<pad>', '<pad>', '<pad>', '<pad>', '<pad>', '<pad>', '<pad>', '<pad>', '<pad>', '<pad>', '<pad>', '<pad>', '<pad>', '<pad>', '<pad>', '<pad>', '<pad>', '<pad>', '<pad>', '<pad>', '<pad>', '<pad>', '<pad>', '<pad>', '<pad>', '<pad>', '<pad>', '<pad>', '<pad>', '<pad>', '<pad>', '<pad>', '<pad>', '<pad>', '<pad>', '<pad>', '<pad>', '<pad>', '<pad>', '<pad>', '<pad>', '<pad>', '<pad>', '<pad>', '<pad>', '<pad>', '<pad>', '<pad>', '<pad>', '<pad>', '<pad>', '<pad>', '<pad>', '<pad>', '<pad>', '<pad>', '<pad>', '<pad>', '<pad>', '<pad>', '<pad>', '<pad>', '<pad>', '<pad>', '<pad>', '<pad>', '<pad>', '<pad>', '<pad>', '<pad>', '<pad>', '<pad>', '<pad>', '<pad>', '<pad>', '<pad>', '<pad>', '<pad>', '<pad>', '<pad>', '<pad>', '<pad>', '<pad>', '<pad>', '<pad>', '<pad>', '<pad>', '<pad>', '<pad>', '<pad>', '<pad>', '<pad>', '<pad>', '<pad>', '<pad>', '<pad>', '<pad>', '<pad>', '<pad>', '<pad>', '<pad>', '<pad>', '<pad>', '<pad>', '<pad>', '<pad>', '<pad>', '<pad>', '<pad>', '<pad>', '<pad>', '<pad>', '<pad>', '<pad>', '<pad>', '<pad>', '<pad>', '<pad>', '<pad>', '<pad>', '<pad>', '<pad>', '<pad>', '<pad>', '<pad>', '<pad>', '<pad>', '<pad>', '<pad>', '<pad>', '<pad>', '<pad>']\n",
      "['mighty', 'morphin', 'power', 'rangers', 'come', 'out', 'in', '1993', 'supposedly', 'base', 'on', 'the', 'japanese', '<unk>', 'television', 'show', 'that', 'start', 'back', 'in', 'the', '1970', 'now', 'as', 'a', 'fan', 'of', 'japanese', 'action', 'film', 'and', 'series', '-pron-', 'would', 'think', '-pron-', 'would', 'get', 'a', 'kick', 'out', 'of', 'this', 'show.<br', '/><br', '/>you', 'could', 'not', 'be', 'more', 'wrong', 'what', 'work', 'in', 'the', 'japanese', 'version', 'have', 'become', 'a', 'complete', 'abomination', 'of', 'television', 'with', 'mighty', 'morphin', 'power', 'rangers.<br', '/><br', '<unk>', 'be', 'base', 'on', 'five', 'teenager', 'who', 'get', 'power', 'to', 'become', 'costumed', 'superhero', 'with', 'robotic', 'dinosaur', 'who', 'form', 'an', 'even', 'big', 'robot.<br', '/><br', '/>now', 'this', 'premise', 'be', 'more', 'far', 'fetched', 'and', 'more', 'laughable', 'than', 'anything', 'in', 'either', 'transformers', 'movie', 'yet', 'the', 'ridiculousness', 'of', 'this', 'show', 'be', 'often', '<unk>', '/><br', '/>it', 'be', 'follow', 'by', 'two', 'really', 'bad', 'and', '-pron-', 'do', 'mean', 'really', 'bad', 'movie', 'knock', 'off', 'and', 'the', 'actor', 'star', 'in', 'this', 'series', 'completely', 'disappear', 'from', 'the', 'scene.<br', '/><br', '/>if', '-pron-', 'must', 'choose', 'try', 'watch', 'japan', \"'s\", '<unk>', 'series', 'instead.<br', '/><br', '/>also', 'what', 'be', 'up', 'with', 'the', 'awful', 'long', '1990', 'haircut', 'and', 'all', 'the', 'earring', 'on', 'the', 'guy', '-pron-', 'make', '-pron-', 'all', 'look', 'feminine', '<pad>', '<pad>', '<pad>', '<pad>', '<pad>', '<pad>', '<pad>', '<pad>', '<pad>', '<pad>', '<pad>', '<pad>', '<pad>', '<pad>', '<pad>', '<pad>', '<pad>', '<pad>', '<pad>', '<pad>', '<pad>', '<pad>', '<pad>', '<pad>', '<pad>', '<pad>', '<pad>', '<pad>', '<pad>', '<pad>', '<pad>', '<pad>', '<pad>', '<pad>', '<pad>', '<pad>', '<pad>', '<pad>', '<pad>', '<pad>', '<pad>', '<pad>', '<pad>', '<pad>', '<pad>', '<pad>', '<pad>', '<pad>', '<pad>', '<pad>', '<pad>', '<pad>', '<pad>', '<pad>', '<pad>', '<pad>', '<pad>', '<pad>', '<pad>', '<pad>', '<pad>', '<pad>', '<pad>', '<pad>', '<pad>', '<pad>', '<pad>', '<pad>', '<pad>', '<pad>', '<pad>', '<pad>', '<pad>', '<pad>', '<pad>', '<pad>', '<pad>', '<pad>', '<pad>', '<pad>', '<pad>', '<pad>', '<pad>', '<pad>', '<pad>', '<pad>', '<pad>', '<pad>', '<pad>', '<pad>', '<pad>', '<pad>', '<pad>', '<pad>', '<pad>', '<pad>', '<pad>', '<pad>', '<pad>', '<pad>', '<pad>', '<pad>', '<pad>', '<pad>', '<pad>', '<pad>', '<pad>', '<pad>', '<pad>', '<pad>', '<pad>', '<pad>', '<pad>', '<pad>', '<pad>', '<pad>', '<pad>', '<pad>', '<pad>', '<pad>', '<pad>', '<pad>', '<pad>', '<pad>', '<pad>', '<pad>', '<pad>', '<pad>', '<pad>', '<pad>', '<pad>', '<pad>', '<pad>', '<pad>', '<pad>', '<pad>', '<pad>', '<pad>', '<pad>', '<pad>', '<pad>', '<pad>', '<pad>', '<pad>', '<pad>', '<pad>', '<pad>', '<pad>', '<pad>', '<pad>', '<pad>', '<pad>', '<pad>', '<pad>', '<pad>', '<pad>', '<pad>', '<pad>', '<pad>', '<pad>', '<pad>', '<pad>', '<pad>', '<pad>', '<pad>', '<pad>', '<pad>', '<pad>', '<pad>', '<pad>', '<pad>', '<pad>', '<pad>', '<pad>', '<pad>', '<pad>', '<pad>', '<pad>', '<pad>', '<pad>', '<pad>', '<pad>', '<pad>', '<pad>', '<pad>', '<pad>', '<pad>', '<pad>', '<pad>', '<pad>', '<pad>', '<pad>', '<pad>', '<pad>', '<pad>', '<pad>', '<pad>', '<pad>', '<pad>', '<pad>', '<pad>', '<pad>', '<pad>', '<pad>', '<pad>', '<pad>', '<pad>', '<pad>', '<pad>', '<pad>', '<pad>', '<pad>', '<pad>', '<pad>', '<pad>', '<pad>', '<pad>']\n",
      "['for', 'the', 'life', 'of', '-pron-', '-pron-', 'can', 'not', 'understand', 'the', 'blind', 'hype', 'and', 'devotion', 'to', 'this', 'totally', 'unbelievable', 'movie', '......', 'and', '-pron-', 'think', '-pron-', 'have', 'the', 'qualification', 'to', 'say', 'so', '....', '-pron-', 'be', 'a', 'former', 'special', 'operations', 'soldier', 'with', '14', 'year', 'in', 'the', 'lifestyle', '...', 'this', 'movie', 'be', 'totally', 'totally', 'unreal', 'and', 'obviously', 'write', 'by', 'someone', 'that', 'do', 'very', 'little', 'research', 'into', 'life', 'in', 'the', 'army', 'in', 'combat', 'or', 'at', 'a', 'team', 'or', 'platoon', 'level.<br', '/><br', '/>three', 'eod', 'guy', 'trounce', 'around', 'bagdad', 'on', '-pron-', 'own', 'get', 'real', '...', 'no', 'chain', 'of', 'command', 'get', 'real', '...', 'eod', 'clearing', 'building', 'get', 'real', '....', '<unk>', 'military', 'intelligence', 'sniper', 'qualified', 'buck', 'sergeant', 'get', 'real', '....', 'wait', '...', '-pron-', 'shoot', 'and', 'kill', 'a', 'bad', 'guy', 'and', 'then', 'let', 'two', 'guy', 'take', '-pron-', 'without', 'fire', 'another', 'shot', 'or', 'be', 'injure', 'at', 'all', 'get', 'real', '....', '-pron-', 'carjack', 'an', 'iraqi', 'civilian', 'while', '-pron-', 'be', 'only', 'armed', 'with', 'a', '9', 'mil', 'break', 'into', 'another', '<unk>', 'house', 'get', 'punk', 'by', '-pron-', 'wife', 'then', 'make', '-pron-', 'back', 'to', 'camp', 'on', 'foot', 'in', 'the', 'middle', 'of', 'bagdad', 'at', 'night', 'without', 'as', 'so', 'much', 'as', 'a', 'scratch', 'or', 'confrontation', 'get', 'real', '...', '<br', '/><br', '/>there', 'be', 'absolutely', 'no', 'adherence', 'to', 'military', 'protocol', 'army', 'and', 'no', 'resemblance', 'at', 'all', 'to', 'any', 'army', 'unit', 'that', '-pron-', 'have', 'even', 'encounter', 'totally', 'unbelievable', 'and', 'disrespectful', 'to', 'the', 'man', 'and', 'woman', 'of', 'eod', 'who', 'contrary', 'to', 'this', 'poor', 'film', 'be', 'not', 'wild', 'adrenaline', 'seek', 'yahoo', 'but', 'extremely', 'qualified', 'professional', 'do', 'an', 'incredibly', 'hard', 'job', '<pad>', '<pad>', '<pad>', '<pad>', '<pad>', '<pad>', '<pad>', '<pad>', '<pad>', '<pad>', '<pad>', '<pad>', '<pad>', '<pad>', '<pad>', '<pad>', '<pad>', '<pad>', '<pad>', '<pad>', '<pad>', '<pad>', '<pad>', '<pad>', '<pad>', '<pad>', '<pad>', '<pad>', '<pad>', '<pad>', '<pad>', '<pad>', '<pad>', '<pad>', '<pad>', '<pad>', '<pad>', '<pad>', '<pad>', '<pad>', '<pad>', '<pad>', '<pad>', '<pad>', '<pad>', '<pad>', '<pad>', '<pad>', '<pad>', '<pad>', '<pad>', '<pad>', '<pad>', '<pad>', '<pad>', '<pad>', '<pad>', '<pad>', '<pad>', '<pad>', '<pad>', '<pad>', '<pad>', '<pad>', '<pad>', '<pad>', '<pad>', '<pad>', '<pad>', '<pad>', '<pad>', '<pad>', '<pad>', '<pad>', '<pad>', '<pad>', '<pad>', '<pad>', '<pad>', '<pad>', '<pad>', '<pad>', '<pad>', '<pad>', '<pad>', '<pad>', '<pad>', '<pad>', '<pad>', '<pad>', '<pad>', '<pad>', '<pad>', '<pad>', '<pad>', '<pad>', '<pad>', '<pad>', '<pad>', '<pad>', '<pad>', '<pad>', '<pad>', '<pad>', '<pad>', '<pad>', '<pad>', '<pad>', '<pad>', '<pad>', '<pad>', '<pad>', '<pad>', '<pad>', '<pad>', '<pad>', '<pad>', '<pad>', '<pad>', '<pad>', '<pad>', '<pad>', '<pad>', '<pad>', '<pad>', '<pad>', '<pad>', '<pad>', '<pad>', '<pad>', '<pad>', '<pad>', '<pad>', '<pad>', '<pad>', '<pad>', '<pad>', '<pad>', '<pad>', '<pad>', '<pad>', '<pad>', '<pad>', '<pad>', '<pad>', '<pad>', '<pad>', '<pad>', '<pad>', '<pad>', '<pad>', '<pad>', '<pad>']\n",
      "['angel', 'who', 'get', 'a', 'little', 'icky', 'be', 'ban', 'from', 'heaven', 'and', 'now', 'reside', 'in', 'a', 'british', 'forest', 'where', '-pron-', 'seduce', 'and', 'chop', 'up', 'teen', 'talk', 'about', 'high', 'concept', 'on', 'the', 'plus', 'side', 'this', 'little', 'mother', 'give', '-pron-', 'tom', 'savini', 'but', 'since', '-pron-', 'acting', 'range', 'be', 'limit', 'to', 'two', 'minute', 'screen', 'time', '-pron-', 'five', 'minute', 'presence', 'seem', 'a', 'tad', 'long', 'the', 'angel', 'run', 'around', 'the', 'forest', 'naked', 'for', 'the', 'most', 'part', 'of', 'the', 'movie', 'but', 'though', '-pron-', 'may', 'have', 'the', 'body', 'of', 'an', 'angel', '-pron-', 'face', 'sure', 'look', 'like', 'joan', 'rivers', 'on', 'a', 'bad', 'day', 'mediocre', 'acting', 'and', 'amateurish', 'gore', 'effect', 'do', 'not', 'help', 'and', 'the', 'night', 'scene', 'fatally', 'recall', 'paris', 'hilton', \"'s\", 'most', 'famous', 'movie', 'so', 'bad', 'that', '-pron-', 'be', 'really', 'bad', '<pad>', '<pad>', '<pad>', '<pad>', '<pad>', '<pad>', '<pad>', '<pad>', '<pad>', '<pad>', '<pad>', '<pad>', '<pad>', '<pad>', '<pad>', '<pad>', '<pad>', '<pad>', '<pad>', '<pad>', '<pad>', '<pad>', '<pad>', '<pad>', '<pad>', '<pad>', '<pad>', '<pad>', '<pad>', '<pad>', '<pad>', '<pad>', '<pad>', '<pad>', '<pad>', '<pad>', '<pad>', '<pad>', '<pad>', '<pad>', '<pad>', '<pad>', '<pad>', '<pad>', '<pad>', '<pad>', '<pad>', '<pad>', '<pad>', '<pad>', '<pad>', '<pad>', '<pad>', '<pad>', '<pad>', '<pad>', '<pad>', '<pad>', '<pad>', '<pad>', '<pad>', '<pad>', '<pad>', '<pad>', '<pad>', '<pad>', '<pad>', '<pad>', '<pad>', '<pad>', '<pad>', '<pad>', '<pad>', '<pad>', '<pad>', '<pad>', '<pad>', '<pad>', '<pad>', '<pad>', '<pad>', '<pad>', '<pad>', '<pad>', '<pad>', '<pad>', '<pad>', '<pad>', '<pad>', '<pad>', '<pad>', '<pad>', '<pad>', '<pad>', '<pad>', '<pad>', '<pad>', '<pad>', '<pad>', '<pad>', '<pad>', '<pad>', '<pad>', '<pad>', '<pad>', '<pad>', '<pad>', '<pad>', '<pad>', '<pad>', '<pad>', '<pad>', '<pad>', '<pad>', '<pad>', '<pad>', '<pad>', '<pad>', '<pad>', '<pad>', '<pad>', '<pad>', '<pad>', '<pad>', '<pad>', '<pad>', '<pad>', '<pad>', '<pad>', '<pad>', '<pad>', '<pad>', '<pad>', '<pad>', '<pad>', '<pad>', '<pad>', '<pad>', '<pad>', '<pad>', '<pad>', '<pad>', '<pad>', '<pad>', '<pad>', '<pad>', '<pad>', '<pad>', '<pad>', '<pad>', '<pad>', '<pad>', '<pad>', '<pad>', '<pad>', '<pad>', '<pad>', '<pad>', '<pad>', '<pad>', '<pad>', '<pad>', '<pad>', '<pad>', '<pad>', '<pad>', '<pad>', '<pad>', '<pad>', '<pad>', '<pad>', '<pad>', '<pad>', '<pad>', '<pad>', '<pad>', '<pad>', '<pad>', '<pad>', '<pad>', '<pad>', '<pad>', '<pad>', '<pad>', '<pad>', '<pad>', '<pad>', '<pad>', '<pad>', '<pad>', '<pad>', '<pad>', '<pad>', '<pad>', '<pad>', '<pad>', '<pad>', '<pad>', '<pad>', '<pad>', '<pad>', '<pad>', '<pad>', '<pad>', '<pad>', '<pad>', '<pad>', '<pad>', '<pad>', '<pad>', '<pad>', '<pad>', '<pad>', '<pad>', '<pad>', '<pad>', '<pad>', '<pad>', '<pad>', '<pad>', '<pad>', '<pad>', '<pad>', '<pad>', '<pad>', '<pad>', '<pad>', '<pad>', '<pad>', '<pad>', '<pad>', '<pad>', '<pad>', '<pad>', '<pad>', '<pad>', '<pad>', '<pad>', '<pad>', '<pad>', '<pad>', '<pad>', '<pad>', '<pad>', '<pad>', '<pad>', '<pad>', '<pad>', '<pad>', '<pad>', '<pad>', '<pad>', '<pad>', '<pad>', '<pad>', '<pad>', '<pad>', '<pad>', '<pad>', '<pad>', '<pad>', '<pad>', '<pad>', '<pad>', '<pad>', '<pad>', '<pad>', '<pad>', '<pad>', '<pad>', '<pad>', '<pad>', '<pad>', '<pad>', '<pad>', '<pad>', '<pad>', '<pad>']\n",
      "['<unk>', 'something', 'thing', '..', '<unk>', 'leave', 'puncture', 'mark', 'on', 'the', 'jugular', 'and', 'drain', 'victim', 'of', '-pron-', 'blood', 'till', 'dead', 'police', 'detective', 'karl', '<unk>', 'douglas', 'before', 'slip', 'out', 'of', 'the', 'b', 'movie', 'horror', 'genre', 'for', 'great', '<unk>', 'stump', 'at', 'who', '..', 'or', 'what', '..', 'be', 'behind', 'these', 'notorious', 'crime', 'the', 'village', 'be', 'overcome', 'by', 'hysteria', 'and', 'karl', 'depend', 'on', '-pron-', 'trust', 'medical', 'genius', 'dr.', 'otto', 'von', '<unk>', 'atwill', 'in', 'yet', 'another', 'effective', 'mad', 'scientist', '<unk>', 'provide', 'some', 'feedback', 'as', 'to', 'what', 'may', 'be', 'cause', 'the', 'death', 'of', 'innocent', '-pron-', 'also', 'fear', 'for', 'the', 'safety', 'of', '-pron-', 'beloved', '<unk>', 'lovely', 'fay', 'wray', 'who', 'star', 'for', 'the', 'third', 'time', 'with', 'atwill', 'after', 'doctor', 'x', 'the', 'mystery', 'of', 'the', 'wax', '<unk>', 'be', 'niemann', \"'s\", 'assistant.<br', '/><br', '<unk>', 'frye', 'steal', 'the', 'film', 'as', 'a', 'rather', 'loony', 'village', 'idiot', 'who', 'collect', 'bat', 'and', 'carry', 'a', 'demented', 'demeanor', 'wherever', '-pron-', 'go', '..', '-pron-', 'be', 'easy', 'to', 'see', 'why', '-pron-', 'become', 'a', 'suspect', 'as', 'local', 'paranoia', 'be', 'at', 'a', 'fever', 'pitch', 'maude', 'eburne', 'provide', 'the', 'film', \"'s\", 'humor', 'as', 'a', 'very', '<unk>', '..', 'and', 'easily', '<unk>', 'of', 'von', 'niemann', \"'s\", 'who', 'believe', '-pron-', 'have', 'ailment', '-pron-', 'read', 'about', 'in', 'book', 'near', 'the', 'laboratory', 'where', '-pron-', 'work', '-pron-', 'be', 'impressionable', 'and', 'often', 'von', 'niemann', 'just', 'humor', '-pron-', 'and', 'constant', 'fictional', 'illness', '-pron-', 'feel', 'plague', 'with', 'lionel', 'belmore', 'return', 'as', 'yet', 'another', 'frightened', 'superstitious', '<unk>', '/><br', '<unk>', 'static', 'but', 'rather', 'entertain', 'nonetheless', 'thank', 'to', 'the', 'cast', 'the', 'film', 'be', 'obviously', 'as', 'low', 'budget', 'as', '-pron-', 'come', 'but', 'this', 'do', 'not', 'hurt', 'the', 'film', 'too', 'much', 'since', '-pron-', 'be', 'put', 'together', 'rather', 'well', 'by', 'director', 'frank', 'r', 'strayer', 'and', '-pron-', 'crew', '-pron-', 'be', 'certain', 'the', 'film', \"'s\", 'print', 'have', 'see', 'good', 'day', 'though', 'this', 'be', 'the', 'kind', 'of', 'b', 'horror', 'item', '-pron-', 'would', 'find', 'package', 'in', 'with', '50', 'other', 'random', '<unk>', 'and', 'poverty', 'row', 'programmer', 'the', 'film', \"'s\", 'villain', '..', 'and', '-pron-', 'motif', 'for', 'feed', 'a', '<unk>', 'make', 'biological', 'creature', '..', 'certainly', 'provide', 'a', 'different', 'take', 'on', 'the', 'frankenstein', 'formula', 'many', 'may', 'be', 'disappoint', 'with', 'the', 'end', 'result', 'as', 'the', 'film', 'stray', 'away', 'from', 'be', 'an', 'actual', 'supernatural', 'tale', 'about', 'a', 'real', 'vampire', 'killer', 'cause', 'the', 'murder', '<pad>', '<pad>', '<pad>', '<pad>', '<pad>', '<pad>', '<pad>', '<pad>', '<pad>', '<pad>', '<pad>', '<pad>', '<pad>', '<pad>', '<pad>', '<pad>', '<pad>', '<pad>', '<pad>', '<pad>', '<pad>', '<pad>', '<pad>', '<pad>', '<pad>', '<pad>', '<pad>', '<pad>', '<pad>', '<pad>', '<pad>', '<pad>', '<pad>', '<pad>', '<pad>', '<pad>', '<pad>', '<pad>', '<pad>', '<pad>', '<pad>', '<pad>', '<pad>', '<pad>']\n",
      "['-pron-', 'drive', 'from', 'sacramento', 'to', 'san', 'francisco', 'and', 'back', 'to', 'see', 'this', 'movie', 'premiere', '--', 'and', 'really', 'glad', '-pron-', 'do', 'as', 'a', 'big', 'movie', 'fan', 'and', 'a', 'life', 'long', 'northern', 'californian', '-pron-', 'be', 'surprised', 'how', 'many', 'oscar', 'win', 'film', 'have', 'be', 'make', 'in', 'the', 'bay', 'area', 'as', 'a', 'fashion', 'designer', 'who', 'really', 'want', 'to', 'stay', 'in', 'the', 'bay', 'area', 'as', 'oppose', 'to', 'go', 'to', 'la', 'george', 'lucas', 'comment', 'about', 'persistence', 'community', 'and', 'have', 'a', 'vision', 'really', 'resonate', 'with', '-pron-', 'br', '/><br', '/>hey', 'if', '-pron-', 'and', 'all', 'the', 'other', 'filmmaker', 'can', 'make', '-pron-', 'in', 'sf', 'so', 'can', 'other', 'artist', 'br', '/><br', '/>would', 'recommend', 'this', 'film', '<pad>', '<pad>', '<pad>', '<pad>', '<pad>', '<pad>', '<pad>', '<pad>', '<pad>', '<pad>', '<pad>', '<pad>', '<pad>', '<pad>', '<pad>', '<pad>', '<pad>', '<pad>', '<pad>', '<pad>', '<pad>', '<pad>', '<pad>', '<pad>', '<pad>', '<pad>', '<pad>', '<pad>', '<pad>', '<pad>', '<pad>', '<pad>', '<pad>', '<pad>', '<pad>', '<pad>', '<pad>', '<pad>', '<pad>', '<pad>', '<pad>', '<pad>', '<pad>', '<pad>', '<pad>', '<pad>', '<pad>', '<pad>', '<pad>', '<pad>', '<pad>', '<pad>', '<pad>', '<pad>', '<pad>', '<pad>', '<pad>', '<pad>', '<pad>', '<pad>', '<pad>', '<pad>', '<pad>', '<pad>', '<pad>', '<pad>', '<pad>', '<pad>', '<pad>', '<pad>', '<pad>', '<pad>', '<pad>', '<pad>', '<pad>', '<pad>', '<pad>', '<pad>', '<pad>', '<pad>', '<pad>', '<pad>', '<pad>', '<pad>', '<pad>', '<pad>', '<pad>', '<pad>', '<pad>', '<pad>', '<pad>', '<pad>', '<pad>', '<pad>', '<pad>', '<pad>', '<pad>', '<pad>', '<pad>', '<pad>', '<pad>', '<pad>', '<pad>', '<pad>', '<pad>', '<pad>', '<pad>', '<pad>', '<pad>', '<pad>', '<pad>', '<pad>', '<pad>', '<pad>', '<pad>', '<pad>', '<pad>', '<pad>', '<pad>', '<pad>', '<pad>', '<pad>', '<pad>', '<pad>', '<pad>', '<pad>', '<pad>', '<pad>', '<pad>', '<pad>', '<pad>', '<pad>', '<pad>', '<pad>', '<pad>', '<pad>', '<pad>', '<pad>', '<pad>', '<pad>', '<pad>', '<pad>', '<pad>', '<pad>', '<pad>', '<pad>', '<pad>', '<pad>', '<pad>', '<pad>', '<pad>', '<pad>', '<pad>', '<pad>', '<pad>', '<pad>', '<pad>', '<pad>', '<pad>', '<pad>', '<pad>', '<pad>', '<pad>', '<pad>', '<pad>', '<pad>', '<pad>', '<pad>', '<pad>', '<pad>', '<pad>', '<pad>', '<pad>', '<pad>', '<pad>', '<pad>', '<pad>', '<pad>', '<pad>', '<pad>', '<pad>', '<pad>', '<pad>', '<pad>', '<pad>', '<pad>', '<pad>', '<pad>', '<pad>', '<pad>', '<pad>', '<pad>', '<pad>', '<pad>', '<pad>', '<pad>', '<pad>', '<pad>', '<pad>', '<pad>', '<pad>', '<pad>', '<pad>', '<pad>', '<pad>', '<pad>', '<pad>', '<pad>', '<pad>', '<pad>', '<pad>', '<pad>', '<pad>', '<pad>', '<pad>', '<pad>', '<pad>', '<pad>', '<pad>', '<pad>', '<pad>', '<pad>', '<pad>', '<pad>', '<pad>', '<pad>', '<pad>', '<pad>', '<pad>', '<pad>', '<pad>', '<pad>', '<pad>', '<pad>', '<pad>', '<pad>', '<pad>', '<pad>', '<pad>', '<pad>', '<pad>', '<pad>', '<pad>', '<pad>', '<pad>', '<pad>', '<pad>', '<pad>', '<pad>', '<pad>', '<pad>', '<pad>', '<pad>', '<pad>', '<pad>', '<pad>', '<pad>', '<pad>', '<pad>', '<pad>', '<pad>', '<pad>', '<pad>', '<pad>', '<pad>', '<pad>', '<pad>', '<pad>', '<pad>', '<pad>', '<pad>', '<pad>', '<pad>', '<pad>', '<pad>', '<pad>', '<pad>', '<pad>', '<pad>', '<pad>', '<pad>', '<pad>', '<pad>', '<pad>', '<pad>', '<pad>', '<pad>', '<pad>', '<pad>', '<pad>', '<pad>', '<pad>', '<pad>', '<pad>', '<pad>', '<pad>']\n",
      "['this', 'be', 'a', 'wonderful', 'film', '...', 'first', 'impression', 'of', 'cynicism', 'and', '<unk>', 'be', 'soon', 'dissipate', 'by', 'a', 'fun', 'love', 'display', 'of', 'how', 'man', 'and', 'woman', \"'s\", '<unk>', 'motivation', 'diverge', 'vive', 'la', 'difference', 'br', '/><br', '/>you', 'can', 'love', 'people', 'despite', 'and', 'sometimes', 'because', 'of', '-pron-', 'weakness', 'human', 'being', 'be', 'a', 'bit', 'rubbish', 'really', 'but', '-pron-', 'have', 'big', 'heart', 'and', '-pron-', 'try', '-pron-', 'good', 'despite', 'temptation', '-pron-', 'be', 'not', '-pron-', 'fault', 'when', 'sometimes', 'temptation', 'can', 'not', 'be', 'resist', 'that', 'be', 'just', 'who', '-pron-', 'are.<br', '/><br', '/>there', 'be', 'a', 'consistent', '<unk>', 'from', 'start', 'to', 'finish', 'crisp', 'photography', 'and', 'sharp', 'composition', 'very', 'pleasant', 'viewing', 'when', '-pron-', 'add', 'provocative', 'content', 'well', 'suited', 'music', 'and', 'laugh', 'out', 'loud', 'scripting.<br', '/><br', '/>watch', 'out', 'for', 'the', 'very', 'young', 'lone', 'wise', 'voice', '...', 'brilliant', 'wisdom', 'from', 'innocence', 'balance', 'comedy', 'from', 'the', 'human', 'condition', '<pad>', '<pad>', '<pad>', '<pad>', '<pad>', '<pad>', '<pad>', '<pad>', '<pad>', '<pad>', '<pad>', '<pad>', '<pad>', '<pad>', '<pad>', '<pad>', '<pad>', '<pad>', '<pad>', '<pad>', '<pad>', '<pad>', '<pad>', '<pad>', '<pad>', '<pad>', '<pad>', '<pad>', '<pad>', '<pad>', '<pad>', '<pad>', '<pad>', '<pad>', '<pad>', '<pad>', '<pad>', '<pad>', '<pad>', '<pad>', '<pad>', '<pad>', '<pad>', '<pad>', '<pad>', '<pad>', '<pad>', '<pad>', '<pad>', '<pad>', '<pad>', '<pad>', '<pad>', '<pad>', '<pad>', '<pad>', '<pad>', '<pad>', '<pad>', '<pad>', '<pad>', '<pad>', '<pad>', '<pad>', '<pad>', '<pad>', '<pad>', '<pad>', '<pad>', '<pad>', '<pad>', '<pad>', '<pad>', '<pad>', '<pad>', '<pad>', '<pad>', '<pad>', '<pad>', '<pad>', '<pad>', '<pad>', '<pad>', '<pad>', '<pad>', '<pad>', '<pad>', '<pad>', '<pad>', '<pad>', '<pad>', '<pad>', '<pad>', '<pad>', '<pad>', '<pad>', '<pad>', '<pad>', '<pad>', '<pad>', '<pad>', '<pad>', '<pad>', '<pad>', '<pad>', '<pad>', '<pad>', '<pad>', '<pad>', '<pad>', '<pad>', '<pad>', '<pad>', '<pad>', '<pad>', '<pad>', '<pad>', '<pad>', '<pad>', '<pad>', '<pad>', '<pad>', '<pad>', '<pad>', '<pad>', '<pad>', '<pad>', '<pad>', '<pad>', '<pad>', '<pad>', '<pad>', '<pad>', '<pad>', '<pad>', '<pad>', '<pad>', '<pad>', '<pad>', '<pad>', '<pad>', '<pad>', '<pad>', '<pad>', '<pad>', '<pad>', '<pad>', '<pad>', '<pad>', '<pad>', '<pad>', '<pad>', '<pad>', '<pad>', '<pad>', '<pad>', '<pad>', '<pad>', '<pad>', '<pad>', '<pad>', '<pad>', '<pad>', '<pad>', '<pad>', '<pad>', '<pad>', '<pad>', '<pad>', '<pad>', '<pad>', '<pad>', '<pad>', '<pad>', '<pad>', '<pad>', '<pad>', '<pad>', '<pad>', '<pad>', '<pad>', '<pad>', '<pad>', '<pad>', '<pad>', '<pad>', '<pad>', '<pad>', '<pad>', '<pad>', '<pad>', '<pad>', '<pad>', '<pad>', '<pad>', '<pad>', '<pad>', '<pad>', '<pad>', '<pad>', '<pad>', '<pad>', '<pad>', '<pad>', '<pad>', '<pad>', '<pad>', '<pad>', '<pad>', '<pad>', '<pad>', '<pad>', '<pad>', '<pad>', '<pad>', '<pad>', '<pad>', '<pad>', '<pad>', '<pad>', '<pad>', '<pad>', '<pad>', '<pad>', '<pad>', '<pad>', '<pad>', '<pad>', '<pad>', '<pad>', '<pad>', '<pad>', '<pad>', '<pad>', '<pad>', '<pad>', '<pad>', '<pad>', '<pad>', '<pad>', '<pad>', '<pad>', '<pad>', '<pad>', '<pad>', '<pad>', '<pad>', '<pad>', '<pad>', '<pad>', '<pad>', '<pad>', '<pad>', '<pad>', '<pad>', '<pad>', '<pad>', '<pad>', '<pad>', '<pad>', '<pad>', '<pad>', '<pad>', '<pad>', '<pad>', '<pad>']\n",
      "['another', 'turgid', 'action', 'adventure', 'flick', 'from', 'the', 'quinn', 'martin', 'productions', 'factory', 'roy', 'thinnes', 'play', 'undercover', 'agent', 'diamond', 'head', 'mr.', 'head', 'to', '-pron-', 'work', 'for', '-pron-', 'g', 'man', 'handler', 'aunt', 'mary', 'look', 'for', 'tree', 'who', 'be', 'on', 'a', 'mission', 'to', '...', 'well', 'just', 'watch', 'the', 'movie', 'br', '/><br', '/>this', 'one', 'deserve', 'and', 'get', 'the', 'full', 'mst3', 'k', '<unk>', 'as', 'the', 'boy', 'and', 'various', 'reviewer', 'have', 'point', 'out', 'the', 'movie', 'fargo', 'have', 'more', 'hawaiian', 'location', 'than', 'this', 'film', 'apparently', 'shoot', 'on', 'a', 'puny', 'budget', 'this', 'movie', 'highlight', 'hawaii', \"'s\", 'break', 'down', 'dive', 'shop', 'gas', 'station', 'and', 'cheapo', 'hotel', 'zulu', '--', 'later', 'to', 'star', 'as', '<unk>', 'in', 'hawaii', 'five', 'o', '--', 'appear', 'as', 'thinnes', 'lumpy', 'inept', 'sidekick', 'while', 'france', 'nguyen', 'model', 'the', 'jenny', 'craig', 'diet', 'go', 'horribly', 'wrong', 'other', 'share', 'the', 'flickering', 'screen', 'include', 'a', 'drunken', 'richard', 'harris', 'knockoff', 'a', 'george', '<unk>', 'imitator', 'a', 'not', 'so', 'smart', 'hit', 'man', 'with', 'spray', 'on', '<unk>', 'slack', 'and', 'the', 'villain', 'tree', 'sport', 'a', '<unk>', 'british', 'accent', '-pron-', 'can', 'pretty', 'much', 'figure', 'out', 'the', 'plot', 'halfway', 'through', 'the', 'opening', 'credit', 'but', 'relax', '--', 'just', 'enjoy', 'the', 'giddy', 'mediocrity', 'of', 'this', '70', \"'s\", 'movie', 'of', 'the', 'week.<br', '/><br', '/>whenever', '-pron-', 'think', 'of', 'this', 'movie', 'and', '-pron-', 'think', 'of', 'this', 'movie', 'often', '-pron-', 'catch', '-pron-', 'hum', 'the', 'theme', 'write', 'for', 'flute', 'and', '<unk>', '...', 'no', 'one', 'know', 'why', 'br', '/><br', '/>trivia', 'note', '--', 'diamond', 'head', 'be', 'direct', 'by', 'jeannot', 'szwarc', 'one', 'of', 'three', 'contract', 'director', 'at', 'universal', 'who', 'would', 'go', 'on', 'to', 'make', 'much', 'big', 'film', 'in', '-pron-', 'case', 'jaws', '2', 'the', 'other', 'be', 'john', 'badham', 'war', 'games', 'and', 'a', 'young', 'fellow', 'name', 'steven', 'spielberg', '...', '<pad>', '<pad>', '<pad>', '<pad>', '<pad>', '<pad>', '<pad>', '<pad>', '<pad>', '<pad>', '<pad>', '<pad>', '<pad>', '<pad>', '<pad>', '<pad>', '<pad>', '<pad>', '<pad>', '<pad>', '<pad>', '<pad>', '<pad>', '<pad>', '<pad>', '<pad>', '<pad>', '<pad>', '<pad>', '<pad>', '<pad>', '<pad>', '<pad>', '<pad>', '<pad>', '<pad>', '<pad>', '<pad>', '<pad>', '<pad>', '<pad>', '<pad>', '<pad>', '<pad>', '<pad>', '<pad>', '<pad>', '<pad>', '<pad>', '<pad>', '<pad>', '<pad>', '<pad>', '<pad>', '<pad>', '<pad>', '<pad>', '<pad>', '<pad>', '<pad>', '<pad>', '<pad>', '<pad>', '<pad>', '<pad>', '<pad>', '<pad>', '<pad>', '<pad>', '<pad>', '<pad>', '<pad>', '<pad>', '<pad>', '<pad>', '<pad>', '<pad>', '<pad>', '<pad>', '<pad>', '<pad>', '<pad>', '<pad>', '<pad>', '<pad>', '<pad>', '<pad>', '<pad>', '<pad>', '<pad>', '<pad>', '<pad>', '<pad>', '<pad>', '<pad>', '<pad>', '<pad>', '<pad>', '<pad>', '<pad>', '<pad>', '<pad>', '<pad>', '<pad>', '<pad>', '<pad>', '<pad>', '<pad>', '<pad>', '<pad>', '<pad>', '<pad>', '<pad>', '<pad>', '<pad>', '<pad>', '<pad>', '<pad>', '<pad>', '<pad>', '<pad>', '<pad>', '<pad>', '<pad>', '<pad>', '<pad>', '<pad>', '<pad>', '<pad>', '<pad>', '<pad>', '<pad>', '<pad>']\n",
      "['-pron-', 'have', 'rarely', 'be', 'subject', 'to', 'such', 'outright', 'nonsense', 'in', 'a', 'film', 'that', 'be', 'suppose', 'to', 'be', 'base', 'on', 'a', 'historical', 'figure', 'a', 'horrible', 'joke', 'of', 'a', 'film', '-pron-', 'cringe', 'throughout', 'terrible', 'trite', 'distorted', 'and', 'riddled', 'with', 'outright', 'lie', 'and', 'half', 'truths.<br', '/><br', '/>the', 'famous', 'hitler', 'biographer', 'ian', 'kershaw', 'be', 'to', 'originally', 'be', 'a', 'consultant', 'for', 'this', 'film', 'however', '-pron-', 'find', 'the', 'script', 'to', 'be', 'so', 'historically', 'inaccurate', 'and', 'ridiculous', 'that', '-pron-', 'refuse', 'and', 'also', 'demand', '-pron-', 'stop', 'use', '-pron-', 'name', 'as', 'a', 'source', '-pron-', 'embarrass', '-pron-', 'to', 'think', 'people', 'would', 'think', '-pron-', 'be', '<unk>', '/><br', '/>one', 'scene', 'show', 'hitler', 'beat', '-pron-', 'dog', 'there', 'be', 'not', 'one', 'source', 'for', 'this', 'hitler', 'love', 'animal', 'above', 'people', '-pron-', 'bring', 'in', 'the', 'strict', 'animal', 'welfare', 'law', 'in', 'europe', 'ban', '<unk>', 'and', 'animal', 'experimentation', '-pron-', 'be', 'also', 'a', '<unk>', '/><br', '/>the', 'film', 'turn', '-pron-', '<unk>', 'of', 'the', 'iron', 'cross', 'into', 'a', 'farce', 'involve', 'bribery', 'utter', 'lie', '-pron-', 'be', 'award', '-pron-', 'for', 'repeat', 'act', 'of', 'bravery', 'over', 'a', 'long', 'period', 'of', 'time.<br', '/><br', '/>there', 'be', 'no', 'historical', 'document', 'show', 'that', 'hitler', 'ever', 'have', 'a', 'sexual', 'relationship', 'with', '-pron-', 'niece', 'not', 'one.<br', '/><br', '/>apart', 'from', 'these', 'hitler', 'be', 'portray', 'as', 'a', 'rabid', 'simpleton', 'in', 'this', 'garbage', 'flick.<br', '/><br', '/>if', '-pron-', 'be', 'even', 'half', 'as', 'ignorant', 'demented', 'and', 'thick', 'as', '-pron-', 'be', 'in', 'this', 'nonsense', 'film', 'as', 'in', 'real', 'life', '-pron-', 'would', 'not', 'even', 'know', '-pron-', 'have', 'ever', 'exist', 'never', 'mind', 'become', 'the', 'leader', 'of', 'germany.<br', '/><br', '/>honestly', 'this', 'film', 'be', 'utterly', 'terrible.<br', '/><br', '/>go', 'watch', 'downfall', 'and', 'give', 'this', 'a', 'very', 'wide', 'berth', '<pad>', '<pad>', '<pad>', '<pad>', '<pad>', '<pad>', '<pad>', '<pad>', '<pad>', '<pad>', '<pad>', '<pad>', '<pad>', '<pad>', '<pad>', '<pad>', '<pad>', '<pad>', '<pad>', '<pad>', '<pad>', '<pad>', '<pad>', '<pad>', '<pad>', '<pad>', '<pad>', '<pad>', '<pad>', '<pad>', '<pad>', '<pad>', '<pad>', '<pad>', '<pad>', '<pad>', '<pad>', '<pad>', '<pad>', '<pad>', '<pad>', '<pad>', '<pad>', '<pad>', '<pad>', '<pad>', '<pad>', '<pad>', '<pad>', '<pad>', '<pad>', '<pad>', '<pad>', '<pad>', '<pad>', '<pad>', '<pad>', '<pad>', '<pad>', '<pad>', '<pad>', '<pad>', '<pad>', '<pad>', '<pad>', '<pad>', '<pad>', '<pad>', '<pad>', '<pad>', '<pad>', '<pad>', '<pad>', '<pad>', '<pad>', '<pad>', '<pad>', '<pad>', '<pad>', '<pad>', '<pad>', '<pad>', '<pad>', '<pad>', '<pad>', '<pad>', '<pad>', '<pad>', '<pad>', '<pad>', '<pad>', '<pad>', '<pad>', '<pad>', '<pad>', '<pad>', '<pad>', '<pad>', '<pad>', '<pad>', '<pad>', '<pad>', '<pad>', '<pad>', '<pad>', '<pad>', '<pad>', '<pad>', '<pad>', '<pad>', '<pad>', '<pad>', '<pad>', '<pad>', '<pad>', '<pad>', '<pad>', '<pad>', '<pad>', '<pad>', '<pad>', '<pad>', '<pad>', '<pad>', '<pad>', '<pad>', '<pad>', '<pad>', '<pad>', '<pad>', '<pad>', '<pad>', '<pad>', '<pad>', '<pad>', '<pad>', '<pad>', '<pad>', '<pad>', '<pad>', '<pad>', '<pad>', '<pad>']\n",
      "['everybody', 'who', 'want', 'to', 'be', 'an', 'editor', 'should', 'watch', 'this', 'movie', '-pron-', 'show', '-pron-', 'about', 'every', 'mistake', 'not', 'to', 'do', 'in', 'edit', 'a', 'movie', '-pron-', 'grandma', 'could', 'have', 'do', 'better', 'than', 'that', 'but', 'that', 'be', 'not', 'the', 'only', 'reason', 'why', 'this', 'movie', 'be', 'really', 'bad', '-pron-', 'be', 'actually', 'so', 'bad', 'that', '-pron-', 'be', 'not', 'able', 'to', 'write', 'a', 'sentence', 'without', 'exclamation', 'mark', 'if', 'the', 'first', 'episode', 'of', '<unk>', 'visiteurs', 'be', 'a', 'quite', 'good', 'familial', 'comedy', 'with', 'funny', 'joke', 'and', 'cult', 'dialogue', 'this', 'sequel', 'be', 'copy', 'badly', 'the', 'receipe', 'of', 'the', 'first', 'one', 'the', 'funny', 'part', 'could', 'be', 'count', 'on', 'one', 'hand', 'and', 'maybe', 'half', 'of', '-pron-', 'clavier', 'be', 'over', 'act', '-pron-', 'role', 'even', 'more', 'than', 'in', 'the', 'first', 'part', 'robin', 'be', 'try', 'to', 'act', 'like', 'lemercier', 'because', '-pron-', 'be', 'replace', '-pron-', 'but', 'that', 'be', '<unk>', 'lemercier', 'be', 'lemercier', 'robin', 'be', 'robin', 'even', 'if', 'muriel', 'robin', 'can', 'be', 'funny', 'by', '-pron-', 'on', 'stage', '-pron-', 'be', 'not', 'in', 'this', 'movie', 'because', '-pron-', 'be', 'not', 'act', 'as', '-pron-', 'use', 'to', 'act', '-pron-', 'know', 'that', '-pron-', 'should', 'be', 'hard', 'to', 'replace', 'somebody', 'who', 'be', 'good', 'in', 'a', 'role', 'lemercier', 'obtain', 'a', '<unk>', 'award', 'for', '-pron-', 'role', 'in', 'the', 'first', 'movie', 'but', '-pron-', 'make', 'a', 'big', 'mistake', 'instead', 'of', 'play', '-pron-', 'role', '-pron-', 'play', '<unk>', 'play', '-pron-', 'role', 'as', 'for', 'the', 'story', '-pron-', 'be', 'just', 'too', 'much', 'of', 'course', '-pron-', 'know', 'at', '-pron-', 'end', 'of', 'the', 'first', 'movie', 'that', 'there', 'would', 'be', 'a', 'sequel', 'but', 'poiré', 'and', 'clavier', 'should', '<unk>', 'try', 'to', 'write', 'a', 'more', 'simple', 'story', 'like', 'the', 'first', 'episode', 'the', 'gag', 'be', 'repetitive', 'childish', 'and', 'déjà', 'vu', 'no', 'really', 'there', 'be', 'no', 'more', 'than', '3', 'funny', 'part', 'in', 'this', 'the', 'only', 'good', 'thing', 'may', 'be', 'the', 'costume', 'and', 'some', 'special', 'effect', 'so', '-pron-', 'have', 'only', '2', 'reason', 'to', 'watch', '-pron-', '1', 'if', '-pron-', 'want', 'to', 'learn', 'how', 'to', 'edit', 'awfully', 'a', 'movie', '2', 'if', '-pron-', 'want', 'to', 'waste', '-pron-', 'time', 'or', 'if', '-pron-', 'really', 'need', 'a', '<unk>', 'moment', '2/10', '<pad>', '<pad>', '<pad>', '<pad>', '<pad>', '<pad>', '<pad>', '<pad>', '<pad>', '<pad>', '<pad>', '<pad>', '<pad>', '<pad>', '<pad>', '<pad>', '<pad>', '<pad>', '<pad>', '<pad>', '<pad>', '<pad>', '<pad>', '<pad>', '<pad>', '<pad>', '<pad>', '<pad>', '<pad>', '<pad>', '<pad>', '<pad>', '<pad>', '<pad>', '<pad>', '<pad>', '<pad>', '<pad>', '<pad>', '<pad>', '<pad>', '<pad>', '<pad>', '<pad>', '<pad>', '<pad>', '<pad>', '<pad>', '<pad>', '<pad>', '<pad>', '<pad>', '<pad>', '<pad>', '<pad>', '<pad>', '<pad>', '<pad>', '<pad>', '<pad>', '<pad>', '<pad>', '<pad>', '<pad>', '<pad>', '<pad>', '<pad>', '<pad>', '<pad>', '<pad>', '<pad>', '<pad>', '<pad>', '<pad>']\n"
     ]
    }
   ],
   "source": [
    "for i in range(len(good_sample)):\n",
    "    sample = []\n",
    "    for j in range(len(good_sample[i])):\n",
    "        sample.append(id2token[good_sample[i][j]])\n",
    "    print(sample)\n",
    "    "
   ]
  },
  {
   "cell_type": "code",
   "execution_count": 26,
   "metadata": {},
   "outputs": [
    {
     "name": "stdout",
     "output_type": "stream",
     "text": [
      "tensor(0)\n",
      "tensor(1)\n",
      "['the', 'tv', 'guide', 'call', 'this', 'movie', 'a', 'mystery', 'what', 'be', 'a', 'mystery', 'to', '-pron-', 'be', 'how', 'be', '-pron-', 'possible', 'that', 'a', 'culture', 'that', 'can', 'produce', 'such', 'intricate', 'and', 'complex', 'classical', 'music', 'and', 'brilliant', 'mathematician', 'can', 'not', 'produce', 'a', 'single', 'film', 'that', 'would', 'rise', 'above', 'the', 'despicable', 'trash', 'level', 'this', 'film', 'so', 'perfectly', 'represent', 'this', 'be', 'bollywood', 'at', '-pron-', 'good', 'bad', '-pron-', 'honestly', 'can', 'not', 'tell', 'the', 'difference', 'nauseatingly', 'sweet', 'kitschy', 'clichés', 'on', 'every', 'level', 'story', 'line', 'situation', 'dialog', 'music', 'and', 'choreography', 'to', 'put', '-pron-', 'bluntly', '-pron-', 'must', 'be', 'a', 'retard', 'to', 'enjoy', '-pron-', '-pron-', 'watch', '-pron-', 'to', 'satisfy', '-pron-', 'cultural', 'curiosity', 'but', 'there', 'be', 'time', 'when', '-pron-', 'have', 'to', 'walk', 'away', 'from', '-pron-', 'because', '-pron-', 'could', 'not', 'take', '-pron-', 'any', 'more', 'the', 'only', 'redeem', 'quality', 'of', 'the', 'movie', 'be', 'the', 'exquisite', 'beauty', 'of', 'the', 'lead', 'actress', 'br', '/><br', '<pad>', '<pad>', '<pad>', '<pad>', '<pad>', '<pad>', '<pad>', '<pad>', '<pad>', '<pad>', '<pad>', '<pad>', '<pad>', '<pad>', '<pad>', '<pad>', '<pad>', '<pad>', '<pad>', '<pad>', '<pad>', '<pad>', '<pad>', '<pad>', '<pad>', '<pad>', '<pad>', '<pad>', '<pad>', '<pad>', '<pad>', '<pad>', '<pad>', '<pad>', '<pad>', '<pad>', '<pad>', '<pad>', '<pad>', '<pad>', '<pad>', '<pad>', '<pad>', '<pad>', '<pad>', '<pad>', '<pad>', '<pad>', '<pad>', '<pad>', '<pad>', '<pad>', '<pad>', '<pad>', '<pad>', '<pad>', '<pad>', '<pad>', '<pad>', '<pad>', '<pad>', '<pad>', '<pad>', '<pad>', '<pad>', '<pad>', '<pad>', '<pad>', '<pad>', '<pad>', '<pad>', '<pad>', '<pad>', '<pad>', '<pad>', '<pad>', '<pad>', '<pad>', '<pad>', '<pad>', '<pad>', '<pad>', '<pad>', '<pad>', '<pad>', '<pad>', '<pad>', '<pad>', '<pad>', '<pad>', '<pad>', '<pad>', '<pad>', '<pad>', '<pad>', '<pad>', '<pad>', '<pad>', '<pad>', '<pad>', '<pad>', '<pad>', '<pad>', '<pad>', '<pad>', '<pad>', '<pad>', '<pad>', '<pad>', '<pad>', '<pad>', '<pad>', '<pad>', '<pad>', '<pad>', '<pad>', '<pad>', '<pad>', '<pad>', '<pad>', '<pad>', '<pad>', '<pad>', '<pad>', '<pad>', '<pad>', '<pad>', '<pad>', '<pad>', '<pad>', '<pad>', '<pad>', '<pad>', '<pad>', '<pad>', '<pad>', '<pad>', '<pad>', '<pad>', '<pad>', '<pad>', '<pad>', '<pad>', '<pad>', '<pad>', '<pad>', '<pad>', '<pad>', '<pad>', '<pad>', '<pad>', '<pad>', '<pad>', '<pad>', '<pad>', '<pad>', '<pad>', '<pad>', '<pad>', '<pad>', '<pad>', '<pad>', '<pad>', '<pad>', '<pad>', '<pad>', '<pad>', '<pad>', '<pad>', '<pad>', '<pad>', '<pad>', '<pad>', '<pad>', '<pad>', '<pad>', '<pad>', '<pad>', '<pad>', '<pad>', '<pad>', '<pad>', '<pad>', '<pad>', '<pad>', '<pad>', '<pad>', '<pad>', '<pad>', '<pad>', '<pad>', '<pad>', '<pad>', '<pad>', '<pad>', '<pad>', '<pad>', '<pad>', '<pad>', '<pad>', '<pad>', '<pad>', '<pad>', '<pad>', '<pad>', '<pad>', '<pad>', '<pad>', '<pad>', '<pad>', '<pad>', '<pad>', '<pad>', '<pad>', '<pad>', '<pad>', '<pad>', '<pad>', '<pad>', '<pad>', '<pad>', '<pad>', '<pad>', '<pad>', '<pad>', '<pad>', '<pad>', '<pad>', '<pad>', '<pad>', '<pad>', '<pad>', '<pad>', '<pad>', '<pad>', '<pad>', '<pad>', '<pad>', '<pad>', '<pad>', '<pad>', '<pad>', '<pad>', '<pad>', '<pad>', '<pad>', '<pad>', '<pad>', '<pad>', '<pad>', '<pad>', '<pad>', '<pad>', '<pad>', '<pad>', '<pad>', '<pad>', '<pad>', '<pad>', '<pad>', '<pad>', '<pad>']\n",
      "tensor(0)\n",
      "tensor(1)\n",
      "['-pron-', 'recently', 'view', 'manufacture', 'landscapes', 'at', 'the', 'seattle', 'international', 'film', 'festival', '-pron-', 'be', 'draw', 'to', 'the', 'movie', 'as', 'a', 'photographer', 'because', '-pron-', 'be', 'both', 'familiar', 'and', 'a', 'fan', 'of', 'burtynsky', \"'s\", 'work', 'while', '-pron-', 'believe', 'the', 'movie', 'do', 'a', 'good', 'job', 'get', '-pron-', 'be', 'message', 'across', '-pron-', 'could', 'not', 'help', 'but', 'feel', 'that', '-pron-', 'be', 'make', 'as', 'a', 'complete', 'afterthought', 'to', 'the', 'photograph', 'and', 'subsequent', 'popular', 'book', 'by', 'burtynsky', 'obviously', 'one', 'reason', 'for', 'this', 'be', 'the', 'extensive', 'use', 'of', 'still', 'photograph', 'feature', 'zoom', 'and', 'pan', 'across', '-pron-', 'while', 'this', 'be', 'a', 'good', 'effect', 'when', 'use', 'economically', '-pron-', 'feel', 'like', '75', 'of', 'the', 'movie', 'be', 'just', 'still', 'from', 'burtynsky', \"'s\", 'book', 'which', '-pron-', 'already', 'own', 'that', 'be', 'probably', 'an', 'exaggeration', 'but', 'that', 'be', 'how', '-pron-', 'feel', 'if', '-pron-', 'own', 'the', 'book', 'or', 'be', 'familiar', 'with', '-pron-', 'work', '-pron-', 'may', 'be', 'good', 'off', 'skip', 'this', 'one', '<pad>', '<pad>', '<pad>', '<pad>', '<pad>', '<pad>', '<pad>', '<pad>', '<pad>', '<pad>', '<pad>', '<pad>', '<pad>', '<pad>', '<pad>', '<pad>', '<pad>', '<pad>', '<pad>', '<pad>', '<pad>', '<pad>', '<pad>', '<pad>', '<pad>', '<pad>', '<pad>', '<pad>', '<pad>', '<pad>', '<pad>', '<pad>', '<pad>', '<pad>', '<pad>', '<pad>', '<pad>', '<pad>', '<pad>', '<pad>', '<pad>', '<pad>', '<pad>', '<pad>', '<pad>', '<pad>', '<pad>', '<pad>', '<pad>', '<pad>', '<pad>', '<pad>', '<pad>', '<pad>', '<pad>', '<pad>', '<pad>', '<pad>', '<pad>', '<pad>', '<pad>', '<pad>', '<pad>', '<pad>', '<pad>', '<pad>', '<pad>', '<pad>', '<pad>', '<pad>', '<pad>', '<pad>', '<pad>', '<pad>', '<pad>', '<pad>', '<pad>', '<pad>', '<pad>', '<pad>', '<pad>', '<pad>', '<pad>', '<pad>', '<pad>', '<pad>', '<pad>', '<pad>', '<pad>', '<pad>', '<pad>', '<pad>', '<pad>', '<pad>', '<pad>', '<pad>', '<pad>', '<pad>', '<pad>', '<pad>', '<pad>', '<pad>', '<pad>', '<pad>', '<pad>', '<pad>', '<pad>', '<pad>', '<pad>', '<pad>', '<pad>', '<pad>', '<pad>', '<pad>', '<pad>', '<pad>', '<pad>', '<pad>', '<pad>', '<pad>', '<pad>', '<pad>', '<pad>', '<pad>', '<pad>', '<pad>', '<pad>', '<pad>', '<pad>', '<pad>', '<pad>', '<pad>', '<pad>', '<pad>', '<pad>', '<pad>', '<pad>', '<pad>', '<pad>', '<pad>', '<pad>', '<pad>', '<pad>', '<pad>', '<pad>', '<pad>', '<pad>', '<pad>', '<pad>', '<pad>', '<pad>', '<pad>', '<pad>', '<pad>', '<pad>', '<pad>', '<pad>', '<pad>', '<pad>', '<pad>', '<pad>', '<pad>', '<pad>', '<pad>', '<pad>', '<pad>', '<pad>', '<pad>', '<pad>', '<pad>', '<pad>', '<pad>', '<pad>', '<pad>', '<pad>', '<pad>', '<pad>', '<pad>', '<pad>', '<pad>', '<pad>', '<pad>', '<pad>', '<pad>', '<pad>', '<pad>', '<pad>', '<pad>', '<pad>', '<pad>', '<pad>', '<pad>', '<pad>', '<pad>', '<pad>', '<pad>', '<pad>', '<pad>', '<pad>', '<pad>', '<pad>', '<pad>', '<pad>', '<pad>', '<pad>', '<pad>', '<pad>', '<pad>', '<pad>', '<pad>', '<pad>', '<pad>', '<pad>', '<pad>', '<pad>', '<pad>', '<pad>', '<pad>', '<pad>', '<pad>', '<pad>', '<pad>', '<pad>', '<pad>', '<pad>', '<pad>', '<pad>', '<pad>', '<pad>', '<pad>', '<pad>', '<pad>', '<pad>', '<pad>', '<pad>', '<pad>', '<pad>', '<pad>', '<pad>', '<pad>', '<pad>', '<pad>', '<pad>', '<pad>', '<pad>', '<pad>', '<pad>', '<pad>', '<pad>', '<pad>', '<pad>', '<pad>', '<pad>', '<pad>', '<pad>', '<pad>']\n",
      "tensor(0)\n",
      "tensor(1)\n",
      "['-pron-', 'remember', 'the', 'day', 'in', 'which', 'kim', 'basinger', 'be', 'nothing', 'more', 'than', 'a', 'pretty', 'face', 'who', 'adorn', 'movie', 'with', 'typical', 'character', 'of', 'dumb', 'blondie', 'romantic', 'interest', 'or', 'damsel', 'in', 'danger', 'but', 'everything', 'change', 'when', '-pron-', 'win', 'an', 'academy', 'award', 'as', 'good', 'supporting', 'actress', 'for', '-pron-', 'role', 'in', 'the', 'excellent', 'movie', 'l.a.', 'confidential', 'and', '-pron-', 'think', '-pron-', 'be', 'not', 'the', 'only', 'one', 'who', 'be', 'surprised', 'by', '-pron-', 'solid', 'performance', 'however', 'after', 'that', 'moment', '-pron-', 'career', 'do', 'not', 'follow', 'the', 'ideal', 'path', 'sure', 'the', 'prestige', '-pron-', 'win', 'thank', 'to', 'that', 'movie', 'make', '-pron-', 'to', 'participate', 'on', 'moderately', 'prestigious', 'movie', 'like', 'people', '-pron-', 'know', 'or', 'the', 'door', 'in', 'the', '<unk>', '-pron-', 'have', 'never', 'see', '-pron-', 'again', 'on', 'a', 'substantial', 'character', 'the', 'movie', 'while', '-pron-', 'be', 'out', 'do', 'nothing', 'to', 'put', '-pron-', 'on', 'that', 'situation', 'and', '-pron-', 'be', 'not', 'only', 'that', '-pron-', 'character', 'be', 'not', 'too', 'tasty', 'but', 'also', 'that', 'the', 'movie', 'be', 'really', 'crappy', 'the', 'screenplay', 'from', 'this', 'movie', 'could', 'not', 'be', 'more', 'hollow', 'and', 'basic', 'however', 'basinger', 'bring', 'some', 'conviction', 'to', '-pron-', 'character', 'and', 'that', 'make', 'this', 'poor', 'movie', 'to', 'win', 'a', 'few', 'point', 'this', 'movie', 'be', 'full', 'of', 'clichés', 'and', 'generic', 'villain', 'the', 'work', 'of', 'director', 'susan', 'montford', 'be', 'truly', 'disastrous', 'for', 'many', 'reason', 'but', 'mainly', 'because', 'the', 'movie', 'never', 'get', 'a', 'good', 'rhythm', 'and', 'tone', 'the', 'ending', 'from', 'this', 'movie', 'be', 'extremely', 'ridiculous', '-pron-', 'do', 'not', 'recommend', 'while', '-pron-', 'be', 'out', 'at', 'all', 'this', 'film', 'commit', 'the', 'capital', 'sin', 'of', 'be', 'boring', '<pad>', '<pad>', '<pad>', '<pad>', '<pad>', '<pad>', '<pad>', '<pad>', '<pad>', '<pad>', '<pad>', '<pad>', '<pad>', '<pad>', '<pad>', '<pad>', '<pad>', '<pad>', '<pad>', '<pad>', '<pad>', '<pad>', '<pad>', '<pad>', '<pad>', '<pad>', '<pad>', '<pad>', '<pad>', '<pad>', '<pad>', '<pad>', '<pad>', '<pad>', '<pad>', '<pad>', '<pad>', '<pad>', '<pad>', '<pad>', '<pad>', '<pad>', '<pad>', '<pad>', '<pad>', '<pad>', '<pad>', '<pad>', '<pad>', '<pad>', '<pad>', '<pad>', '<pad>', '<pad>', '<pad>', '<pad>', '<pad>', '<pad>', '<pad>', '<pad>', '<pad>', '<pad>', '<pad>', '<pad>', '<pad>', '<pad>', '<pad>', '<pad>', '<pad>', '<pad>', '<pad>', '<pad>', '<pad>', '<pad>', '<pad>', '<pad>', '<pad>', '<pad>', '<pad>', '<pad>', '<pad>', '<pad>', '<pad>', '<pad>', '<pad>', '<pad>', '<pad>', '<pad>', '<pad>', '<pad>', '<pad>', '<pad>', '<pad>', '<pad>', '<pad>', '<pad>', '<pad>', '<pad>', '<pad>', '<pad>', '<pad>', '<pad>', '<pad>', '<pad>', '<pad>', '<pad>', '<pad>', '<pad>', '<pad>', '<pad>', '<pad>', '<pad>', '<pad>', '<pad>', '<pad>', '<pad>', '<pad>', '<pad>', '<pad>', '<pad>', '<pad>', '<pad>', '<pad>', '<pad>', '<pad>', '<pad>', '<pad>', '<pad>', '<pad>', '<pad>', '<pad>', '<pad>', '<pad>', '<pad>', '<pad>', '<pad>', '<pad>', '<pad>', '<pad>', '<pad>', '<pad>', '<pad>', '<pad>', '<pad>', '<pad>', '<pad>', '<pad>', '<pad>', '<pad>', '<pad>', '<pad>', '<pad>', '<pad>', '<pad>', '<pad>', '<pad>', '<pad>', '<pad>']\n",
      "tensor(0)\n",
      "tensor(1)\n",
      "['-pron-', 'never', 'see', 'the', 'original', '1954', 'version', 'with', 'judy', 'garland', 'so', 'have', 'no', 'mean', 'of', 'comparison', 'also', '-pron-', 'be', 'be', 'some', 'year', 'but', '-pron-', 'find', 'this', 'tale', 'neither', 'grip', 'nor', '-pron-', 'romance', 'captivating', 'the', 'movie', 'tell', 'the', 'story', 'of', 'two', 'lover', 'whose', 'musical', 'career', 'be', 'head', 'in', 'opposite', 'direction', 'john', 'norman', 'howard', 'be', 'a', 'worn', 'out', 'disillusioned', 'rock', 'star', 'on', 'the', 'decline', 'embark', 'upon', 'a', 'romance', 'with', 'a', 'fresh', 'talented', 'new', 'singing', 'sensation', 'esther', 'hoffman', '-pron-', 'dramatic', 'success', 'only', 'serve', 'to', 'emphasize', '-pron-', 'decline.<br', '/><br', '/>the', 'lead', 'actor', 'kris', 'kristofferson', 'and', 'barbra', 'streisand', 'be', 'adequate', 'in', '-pron-', 'role', 'but', 'neither', '-pron-', 'chemistry', 'nor', 'the', 'plot', 'leave', 'much', 'of', 'a', 'mark', 'with', '-pron-', 'the', 'film', 'be', 'noteworthy', 'to', '-pron-', 'for', 'only', 'one', 'aspect', 'streisand', \"'s\", 'beautiful', 'rendition', 'of', 'the', 'oscar', 'win', 'song', 'evergreen', '-pron-', 'truly', 'have', 'a', 'powerful', 'and', 'magnificent', 'voice', '<pad>', '<pad>', '<pad>', '<pad>', '<pad>', '<pad>', '<pad>', '<pad>', '<pad>', '<pad>', '<pad>', '<pad>', '<pad>', '<pad>', '<pad>', '<pad>', '<pad>', '<pad>', '<pad>', '<pad>', '<pad>', '<pad>', '<pad>', '<pad>', '<pad>', '<pad>', '<pad>', '<pad>', '<pad>', '<pad>', '<pad>', '<pad>', '<pad>', '<pad>', '<pad>', '<pad>', '<pad>', '<pad>', '<pad>', '<pad>', '<pad>', '<pad>', '<pad>', '<pad>', '<pad>', '<pad>', '<pad>', '<pad>', '<pad>', '<pad>', '<pad>', '<pad>', '<pad>', '<pad>', '<pad>', '<pad>', '<pad>', '<pad>', '<pad>', '<pad>', '<pad>', '<pad>', '<pad>', '<pad>', '<pad>', '<pad>', '<pad>', '<pad>', '<pad>', '<pad>', '<pad>', '<pad>', '<pad>', '<pad>', '<pad>', '<pad>', '<pad>', '<pad>', '<pad>', '<pad>', '<pad>', '<pad>', '<pad>', '<pad>', '<pad>', '<pad>', '<pad>', '<pad>', '<pad>', '<pad>', '<pad>', '<pad>', '<pad>', '<pad>', '<pad>', '<pad>', '<pad>', '<pad>', '<pad>', '<pad>', '<pad>', '<pad>', '<pad>', '<pad>', '<pad>', '<pad>', '<pad>', '<pad>', '<pad>', '<pad>', '<pad>', '<pad>', '<pad>', '<pad>', '<pad>', '<pad>', '<pad>', '<pad>', '<pad>', '<pad>', '<pad>', '<pad>', '<pad>', '<pad>', '<pad>', '<pad>', '<pad>', '<pad>', '<pad>', '<pad>', '<pad>', '<pad>', '<pad>', '<pad>', '<pad>', '<pad>', '<pad>', '<pad>', '<pad>', '<pad>', '<pad>', '<pad>', '<pad>', '<pad>', '<pad>', '<pad>', '<pad>', '<pad>', '<pad>', '<pad>', '<pad>', '<pad>', '<pad>', '<pad>', '<pad>', '<pad>', '<pad>', '<pad>', '<pad>', '<pad>', '<pad>', '<pad>', '<pad>', '<pad>', '<pad>', '<pad>', '<pad>', '<pad>', '<pad>', '<pad>', '<pad>', '<pad>', '<pad>', '<pad>', '<pad>', '<pad>', '<pad>', '<pad>', '<pad>', '<pad>', '<pad>', '<pad>', '<pad>', '<pad>', '<pad>', '<pad>', '<pad>', '<pad>', '<pad>', '<pad>', '<pad>', '<pad>', '<pad>', '<pad>', '<pad>', '<pad>', '<pad>', '<pad>', '<pad>', '<pad>', '<pad>', '<pad>', '<pad>', '<pad>', '<pad>', '<pad>', '<pad>', '<pad>', '<pad>', '<pad>', '<pad>', '<pad>', '<pad>', '<pad>', '<pad>', '<pad>', '<pad>', '<pad>', '<pad>', '<pad>', '<pad>', '<pad>', '<pad>', '<pad>', '<pad>', '<pad>', '<pad>', '<pad>', '<pad>', '<pad>', '<pad>', '<pad>', '<pad>', '<pad>', '<pad>', '<pad>', '<pad>', '<pad>', '<pad>', '<pad>', '<pad>', '<pad>', '<pad>', '<pad>', '<pad>', '<pad>', '<pad>', '<pad>', '<pad>', '<pad>', '<pad>', '<pad>', '<pad>', '<pad>', '<pad>', '<pad>', '<pad>', '<pad>', '<pad>', '<pad>']\n"
     ]
    }
   ],
   "source": [
    "for i in range(len(bad_sample)):\n",
    "    sample = []\n",
    "    for j in range(len(bad_sample[i])):\n",
    "        current_id = int(bad_sample[i][j])\n",
    "        sample.append(id2token[current_id])\n",
    "    print(bad_label[i])\n",
    "    print(pre_label[i])\n",
    "    print(sample)"
   ]
  },
  {
   "cell_type": "code",
   "execution_count": null,
   "metadata": {},
   "outputs": [],
   "source": [
    "id2token(current_id)"
   ]
  },
  {
   "cell_type": "code",
   "execution_count": null,
   "metadata": {},
   "outputs": [],
   "source": []
  }
 ],
 "metadata": {
  "anaconda-cloud": {},
  "kernelspec": {
   "display_name": "Python 3",
   "language": "python",
   "name": "python3"
  },
  "language_info": {
   "codemirror_mode": {
    "name": "ipython",
    "version": 3
   },
   "file_extension": ".py",
   "mimetype": "text/x-python",
   "name": "python",
   "nbconvert_exporter": "python",
   "pygments_lexer": "ipython3",
   "version": "3.6.4"
  }
 },
 "nbformat": 4,
 "nbformat_minor": 1
}
