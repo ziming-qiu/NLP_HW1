{
 "cells": [
  {
   "cell_type": "code",
   "execution_count": 1,
   "metadata": {},
   "outputs": [],
   "source": [
    "import re\n",
    "import os\n",
    "import numpy as np\n",
    "import pandas as pd\n",
    "from tqdm import tqdm"
   ]
  },
  {
   "cell_type": "code",
   "execution_count": 2,
   "metadata": {},
   "outputs": [],
   "source": [
    "max_vocab_size = 70000\n",
    "MAX_SENTENCE_LENGTH = 1500\n",
    "emb_dim = 100\n",
    "n_gram_model = 2"
   ]
  },
  {
   "cell_type": "code",
   "execution_count": 3,
   "metadata": {},
   "outputs": [
    {
     "name": "stdout",
     "output_type": "stream",
     "text": [
      "./aclImdb/train/neg\n",
      "./aclImdb/train/pos\n",
      "./aclImdb/test/neg\n",
      "./aclImdb/test/pos\n",
      "Train dataset size is 20000\n",
      "Val dataset size is 5000\n",
      "Test dataset size is 25000\n"
     ]
    }
   ],
   "source": [
    "def load_train_test_imdb_data(data_dir):\n",
    "    \"\"\"Loads the IMDB train/test datasets from a folder path.\n",
    "    Input:\n",
    "    data_dir: path to the \"aclImdb\" folder.\n",
    "    \n",
    "    Returns:\n",
    "    train/test datasets as pandas dataframes.\n",
    "    \"\"\"\n",
    "    data = {}\n",
    "    for split in [\"train\", \"test\"]:\n",
    "        data[split] = []\n",
    "        for sentiment in [\"neg\", \"pos\"]:\n",
    "            score = 1 if sentiment == \"pos\" else 0\n",
    "\n",
    "            path = os.path.join(data_dir, split, sentiment)\n",
    "            print(path)\n",
    "            file_names = os.listdir(path)\n",
    "            for f_name in file_names:\n",
    "                with open(os.path.join(path, f_name), \"r\") as f:\n",
    "                    review = f.read()\n",
    "                    data[split].append([review, score])\n",
    "    np.random.seed(0)\n",
    "    np.random.shuffle(data[\"train\"])  \n",
    "    np.random.shuffle(data[\"test\"])\n",
    "    train_data = []\n",
    "    train_targets = []\n",
    "    test_data = []\n",
    "    test_targets = []\n",
    "    for i in range(len(data[\"train\"])):\n",
    "        train_data.append(data[\"train\"][i][0])\n",
    "        train_targets.append(data[\"train\"][i][1])\n",
    "    \n",
    "    for i in range(len(data[\"test\"])):\n",
    "        test_data.append(data[\"test\"][i][0])\n",
    "        test_targets.append(data[\"test\"][i][1])\n",
    "    return train_data, train_targets, test_data, test_targets\n",
    "\n",
    "all_train_data, all_train_targets, test_data, test_targets = load_train_test_imdb_data(data_dir=\"./aclImdb\")\n",
    "train_split = 20000\n",
    "train_data = all_train_data[:train_split]\n",
    "train_targets = all_train_targets[:train_split]\n",
    "\n",
    "val_data = all_train_data[train_split:]\n",
    "val_targets = all_train_targets[train_split:]\n",
    "\n",
    "print (\"Train dataset size is {}\".format(len(train_data)))\n",
    "print (\"Val dataset size is {}\".format(len(val_data)))\n",
    "print (\"Test dataset size is {}\".format(len(test_data)))"
   ]
  },
  {
   "cell_type": "code",
   "execution_count": 4,
   "metadata": {},
   "outputs": [
    {
     "name": "stdout",
     "output_type": "stream",
     "text": [
      "['apple', 'is', 'looking', 'at', 'buying', 'u.k.', 'startup', 'for', '1', 'billion']\n"
     ]
    }
   ],
   "source": [
    "# Let's write the tokenization function \n",
    "import spacy\n",
    "import string\n",
    "\n",
    "# Load English tokenizer, tagger, parser, NER and word vectors\n",
    "tokenizer = spacy.load('en_core_web_sm')\n",
    "punctuations = string.punctuation\n",
    "\n",
    "# lowercase and remove punctuation\n",
    "def tokenize(sent):\n",
    "  tokens = tokenizer(sent)\n",
    "  return [token.text.lower() for token in tokens if (token.text not in punctuations)]\n",
    "\n",
    "# Example\n",
    "tokens = tokenize(u'Apple is looking at buying U.K. startup for $1 billion')\n",
    "print (tokens)"
   ]
  },
  {
   "cell_type": "code",
   "execution_count": 5,
   "metadata": {},
   "outputs": [],
   "source": [
    "# This is the code cell that tokenizes train/val/test datasets\n",
    "# However it takes about 15-20 minutes to run it\n",
    "# For convinience we have provided the preprocessed datasets\n",
    "# Please see the next code cell\n",
    "import pickle as pkl\n",
    "\n",
    "def tokenize_dataset(dataset, ngram=1):\n",
    "    token_dataset = []\n",
    "    # we are keeping track of all tokens in dataset\n",
    "    # in order to create vocabulary later\n",
    "    all_tokens = []\n",
    "    if ngram == 1:\n",
    "        for sample in tqdm(dataset):\n",
    "            tokens = tokenize(sample)\n",
    "            token_dataset.append(tokens)\n",
    "            all_tokens += tokens\n",
    "    elif ngram == 2:\n",
    "        for sample in tqdm(dataset):\n",
    "            tokens = tokenize(sample)\n",
    "            bigram_tokens = []\n",
    "            for i in range(len(tokens)-1):\n",
    "                bigram_tokens.append(tokens[i] + ' '+ tokens[i+1])\n",
    "            token_dataset.append(bigram_tokens)\n",
    "            all_tokens += bigram_tokens\n",
    "    elif ngram == 3:\n",
    "        for sample in tqdm(dataset):\n",
    "            tokens = tokenize(sample)\n",
    "            trigram_tokens = []\n",
    "            for i in range(len(tokens)-2):\n",
    "                trigram_tokens.append(tokens[i] + ' '+ tokens[i+1] + ' ' + tokens[i+2])\n",
    "            token_dataset.append(trigram_tokens)\n",
    "            all_tokens += trigram_tokens\n",
    "    elif ngram == 4:\n",
    "        for sample in tqdm(dataset):\n",
    "            tokens = tokenize(sample)\n",
    "            fourgram_tokens = []\n",
    "            for i in range(len(tokens)-3):\n",
    "                fourgram_tokens.append(tokens[i] + ' '+ tokens[i+1] + ' ' + tokens[i+2] + ' ' + tokens[i+3])\n",
    "            token_dataset.append(fourgram_tokens)\n",
    "            all_tokens += fourgram_tokens\n",
    "    return token_dataset, all_tokens\n",
    "\n",
    "def n_gram_transform(tokens_data, ngram=1):\n",
    "    token_dataset = []\n",
    "    # we are keeping track of all tokens in dataset\n",
    "    # in order to create vocabulary later\n",
    "    all_tokens = []\n",
    "    print(\"{}-gram model\".format(ngram))\n",
    "    if ngram == 1:\n",
    "        for i in tqdm(range(len(tokens_data))):\n",
    "            tokens = tokens_data[i]\n",
    "            token_dataset.append(tokens)\n",
    "            all_tokens += tokens\n",
    "    elif ngram == 2:\n",
    "        for i in tqdm(range(len(tokens_data))):\n",
    "            tokens = tokens_data[i]\n",
    "            bigram_tokens = []\n",
    "            for i in range(len(tokens)-1):\n",
    "                bigram_tokens.append(tokens[i] + ' '+ tokens[i+1])\n",
    "            token_dataset.append(bigram_tokens)\n",
    "            all_tokens += bigram_tokens\n",
    "    elif ngram == 3:\n",
    "        for i in tqdm(range(len(tokens_data))):\n",
    "            tokens = tokens_data[i]\n",
    "            trigram_tokens = []\n",
    "            for i in range(len(tokens)-2):\n",
    "                trigram_tokens.append(tokens[i] + ' '+ tokens[i+1] + ' ' + tokens[i+2])\n",
    "            token_dataset.append(trigram_tokens)\n",
    "            all_tokens += trigram_tokens\n",
    "    elif ngram == 4:\n",
    "        for i in tqdm(range(len(tokens_data))):\n",
    "            tokens = tokens_data[i]\n",
    "            fourgram_tokens = []\n",
    "            for i in range(len(tokens)-3):\n",
    "                fourgram_tokens.append(tokens[i] + ' '+ tokens[i+1] + ' ' + tokens[i+2] + ' ' + tokens[i+3])\n",
    "            token_dataset.append(fourgram_tokens)\n",
    "            all_tokens += fourgram_tokens\n",
    "    return token_dataset, all_tokens"
   ]
  },
  {
   "cell_type": "code",
   "execution_count": null,
   "metadata": {},
   "outputs": [],
   "source": [
    "# val set tokens\n",
    "print (\"Tokenizing val data\")\n",
    "val_data_tokens, _ = tokenize_dataset(val_data, n_gram_model)\n",
    "pkl.dump(val_data_tokens, open(\"val_data_tokens_new_2.p\", \"wb\"))"
   ]
  },
  {
   "cell_type": "code",
   "execution_count": null,
   "metadata": {},
   "outputs": [],
   "source": [
    "# test set tokens\n",
    "print (\"Tokenizing test data\")\n",
    "test_data_tokens, _ = tokenize_dataset(test_data, n_gram_model)\n",
    "pkl.dump(test_data_tokens, open(\"test_data_tokens_new_2.p\", \"wb\"))"
   ]
  },
  {
   "cell_type": "code",
   "execution_count": null,
   "metadata": {},
   "outputs": [],
   "source": [
    "# train set tokens\n",
    "print (\"Tokenizing train data\")\n",
    "train_data_tokens, all_train_tokens = tokenize_dataset(train_data, n_gram_model)\n",
    "pkl.dump(train_data_tokens, open(\"train_data_tokens_new_2.p\", \"wb\"))\n",
    "pkl.dump(all_train_tokens, open(\"all_train_tokens_new_2.p\", \"wb\"))"
   ]
  },
  {
   "cell_type": "code",
   "execution_count": 6,
   "metadata": {},
   "outputs": [
    {
     "name": "stdout",
     "output_type": "stream",
     "text": [
      "Train dataset size is 20000\n",
      "Val dataset size is 5000\n",
      "Test dataset size is 25000\n",
      "Total number of tokens in train dataset is 4811836\n"
     ]
    }
   ],
   "source": [
    "# First, download datasets from here\n",
    "# Use your NYU account\n",
    "#https://drive.google.com/open?id=1eR2LFI5MGliHlaL1S2nsX4ouIO1k_ip2\n",
    "#https://drive.google.com/open?id=133QCWbiz_Xc7Qm4r6t-fJP1K669xjNlM\n",
    "#https://drive.google.com/open?id=1SuUIUpJ1iznU707ktkpnEGSwt_XIqOYp\n",
    "#https://drive.google.com/open?id=1UQsrZ2LVfcxdxxa47344fMs_qvya72KR\n",
    "\n",
    "\n",
    "# Then, load preprocessed train, val and test datasets\n",
    "train_data_tokens = pkl.load(open(\"train_data_tokens_new.p\", \"rb\"))\n",
    "all_train_tokens = pkl.load(open(\"all_train_tokens_new.p\", \"rb\"))\n",
    "\n",
    "val_data_tokens = pkl.load(open(\"val_data_tokens_new.p\", \"rb\"))\n",
    "test_data_tokens = pkl.load(open(\"test_data_tokens_new.p\", \"rb\"))\n",
    "\n",
    "# double checking\n",
    "print (\"Train dataset size is {}\".format(len(train_data_tokens)))\n",
    "print (\"Val dataset size is {}\".format(len(val_data_tokens)))\n",
    "print (\"Test dataset size is {}\".format(len(test_data_tokens)))\n",
    "\n",
    "print (\"Total number of tokens in train dataset is {}\".format(len(all_train_tokens)))"
   ]
  },
  {
   "cell_type": "code",
   "execution_count": 7,
   "metadata": {},
   "outputs": [
    {
     "name": "stderr",
     "output_type": "stream",
     "text": [
      " 25%|██▌       | 1268/5000 [00:00<00:00, 12679.98it/s]"
     ]
    },
    {
     "name": "stdout",
     "output_type": "stream",
     "text": [
      "Tokenizing val data\n",
      "2-gram model\n"
     ]
    },
    {
     "name": "stderr",
     "output_type": "stream",
     "text": [
      "100%|██████████| 5000/5000 [00:00<00:00, 13248.82it/s]\n",
      "  6%|▌         | 1460/25000 [00:00<00:01, 14594.76it/s]"
     ]
    },
    {
     "name": "stdout",
     "output_type": "stream",
     "text": [
      "Tokenizing test data\n",
      "2-gram model\n"
     ]
    },
    {
     "name": "stderr",
     "output_type": "stream",
     "text": [
      "100%|██████████| 25000/25000 [00:01<00:00, 12677.83it/s]\n",
      " 14%|█▎        | 2738/20000 [00:00<00:01, 13831.34it/s]"
     ]
    },
    {
     "name": "stdout",
     "output_type": "stream",
     "text": [
      "Tokenizing train data\n",
      "2-gram model\n"
     ]
    },
    {
     "name": "stderr",
     "output_type": "stream",
     "text": [
      "100%|██████████| 20000/20000 [00:01<00:00, 12501.07it/s]\n"
     ]
    }
   ],
   "source": [
    "# val set tokens\n",
    "print (\"Tokenizing val data\")\n",
    "val_data_tokens, _ = n_gram_transform(val_data_tokens, n_gram_model)\n",
    "#pkl.dump(val_data_tokens, open(\"val_data_tokens_new_2.p\", \"wb\"))\n",
    "\n",
    "# test set tokens\n",
    "print (\"Tokenizing test data\")\n",
    "test_data_tokens, _ = n_gram_transform(test_data_tokens, n_gram_model)\n",
    "#pkl.dump(test_data_tokens, open(\"test_data_tokens_new_2.p\", \"wb\"))\n",
    "\n",
    "# train set tokens\n",
    "print (\"Tokenizing train data\")\n",
    "train_data_tokens, all_train_tokens = n_gram_transform(train_data_tokens, n_gram_model)\n",
    "#pkl.dump(train_data_tokens, open(\"train_data_tokens_new_2.p\", \"wb\"))\n",
    "#pkl.dump(all_train_tokens, open(\"all_train_tokens_new_2.p\", \"wb\"))"
   ]
  },
  {
   "cell_type": "code",
   "execution_count": 8,
   "metadata": {},
   "outputs": [
    {
     "name": "stdout",
     "output_type": "stream",
     "text": [
      "1223513\n",
      "4791836\n"
     ]
    }
   ],
   "source": [
    "print(len(set(all_train_tokens)))\n",
    "print(len(all_train_tokens))"
   ]
  },
  {
   "cell_type": "markdown",
   "metadata": {},
   "source": [
    "Now, we are going to create the vocabulary of most common 10,000 tokens in the training set."
   ]
  },
  {
   "cell_type": "code",
   "execution_count": 9,
   "metadata": {},
   "outputs": [],
   "source": [
    "from collections import Counter\n",
    "# save index 0 for unk and 1 for pad\n",
    "PAD_IDX = 0\n",
    "UNK_IDX = 1\n",
    "\n",
    "def build_vocab(all_tokens):\n",
    "    # Returns:\n",
    "    # id2token: list of tokens, where id2token[i] returns token that corresponds to token i\n",
    "    # token2id: dictionary where keys represent tokens and corresponding values represent indices\n",
    "    token_counter = Counter(all_tokens)\n",
    "    vocab, count = zip(*token_counter.most_common(max_vocab_size))\n",
    "    id2token = list(vocab)\n",
    "    token2id = dict(zip(vocab, range(2,2+len(vocab)))) \n",
    "    id2token = ['<pad>', '<unk>'] + id2token\n",
    "    token2id['<pad>'] = PAD_IDX \n",
    "    token2id['<unk>'] = UNK_IDX\n",
    "    return token2id, id2token\n",
    "\n",
    "token2id, id2token = build_vocab(all_train_tokens)"
   ]
  },
  {
   "cell_type": "code",
   "execution_count": 10,
   "metadata": {},
   "outputs": [
    {
     "name": "stdout",
     "output_type": "stream",
     "text": [
      "Token id 12032 ; token movie sucks\n",
      "Token movie sucks; token id 12032\n"
     ]
    }
   ],
   "source": [
    "# Lets check the dictionary by loading random token from it\n",
    "random_token_id = np.random.randint(0, len(id2token)-1)\n",
    "random_token = id2token[random_token_id]\n",
    "\n",
    "print (\"Token id {} ; token {}\".format(random_token_id, id2token[random_token_id]))\n",
    "print (\"Token {}; token id {}\".format(random_token, token2id[random_token]))"
   ]
  },
  {
   "cell_type": "code",
   "execution_count": 11,
   "metadata": {},
   "outputs": [
    {
     "name": "stdout",
     "output_type": "stream",
     "text": [
      "Train dataset size is 20000\n",
      "Val dataset size is 5000\n",
      "Test dataset size is 25000\n"
     ]
    }
   ],
   "source": [
    "# convert token to id in the dataset\n",
    "def token2index_dataset(tokens_data):\n",
    "    indices_data = []\n",
    "    for tokens in tokens_data:\n",
    "        index_list = [token2id[token] if token in token2id else UNK_IDX for token in tokens]\n",
    "        indices_data.append(index_list)\n",
    "    return indices_data\n",
    "\n",
    "train_data_indices = token2index_dataset(train_data_tokens)\n",
    "val_data_indices = token2index_dataset(val_data_tokens)\n",
    "test_data_indices = token2index_dataset(test_data_tokens)\n",
    "\n",
    "# double checking\n",
    "print (\"Train dataset size is {}\".format(len(train_data_indices)))\n",
    "print (\"Val dataset size is {}\".format(len(val_data_indices)))\n",
    "print (\"Test dataset size is {}\".format(len(test_data_indices)))"
   ]
  },
  {
   "cell_type": "markdown",
   "metadata": {},
   "source": [
    "Now we are going to create PyTorch DataLoader "
   ]
  },
  {
   "cell_type": "code",
   "execution_count": 12,
   "metadata": {},
   "outputs": [],
   "source": [
    "import numpy as np\n",
    "import torch\n",
    "from torch.utils.data import Dataset\n",
    "\n",
    "class NewsGroupDataset(Dataset):\n",
    "    \"\"\"\n",
    "    Class that represents a train/validation/test dataset that's readable for PyTorch\n",
    "    Note that this class inherits torch.utils.data.Dataset\n",
    "    \"\"\"\n",
    "    \n",
    "    def __init__(self, data_list, target_list):\n",
    "        \"\"\"\n",
    "        @param data_list: list of newsgroup tokens \n",
    "        @param target_list: list of newsgroup targets \n",
    "\n",
    "        \"\"\"\n",
    "        self.data_list = data_list\n",
    "        self.target_list = target_list\n",
    "        assert (len(self.data_list) == len(self.target_list))\n",
    "\n",
    "    def __len__(self):\n",
    "        return len(self.data_list)\n",
    "        \n",
    "    def __getitem__(self, key):\n",
    "        \"\"\"\n",
    "        Triggered when you call dataset[i]\n",
    "        \"\"\"\n",
    "        \n",
    "        token_idx = self.data_list[key][:MAX_SENTENCE_LENGTH]\n",
    "        label = self.target_list[key]\n",
    "        return [token_idx, len(token_idx), label]\n",
    "\n",
    "def newsgroup_collate_func(batch):\n",
    "    \"\"\"\n",
    "    Customized function for DataLoader that dynamically pads the batch so that all \n",
    "    data have the same length\n",
    "    \"\"\"\n",
    "    data_list = []\n",
    "    label_list = []\n",
    "    length_list = []\n",
    "    #print(\"collate batch: \", batch[0][0])\n",
    "    #batch[0][0] = batch[0][0][:MAX_SENTENCE_LENGTH]\n",
    "    for datum in batch:\n",
    "        label_list.append(datum[2])\n",
    "        length_list.append(datum[1])\n",
    "    # padding\n",
    "    for datum in batch:\n",
    "        padded_vec = np.pad(np.array(datum[0]), \n",
    "                                pad_width=((0,MAX_SENTENCE_LENGTH-datum[1])), \n",
    "                                mode=\"constant\", constant_values=0)\n",
    "        data_list.append(padded_vec)\n",
    "    return [torch.from_numpy(np.array(data_list)), torch.LongTensor(length_list), torch.LongTensor(label_list)]\n",
    "\n",
    "# create pytorch dataloader\n",
    "#train_loader = NewsGroupDataset(train_data_indices, train_targets)\n",
    "#val_loader = NewsGroupDataset(val_data_indices, val_targets)\n",
    "#test_loader = NewsGroupDataset(test_data_indices, test_targets)\n",
    "\n",
    "BATCH_SIZE = 32\n",
    "train_dataset = NewsGroupDataset(train_data_indices, train_targets)\n",
    "train_loader = torch.utils.data.DataLoader(dataset=train_dataset, \n",
    "                                           batch_size=BATCH_SIZE,\n",
    "                                           collate_fn=newsgroup_collate_func,\n",
    "                                           shuffle=True)\n",
    "\n",
    "val_dataset = NewsGroupDataset(val_data_indices, val_targets)\n",
    "val_loader = torch.utils.data.DataLoader(dataset=val_dataset, \n",
    "                                           batch_size=BATCH_SIZE,\n",
    "                                           collate_fn=newsgroup_collate_func,\n",
    "                                           shuffle=True)\n",
    "\n",
    "test_dataset = NewsGroupDataset(test_data_indices, test_targets)\n",
    "test_loader = torch.utils.data.DataLoader(dataset=test_dataset, \n",
    "                                           batch_size=BATCH_SIZE,\n",
    "                                           collate_fn=newsgroup_collate_func,\n",
    "                                           shuffle=False)\n",
    "\n"
   ]
  },
  {
   "cell_type": "code",
   "execution_count": 13,
   "metadata": {},
   "outputs": [
    {
     "name": "stdout",
     "output_type": "stream",
     "text": [
      "tensor([[    1, 13194,  9799,  ...,     0,     0,     0],\n",
      "        [    1,     1,     1,  ...,     0,     0,     0],\n",
      "        [18328,     1,  2511,  ...,     0,     0,     0],\n",
      "        ...,\n",
      "        [  571, 54691,  7569,  ...,     0,     0,     0],\n",
      "        [  326,  3033,    51,  ...,     0,     0,     0],\n",
      "        [  647,  7465,     1,  ...,     0,     0,     0]])\n",
      "tensor([0, 1, 0, 0, 1, 1, 1, 1, 0, 0, 0, 1, 1, 0, 1, 0, 1, 0, 1, 1, 1, 1, 1, 0,\n",
      "        0, 1, 0, 1, 0, 0, 0, 0])\n"
     ]
    }
   ],
   "source": [
    "for i, (data, lengths, labels) in enumerate(train_loader):\n",
    "    print (data)\n",
    "    print (labels)\n",
    "    break"
   ]
  },
  {
   "cell_type": "markdown",
   "metadata": {},
   "source": [
    "Here we will define Bag-of-Words model in PyTorch"
   ]
  },
  {
   "cell_type": "code",
   "execution_count": 14,
   "metadata": {},
   "outputs": [],
   "source": [
    "# First import torch related libraries\n",
    "import torch\n",
    "import torch.nn as nn\n",
    "import torch.nn.functional as F\n",
    "\n",
    "class BagOfWords(nn.Module):\n",
    "    \"\"\"\n",
    "    BagOfWords classification model\n",
    "    \"\"\"\n",
    "    def __init__(self, vocab_size, emb_dim):\n",
    "        \"\"\"\n",
    "        @param vocab_size: size of the vocabulary. \n",
    "        @param emb_dim: size of the word embedding\n",
    "        \"\"\"\n",
    "        super(BagOfWords, self).__init__()\n",
    "        # pay attention to padding_idx \n",
    "        self.embed = nn.Embedding(vocab_size, emb_dim, padding_idx=0)\n",
    "        self.linear = nn.Linear(emb_dim,2)\n",
    "    \n",
    "    def forward(self, data, length):\n",
    "        \"\"\"\n",
    "        \n",
    "        @param data: matrix of size (batch_size, max_sentence_length). Each row in data represents a \n",
    "            review that is represented using n-gram index. Note that they are padded to have same length.\n",
    "        @param length: an int tensor of size (batch_size), which represents the non-trivial (excludes padding)\n",
    "            length of each sentences in the data.\n",
    "        \"\"\"\n",
    "        out = self.embed(data)\n",
    "        out = torch.sum(out, dim=1)\n",
    "        out /= length.view(length.size()[0],1).expand_as(out).float()\n",
    "     \n",
    "        # return logits\n",
    "        out = self.linear(out.float())\n",
    "        return out\n",
    "    \n",
    "model = BagOfWords(len(id2token), emb_dim)"
   ]
  },
  {
   "cell_type": "code",
   "execution_count": 15,
   "metadata": {},
   "outputs": [
    {
     "name": "stdout",
     "output_type": "stream",
     "text": [
      "Epoch: [1/10], Step: [101/625], Validation Acc: 76.58, validation_num: 5000\n",
      "Epoch: [1/10], Step: [201/625], Validation Acc: 85.26, validation_num: 5000\n",
      "Epoch: [1/10], Step: [301/625], Validation Acc: 86.88, validation_num: 5000\n",
      "Epoch: [1/10], Step: [401/625], Validation Acc: 87.4, validation_num: 5000\n",
      "Epoch: [1/10], Step: [501/625], Validation Acc: 88.76, validation_num: 5000\n",
      "Epoch: [1/10], Step: [601/625], Validation Acc: 88.52, validation_num: 5000\n",
      "Epoch: [2/10], Step: [101/625], Validation Acc: 88.18, validation_num: 5000\n",
      "Epoch: [2/10], Step: [201/625], Validation Acc: 88.44, validation_num: 5000\n",
      "Epoch: [2/10], Step: [301/625], Validation Acc: 88.44, validation_num: 5000\n",
      "Epoch: [2/10], Step: [401/625], Validation Acc: 86.54, validation_num: 5000\n",
      "Epoch: [2/10], Step: [501/625], Validation Acc: 87.96, validation_num: 5000\n",
      "Epoch: [2/10], Step: [601/625], Validation Acc: 88.22, validation_num: 5000\n",
      "Epoch: [3/10], Step: [101/625], Validation Acc: 88.5, validation_num: 5000\n",
      "Epoch: [3/10], Step: [201/625], Validation Acc: 88.14, validation_num: 5000\n",
      "Epoch: [3/10], Step: [301/625], Validation Acc: 88.24, validation_num: 5000\n",
      "Epoch: [3/10], Step: [401/625], Validation Acc: 88.42, validation_num: 5000\n",
      "Epoch: [3/10], Step: [501/625], Validation Acc: 88.36, validation_num: 5000\n",
      "Epoch: [3/10], Step: [601/625], Validation Acc: 88.24, validation_num: 5000\n",
      "Epoch: [4/10], Step: [101/625], Validation Acc: 88.38, validation_num: 5000\n",
      "Epoch: [4/10], Step: [201/625], Validation Acc: 88.28, validation_num: 5000\n",
      "Epoch: [4/10], Step: [301/625], Validation Acc: 88.3, validation_num: 5000\n",
      "Epoch: [4/10], Step: [401/625], Validation Acc: 88.32, validation_num: 5000\n",
      "Epoch: [4/10], Step: [501/625], Validation Acc: 88.52, validation_num: 5000\n",
      "Epoch: [4/10], Step: [601/625], Validation Acc: 88.46, validation_num: 5000\n",
      "Epoch: [5/10], Step: [101/625], Validation Acc: 88.48, validation_num: 5000\n",
      "Epoch: [5/10], Step: [201/625], Validation Acc: 88.4, validation_num: 5000\n",
      "Epoch: [5/10], Step: [301/625], Validation Acc: 88.38, validation_num: 5000\n",
      "Epoch: [5/10], Step: [401/625], Validation Acc: 88.38, validation_num: 5000\n",
      "Epoch: [5/10], Step: [501/625], Validation Acc: 88.42, validation_num: 5000\n",
      "Epoch: [5/10], Step: [601/625], Validation Acc: 88.3, validation_num: 5000\n",
      "Epoch: [6/10], Step: [101/625], Validation Acc: 88.5, validation_num: 5000\n",
      "Epoch: [6/10], Step: [201/625], Validation Acc: 88.46, validation_num: 5000\n",
      "Epoch: [6/10], Step: [301/625], Validation Acc: 88.5, validation_num: 5000\n",
      "Epoch: [6/10], Step: [401/625], Validation Acc: 88.34, validation_num: 5000\n",
      "Epoch: [6/10], Step: [501/625], Validation Acc: 88.46, validation_num: 5000\n",
      "Epoch: [6/10], Step: [601/625], Validation Acc: 88.46, validation_num: 5000\n",
      "Epoch: [7/10], Step: [101/625], Validation Acc: 88.48, validation_num: 5000\n",
      "Epoch: [7/10], Step: [201/625], Validation Acc: 88.44, validation_num: 5000\n",
      "Epoch: [7/10], Step: [301/625], Validation Acc: 88.5, validation_num: 5000\n",
      "Epoch: [7/10], Step: [401/625], Validation Acc: 88.44, validation_num: 5000\n",
      "Epoch: [7/10], Step: [501/625], Validation Acc: 88.48, validation_num: 5000\n",
      "Epoch: [7/10], Step: [601/625], Validation Acc: 88.56, validation_num: 5000\n",
      "Epoch: [8/10], Step: [101/625], Validation Acc: 88.48, validation_num: 5000\n",
      "Epoch: [8/10], Step: [201/625], Validation Acc: 88.54, validation_num: 5000\n",
      "Epoch: [8/10], Step: [301/625], Validation Acc: 88.46, validation_num: 5000\n",
      "Epoch: [8/10], Step: [401/625], Validation Acc: 88.5, validation_num: 5000\n",
      "Epoch: [8/10], Step: [501/625], Validation Acc: 88.46, validation_num: 5000\n",
      "Epoch: [8/10], Step: [601/625], Validation Acc: 88.54, validation_num: 5000\n",
      "Epoch: [9/10], Step: [101/625], Validation Acc: 88.56, validation_num: 5000\n",
      "Epoch: [9/10], Step: [201/625], Validation Acc: 88.52, validation_num: 5000\n",
      "Epoch: [9/10], Step: [301/625], Validation Acc: 88.56, validation_num: 5000\n",
      "Epoch: [9/10], Step: [401/625], Validation Acc: 88.58, validation_num: 5000\n",
      "Epoch: [9/10], Step: [501/625], Validation Acc: 88.6, validation_num: 5000\n",
      "Epoch: [9/10], Step: [601/625], Validation Acc: 88.6, validation_num: 5000\n",
      "Epoch: [10/10], Step: [101/625], Validation Acc: 88.52, validation_num: 5000\n",
      "Epoch: [10/10], Step: [201/625], Validation Acc: 88.46, validation_num: 5000\n",
      "Epoch: [10/10], Step: [301/625], Validation Acc: 88.48, validation_num: 5000\n",
      "Epoch: [10/10], Step: [401/625], Validation Acc: 88.54, validation_num: 5000\n",
      "Epoch: [10/10], Step: [501/625], Validation Acc: 88.56, validation_num: 5000\n",
      "Epoch: [10/10], Step: [601/625], Validation Acc: 88.5, validation_num: 5000\n"
     ]
    }
   ],
   "source": [
    "learning_rate = 0.01\n",
    "num_epochs = 10 # number epoch to train\n",
    "\n",
    "# Criterion and Optimizer\n",
    "criterion = torch.nn.CrossEntropyLoss()  \n",
    "optimizer = torch.optim.Adam(model.parameters(), lr=learning_rate)\n",
    "\n",
    "# Function for testing the model\n",
    "def test_model(loader, model):\n",
    "    \"\"\"\n",
    "    Help function that tests the model's performance on a dataset\n",
    "    @param: loader - data loader for the dataset to test against\n",
    "    \"\"\"\n",
    "    correct = 0\n",
    "    total = 0\n",
    "    model.eval()\n",
    "    for data, lengths, labels in loader:\n",
    "        data_batch, length_batch, label_batch = data, lengths, labels\n",
    "        outputs = F.softmax(model(data_batch, length_batch), dim=1)\n",
    "        predicted = outputs.max(1, keepdim=True)[1]\n",
    "        \n",
    "        total += labels.size(0)\n",
    "        correct += predicted.eq(labels.view_as(predicted)).sum().item()\n",
    "    return (100 * correct / total, total)\n",
    "\n",
    "for epoch in range(num_epochs):\n",
    "    for i, (data, lengths, labels) in enumerate(train_loader):\n",
    "        model.train()\n",
    "        data_batch, length_batch, label_batch = data, lengths, labels\n",
    "        optimizer.zero_grad()\n",
    "        outputs = model(data_batch, length_batch)\n",
    "        loss = criterion(outputs, label_batch)\n",
    "        loss.backward()\n",
    "        optimizer.step()\n",
    "        # validate every 100 iterations\n",
    "        if i > 0 and i % 100 == 0:\n",
    "            # validate\n",
    "            val_acc, val_num = test_model(val_loader, model)\n",
    "            print('Epoch: [{}/{}], Step: [{}/{}], Validation Acc: {}, validation_num: {}'.format( \n",
    "                       epoch+1, num_epochs, i+1, len(train_loader), val_acc, val_num))\n"
   ]
  },
  {
   "cell_type": "code",
   "execution_count": 21,
   "metadata": {},
   "outputs": [
    {
     "data": {
      "text/plain": [
       "1"
      ]
     },
     "execution_count": 21,
     "metadata": {},
     "output_type": "execute_result"
    }
   ],
   "source": [
    "12//10"
   ]
  },
  {
   "cell_type": "code",
   "execution_count": 16,
   "metadata": {},
   "outputs": [
    {
     "name": "stdout",
     "output_type": "stream",
     "text": [
      "After training for 10 epochs\n",
      "Val Acc 88.48\n",
      "Test Acc 87.444\n",
      "Train Acc 100.0\n"
     ]
    }
   ],
   "source": [
    "print (\"After training for {} epochs\".format(num_epochs))\n",
    "print (\"Val Acc {}\".format(test_model(val_loader, model)[0]))\n",
    "print (\"Test Acc {}\".format(test_model(test_loader, model)[0]))\n",
    "print (\"Train Acc {}\".format(test_model(train_loader, model)[0]))"
   ]
  },
  {
   "cell_type": "markdown",
   "metadata": {},
   "source": [
    "## Exercise 2:\n",
    "### Try downloading IMDB Large Movie Review Dataset that is used for Assignment 1 http://ai.stanford.edu/~amaas/data/sentiment/\n",
    "### and tokenize it"
   ]
  },
  {
   "cell_type": "markdown",
   "metadata": {},
   "source": [
    "## Exercise 3:\n",
    "### If you have time, after tokenizing the dataset try training Bag-of-Words model on it and report your initial results\n",
    "### on validation set."
   ]
  },
  {
   "cell_type": "code",
   "execution_count": null,
   "metadata": {},
   "outputs": [],
   "source": []
  }
 ],
 "metadata": {
  "anaconda-cloud": {},
  "kernelspec": {
   "display_name": "Python 3",
   "language": "python",
   "name": "python3"
  },
  "language_info": {
   "codemirror_mode": {
    "name": "ipython",
    "version": 3
   },
   "file_extension": ".py",
   "mimetype": "text/x-python",
   "name": "python",
   "nbconvert_exporter": "python",
   "pygments_lexer": "ipython3",
   "version": "3.6.4"
  }
 },
 "nbformat": 4,
 "nbformat_minor": 1
}
